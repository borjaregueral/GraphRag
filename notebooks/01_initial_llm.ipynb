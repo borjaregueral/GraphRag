{
 "cells": [
  {
   "cell_type": "code",
   "execution_count": 1,
   "metadata": {},
   "outputs": [],
   "source": [
    "from langchain_ollama import OllamaLLM\n",
    "from langchain.chains import RetrievalQA\n",
    "from langchain.prompts import PromptTemplate\n",
    "from langchain_community.embeddings.fastembed import FastEmbedEmbeddings\n",
    "from langchain.vectorstores import Chroma\n",
    "import pandas as pd\n",
    "from langchain.text_splitter import RecursiveCharacterTextSplitter"
   ]
  },
  {
   "cell_type": "code",
   "execution_count": 2,
   "metadata": {},
   "outputs": [],
   "source": [
    "# Load data\n",
    "metadata_df = pd.read_csv('/Users/borja/Documents/Somniumrema/projects/genai/grag/data/acquired_metadata.csv')\n",
    "with open('/Users/borja/Documents/Somniumrema/projects/genai/grag/data/acquired_transcripts_all.txt', 'r') as f:\n",
    "    text_data = f.read()"
   ]
  },
  {
   "cell_type": "code",
   "execution_count": 3,
   "metadata": {},
   "outputs": [],
   "source": [
    "# Create text splitter with metadata preservation\n",
    "text_splitter = RecursiveCharacterTextSplitter(\n",
    "    chunk_size=1000,\n",
    "    chunk_overlap=100,\n",
    "    separators=[\"\\n\\n\", \"\\n\", \". \", \" \", \"\"]\n",
    ")\n",
    "chunks = text_splitter.create_documents([text_data])"
   ]
  },
  {
   "cell_type": "code",
   "execution_count": 4,
   "metadata": {},
   "outputs": [
    {
     "data": {
      "application/vnd.jupyter.widget-view+json": {
       "model_id": "cb032bac74ed406bb0b079eb137a5604",
       "version_major": 2,
       "version_minor": 0
      },
      "text/plain": [
       "Fetching 5 files:   0%|          | 0/5 [00:00<?, ?it/s]"
      ]
     },
     "metadata": {},
     "output_type": "display_data"
    }
   ],
   "source": [
    "# Initialize embeddings\n",
    "embeddings = FastEmbedEmbeddings(\n",
    "    model_name=\"sentence-transformers/all-MiniLM-L6-v2\",\n",
    "    cache_folder=\"./model_cache\"\n",
    ")"
   ]
  },
  {
   "cell_type": "code",
   "execution_count": null,
   "metadata": {},
   "outputs": [
    {
     "name": "stderr",
     "output_type": "stream",
     "text": [
      "/var/folders/2y/86y88mmd2x9cnkf1hhh3q8l00000gn/T/ipykernel_51220/1321785402.py:8: LangChainDeprecationWarning: Since Chroma 0.4.x the manual persistence method is no longer supported as docs are automatically persisted.\n",
      "  db.persist()\n"
     ]
    }
   ],
   "source": [
    "# Create ChromaDB with metadata\n",
    "db = Chroma.from_documents(\n",
    "    documents=chunks,\n",
    "    embedding=embeddings,\n",
    "    persist_directory=\"./chroma_db\",\n",
    "    collection_metadata={\"hnsw:space\": \"cosine\"}\n",
    ")"
   ]
  },
  {
   "cell_type": "code",
   "execution_count": 6,
   "metadata": {},
   "outputs": [],
   "source": [
    "# Enhanced RAG prompt\n",
    "prompt_template = PromptTemplate(\n",
    "    input_variables=[\"context\", \"question\"],\n",
    "    template=\"\"\"\n",
    "    Based on the provided context from Acquired podcast transcripts, please answer the question.\n",
    "    Be specific and cite examples when possible.\n",
    "    \n",
    "    Context: {context}\n",
    "    Question: {question}\n",
    "    \n",
    "    Detailed answer:\n",
    "    \"\"\"\n",
    ")"
   ]
  },
  {
   "cell_type": "code",
   "execution_count": 7,
   "metadata": {},
   "outputs": [],
   "source": [
    "# Initialize QA chain\n",
    "llm = OllamaLLM(model=\"llama3.2\")\n",
    "qa = RetrievalQA.from_chain_type(\n",
    "    llm=llm,\n",
    "    chain_type=\"stuff\",\n",
    "    retriever=db.as_retriever(\n",
    "        search_kwargs={\"k\": 4}\n",
    "    ),\n",
    "    return_source_documents=True,\n",
    "    chain_type_kwargs={\"prompt\": prompt_template}\n",
    ")"
   ]
  },
  {
   "cell_type": "code",
   "execution_count": 8,
   "metadata": {},
   "outputs": [],
   "source": [
    "# Example query\n",
    "response = qa.invoke({\n",
    "    \"query\": \"When did Airbnb go public, what was the price per share?\"\n",
    "})\n"
   ]
  },
  {
   "cell_type": "code",
   "execution_count": 9,
   "metadata": {},
   "outputs": [
    {
     "data": {
      "text/plain": [
       "{'query': 'When did Airbnb go public, what was the price per share?',\n",
       " 'result': 'Airbnb went public on December 10, 2020. The IPO price was $68 per share, and the initial public offering (IPO) raised $3.5 billion for the company. According to Yahoo Finance, the stock opened at $146 a share and later reached $159 a share, resulting in a significant increase of over 100% from the IPO price.',\n",
       " 'source_documents': [Document(metadata={}, page_content='.  Ben: Close to it.  David: For the year, Airbnb is down in growth by 39%. They filed their S1, and then last night, on December 9, 2020, they priced the IPO at $68 a share and upraising $3.5 billion at a $47 billion market cap.  Ben: Big, man. That Silver Lake investment at $18 billion just six, eight months ago looks like a genius move.  David: Indeed. What did we say? We said they priced at $68 a share. Got Yahoo Finance pulled up here. Who’s currently trading.  Ben: I see it in the Acquired Slack. People are buzzing about it.  David: You want the live reaction.  Ben: Oh my god. Opens up $146 a share at $159 a share now.  David: Yeah. Up over 100%. Ben: I was expecting some kind of pop. Now they’re valued at over $100 billion? David: Yeah. That would imply they’re valued at over $100 billion.  Ben: Wow. This company hovered at $30-ish billion for a while. And then the pandemic'),\n",
       "  Document(metadata={}, page_content='.  Ben: Close to it.  David: For the year, Airbnb is down in growth by 39%. They filed their S1, and then last night, on December 9, 2020, they priced the IPO at $68 a share and upraising $3.5 billion at a $47 billion market cap.  Ben: Big, man. That Silver Lake investment at $18 billion just six, eight months ago looks like a genius move.  David: Indeed. What did we say? We said they priced at $68 a share. Got Yahoo Finance pulled up here. Who’s currently trading.  Ben: I see it in the Acquired Slack. People are buzzing about it.  David: You want the live reaction.  Ben: Oh my god. Opens up $146 a share at $159 a share now.  David: Yeah. Up over 100%. Ben: I was expecting some kind of pop. Now they’re valued at over $100 billion? David: Yeah. That would imply they’re valued at over $100 billion.  Ben: Wow. This company hovered at $30-ish billion for a while. And then the pandemic'),\n",
       "  Document(metadata={}, page_content='to be a 22nd Century company, but it definitely means they’re not going public any time soon. Which I think was the message behind all that.  Ben: It sounds like Brian likely didn’t appreciate any of the push back or guidance he was getting around IPO readiness or whatever the opinions were of the CFO and other finance leaders who would come in afterward. David: Yup, indeed. That starts off a whole cycle of speculation in the press internally, externally about when is Airbnb going public, will they go public, at what valuation, what is happening? Because, of course, they had raised all of this money from Sequoia and others, and it’s hard to have an infinite time horizon when you have investors with fund life cycles.  Ben: I texted David a month and a half ago. I was like, dude, I think Airbnb is going to IPO before the end of the year. And you’re like, okay. I’ll believe it when I see it. Heard this story before. David: We’ve heard it before, but they actually do. We’ll get into the'),\n",
       "  Document(metadata={}, page_content='. David: Yup, indeed. That starts off a whole cycle of speculation in the press internally, externally about when is Airbnb going public, will they go public, at what valuation, what is happening? Because, of course, they had raised all of this money from Sequoia and others, and it’s hard to have an infinite time horizon when you have investors with fund life cycles.  Ben: I texted David a month and a half ago. I was like, dude, I think Airbnb is going to IPO before the end of the year. And you’re like, okay. I’ll believe it when I see it. Heard this story before. David: We’ve heard it before, but they actually do. We’ll get into the story of this happening and why it’s happening now. The reality that we’ve talked about—this 3x [...] so many of our stories. The first act here of Airbnb, this crazy thing, almost didn’t happen, but it was a great idea, gets into YC, grows and grows and grows')]}"
      ]
     },
     "execution_count": 9,
     "metadata": {},
     "output_type": "execute_result"
    }
   ],
   "source": [
    "response"
   ]
  }
 ],
 "metadata": {
  "kernelspec": {
   "display_name": "grag-EOKyDehK-py3.12",
   "language": "python",
   "name": "python3"
  },
  "language_info": {
   "codemirror_mode": {
    "name": "ipython",
    "version": 3
   },
   "file_extension": ".py",
   "mimetype": "text/x-python",
   "name": "python",
   "nbconvert_exporter": "python",
   "pygments_lexer": "ipython3",
   "version": "3.12.4"
  }
 },
 "nbformat": 4,
 "nbformat_minor": 2
}
