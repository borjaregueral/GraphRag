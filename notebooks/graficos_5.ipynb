{
 "cells": [
  {
   "cell_type": "code",
   "execution_count": 3,
   "metadata": {},
   "outputs": [],
   "source": [
    "import polars as pl"
   ]
  },
  {
   "cell_type": "code",
   "execution_count": 4,
   "metadata": {},
   "outputs": [
    {
     "data": {
      "text/html": [
       "<div><style>\n",
       ".dataframe > thead > tr,\n",
       ".dataframe > tbody > tr {\n",
       "  text-align: right;\n",
       "  white-space: pre-wrap;\n",
       "}\n",
       "</style>\n",
       "<small>shape: (1, 5)</small><table border=\"1\" class=\"dataframe\"><thead><tr><th>question_number</th><th>question</th><th>answer</th><th>retrieval_result</th><th>context</th></tr><tr><td>i64</td><td>str</td><td>str</td><td>list[str]</td><td>str</td></tr></thead><tbody><tr><td>1</td><td>&quot;When did Airbnb go public, wha…</td><td>&quot;According to the context, Airb…</td><td>[&quot;The text discusses the founding story of Airbnb, focusing on the friendship and collaboration between Joe and Brian, who met at RISD. Joe sends Brian a CritBun, symbolizing their decision to start a company together. Brian moves to San Francisco to join Joe and their roommate Nate, a programmer. The trio faces financial challenges and decides to leverage the high demand for accommodations during the World Design Congress in San Francisco to start a business. This event leads to the inception of Airbnb, which revolutionizes the concept of peer-to-peer lodging. The text also touches on the growth and impact of Airbnb, including its IPO and global reach.&quot;, &quot;The text describes the early days of Airbnb, focusing on how the founders, Joe and Brian, came up with the idea and their initial struggles to get the business off the ground. They started by offering air mattresses in their apartment during a design conference in San Francisco, which led to the creation of AirBed and Breakfast. The founders faced challenges in raising funds and initially struggled to attract users. They eventually found success by leveraging events like South by Southwest and the presidential conventions to gain bookings. The text also mentions their involvement with Y Combinator and their creative marketing tactics, such as creating Obama O&#x27;s and Cap&#x27;n McCain&#x27;s cereals.&quot;, … &quot;The text discusses various aspects of Airbnb&#x27;s business model, including the ease of switching for consumers, different types of marketplaces, revenue generation, and profitability. It also touches on the value created for hosts and guests, the impact on housing supply and prices, and challenges such as host consistency and quality issues. The text raises concerns about host churn and the potential negative effects of Airbnb&#x27;s business model on housing markets.&quot;]</td><td>&quot;Similarly for gifts, it&#x27;s a li…</td></tr></tbody></table></div>"
      ],
      "text/plain": [
       "shape: (1, 5)\n",
       "┌─────────────────┬────────────────────┬───────────────────┬───────────────────┬───────────────────┐\n",
       "│ question_number ┆ question           ┆ answer            ┆ retrieval_result  ┆ context           │\n",
       "│ ---             ┆ ---                ┆ ---               ┆ ---               ┆ ---               │\n",
       "│ i64             ┆ str                ┆ str               ┆ list[str]         ┆ str               │\n",
       "╞═════════════════╪════════════════════╪═══════════════════╪═══════════════════╪═══════════════════╡\n",
       "│ 1               ┆ When did Airbnb go ┆ According to the  ┆ [\"The text        ┆ Similarly for     │\n",
       "│                 ┆ public, wha…       ┆ context, Airb…    ┆ discusses the     ┆ gifts, it's a li… │\n",
       "│                 ┆                    ┆                   ┆ found…            ┆                   │\n",
       "└─────────────────┴────────────────────┴───────────────────┴───────────────────┴───────────────────┘"
      ]
     },
     "execution_count": 4,
     "metadata": {},
     "output_type": "execute_result"
    }
   ],
   "source": [
    "res = pl.read_parquet(\"/Users/borja/Documents/Somniumrema/projects/genai/grag/pipeline_outcomes/df_results_rerank.parquet\")\n",
    "\n",
    "\n",
    "# Increment 'question_number' by 1\n",
    "res = res.with_columns(\n",
    "    (pl.col(\"question_number\") - 1).alias(\"question_number\")\n",
    ")\n",
    "\n",
    "# Display the updated DataFrame\n",
    "res.head(1)"
   ]
  },
  {
   "cell_type": "code",
   "execution_count": 5,
   "metadata": {},
   "outputs": [],
   "source": [
    "res = res.rename({\n",
    "    \"question_number\": \"numero_pregunta\",\n",
    "    \"question\": \"pregunta\",\n",
    "    \"answer\": \"respuesta\",\n",
    "})"
   ]
  },
  {
   "cell_type": "code",
   "execution_count": 6,
   "metadata": {},
   "outputs": [
    {
     "name": "stdout",
     "output_type": "stream",
     "text": [
      "\n",
      "Filtered DataFrame:\n"
     ]
    },
    {
     "data": {
      "text/html": [
       "<div><style>\n",
       ".dataframe > thead > tr,\n",
       ".dataframe > tbody > tr {\n",
       "  text-align: right;\n",
       "  white-space: pre-wrap;\n",
       "}\n",
       "</style>\n",
       "<small>shape: (1, 5)</small><table border=\"1\" class=\"dataframe\"><thead><tr><th>numero_pregunta</th><th>pregunta</th><th>respuesta</th><th>retrieval_result</th><th>context</th></tr><tr><td>i64</td><td>str</td><td>str</td><td>list[str]</td><td>str</td></tr></thead><tbody><tr><td>15</td><td>&quot;What boots and jacket we often…</td><td>&quot;I apologize, but I don&#x27;t see a…</td><td>[&quot;The text discusses the story of Amazon and its founder, Jeff Bezos. It mentions the importance of focusing on what you can excel at, surrounding yourself with people you admire, and the impact of working with those you love. The text also touches on the history of Amazon, Jeff Bezos&#x27; background, and the influence of his family on his life. Additionally, it highlights the launch of an Acquired merch store, an interview with Austin Federa from the Solana Foundation, and the Fundrise Innovation Fund. The text provides insights into the growth and success of Amazon, as well as the significance of key individuals and events in its history.&quot;, &quot;The text discusses the early life and career of Jeff Bezos, focusing on his family background, education, and early work experiences. It highlights key moments such as his adoption by Mike Bezos, his upbringing in Houston during the Apollo era, and his education at Princeton University. The text also delves into Bezos&#x27; early career, including his work at startups and in finance, leading up to his pivotal role at D. E. Shaw &amp; Co., a quant hedge fund. The narrative emphasizes Bezos&#x27; entrepreneurial spirit, his connection to technology and finance, and his rapid rise within the industry.&quot;, … &quot;The text discusses Amazon&#x27;s history, including its failures and successes, comparing it to other successful companies like SpaceX and Tesla. It highlights Amazon&#x27;s ability to learn from failures and make bold investment decisions. The text also touches on Jeff Bezos&#x27; approach to customer focus and competitor focus, as well as Amazon&#x27;s survival during the dot-com crash. The text concludes with a discussion on grading Amazon&#x27;s performance up to 2007, giving it an A+ for its execution and survival through challenging times. Additionally, the text includes recommendations for the Rick Rubin episode on the Lex Friedman podcast, books by Ursula Le Guin, the album &quot;My Beautiful Dark Twisted Fantasy&quot; by Kanye West, and the video game Elden Ring.&quot;]</td><td>&quot;I think a lot of times, people…</td></tr></tbody></table></div>"
      ],
      "text/plain": [
       "shape: (1, 5)\n",
       "┌─────────────────┬────────────────────┬───────────────────┬───────────────────┬───────────────────┐\n",
       "│ numero_pregunta ┆ pregunta           ┆ respuesta         ┆ retrieval_result  ┆ context           │\n",
       "│ ---             ┆ ---                ┆ ---               ┆ ---               ┆ ---               │\n",
       "│ i64             ┆ str                ┆ str               ┆ list[str]         ┆ str               │\n",
       "╞═════════════════╪════════════════════╪═══════════════════╪═══════════════════╪═══════════════════╡\n",
       "│ 15              ┆ What boots and     ┆ I apologize, but  ┆ [\"The text        ┆ I think a lot of  │\n",
       "│                 ┆ jacket we often…   ┆ I don't see a…    ┆ discusses the     ┆ times, people…    │\n",
       "│                 ┆                    ┆                   ┆ story…            ┆                   │\n",
       "└─────────────────┴────────────────────┴───────────────────┴───────────────────┴───────────────────┘"
      ]
     },
     "execution_count": 6,
     "metadata": {},
     "output_type": "execute_result"
    }
   ],
   "source": [
    "# Filter out rows where 'response' contains \"I don't know\" (case-insensitive)\n",
    "filtered_df = res.filter(\n",
    "    pl.col(\"respuesta\").str.contains(\"I don't know\", literal=False) |\n",
    "    pl.col(\"respuesta\").str.contains(\"I don't have enough\", literal=False) |\n",
    "    pl.col(\"respuesta\").str.contains(\"I don't see any \", literal=False) |\n",
    "    pl.col(\"respuesta\").str.contains(\"I don't have the information\", literal=False) \n",
    ")\n",
    "\n",
    "# Display the filtered DataFrame\n",
    "print(\"\\nFiltered DataFrame:\")\n",
    "filtered_df"
   ]
  },
  {
   "cell_type": "code",
   "execution_count": 33,
   "metadata": {},
   "outputs": [],
   "source": [
    "quality = pl.read_csv(\"/Users/borja/Documents/Somniumrema/projects/genai/grag/pipeline_outcomes/quality_results_vrerank2.csv\")\n",
    "\n",
    "quality = quality.rename({\n",
    "    \"row_number\": \"numero_pregunta\",\n",
    "    \"question\": \"pregunta\",\n",
    "    \"answer\": \"respuesta\",\n",
    "    \"coherence_score\": \"coherencia\",\n",
    "    \"answer_relevancy_score\": \"relevancia\",\n",
    "})"
   ]
  },
  {
   "cell_type": "code",
   "execution_count": 54,
   "metadata": {},
   "outputs": [
    {
     "data": {
      "text/html": [
       "<div><style>\n",
       ".dataframe > thead > tr,\n",
       ".dataframe > tbody > tr {\n",
       "  text-align: right;\n",
       "  white-space: pre-wrap;\n",
       "}\n",
       "</style>\n",
       "<small>shape: (2, 6)</small><table border=\"1\" class=\"dataframe\"><thead><tr><th>numero_pregunta</th><th>pregunta</th><th>respuesta</th><th>coherencia</th><th>faithfulness_score</th><th>relevancia</th></tr><tr><td>i64</td><td>str</td><td>str</td><td>f64</td><td>f64</td><td>f64</td></tr></thead><tbody><tr><td>9</td><td>&quot;What is American Crown Jewel?&quot;</td><td>&quot;The exact information about &quot;A…</td><td>0.139735</td><td>1.0</td><td>1.0</td></tr><tr><td>28</td><td>&quot;can you tell me total number o…</td><td>&quot;The exact number of people wor…</td><td>0.139167</td><td>1.0</td><td>1.0</td></tr></tbody></table></div>"
      ],
      "text/plain": [
       "shape: (2, 6)\n",
       "┌─────────────────┬────────────────────┬─────────────┬────────────┬───────────────────┬────────────┐\n",
       "│ numero_pregunta ┆ pregunta           ┆ respuesta   ┆ coherencia ┆ faithfulness_scor ┆ relevancia │\n",
       "│ ---             ┆ ---                ┆ ---         ┆ ---        ┆ e                 ┆ ---        │\n",
       "│ i64             ┆ str                ┆ str         ┆ f64        ┆ ---               ┆ f64        │\n",
       "│                 ┆                    ┆             ┆            ┆ f64               ┆            │\n",
       "╞═════════════════╪════════════════════╪═════════════╪════════════╪═══════════════════╪════════════╡\n",
       "│ 9               ┆ What is American   ┆ The exact   ┆ 0.139735   ┆ 1.0               ┆ 1.0        │\n",
       "│                 ┆ Crown Jewel?       ┆ information ┆            ┆                   ┆            │\n",
       "│                 ┆                    ┆ about \"A…   ┆            ┆                   ┆            │\n",
       "│ 28              ┆ can you tell me    ┆ The exact   ┆ 0.139167   ┆ 1.0               ┆ 1.0        │\n",
       "│                 ┆ total number o…    ┆ number of   ┆            ┆                   ┆            │\n",
       "│                 ┆                    ┆ people wor… ┆            ┆                   ┆            │\n",
       "└─────────────────┴────────────────────┴─────────────┴────────────┴───────────────────┴────────────┘"
      ]
     },
     "execution_count": 54,
     "metadata": {},
     "output_type": "execute_result"
    }
   ],
   "source": [
    "quality.filter(pl.col(\"coherencia\") < 0.14 )"
   ]
  },
  {
   "cell_type": "code",
   "execution_count": 58,
   "metadata": {},
   "outputs": [
    {
     "data": {
      "application/vnd.plotly.v1+json": {
       "config": {
        "plotlyServerURL": "https://plot.ly"
       },
       "data": [
        {
         "marker": {
          "color": [
           "green",
           "red"
          ]
         },
         "type": "bar",
         "x": [
          "CORRECT",
          "INCORRECT"
         ],
         "y": [
          0.9307171904574502,
          0
         ]
        }
       ],
       "layout": {
        "height": 600,
        "margin": {
         "b": 0,
         "l": 0,
         "r": 0,
         "t": 30
        },
        "paper_bgcolor": "rgba(0,0,0,0)",
        "plot_bgcolor": "rgba(0,0,0,0)",
        "showlegend": false,
        "template": {
         "data": {
          "bar": [
           {
            "error_x": {
             "color": "#2a3f5f"
            },
            "error_y": {
             "color": "#2a3f5f"
            },
            "marker": {
             "line": {
              "color": "#E5ECF6",
              "width": 0.5
             },
             "pattern": {
              "fillmode": "overlay",
              "size": 10,
              "solidity": 0.2
             }
            },
            "type": "bar"
           }
          ],
          "barpolar": [
           {
            "marker": {
             "line": {
              "color": "#E5ECF6",
              "width": 0.5
             },
             "pattern": {
              "fillmode": "overlay",
              "size": 10,
              "solidity": 0.2
             }
            },
            "type": "barpolar"
           }
          ],
          "carpet": [
           {
            "aaxis": {
             "endlinecolor": "#2a3f5f",
             "gridcolor": "white",
             "linecolor": "white",
             "minorgridcolor": "white",
             "startlinecolor": "#2a3f5f"
            },
            "baxis": {
             "endlinecolor": "#2a3f5f",
             "gridcolor": "white",
             "linecolor": "white",
             "minorgridcolor": "white",
             "startlinecolor": "#2a3f5f"
            },
            "type": "carpet"
           }
          ],
          "choropleth": [
           {
            "colorbar": {
             "outlinewidth": 0,
             "ticks": ""
            },
            "type": "choropleth"
           }
          ],
          "contour": [
           {
            "colorbar": {
             "outlinewidth": 0,
             "ticks": ""
            },
            "colorscale": [
             [
              0,
              "#0d0887"
             ],
             [
              0.1111111111111111,
              "#46039f"
             ],
             [
              0.2222222222222222,
              "#7201a8"
             ],
             [
              0.3333333333333333,
              "#9c179e"
             ],
             [
              0.4444444444444444,
              "#bd3786"
             ],
             [
              0.5555555555555556,
              "#d8576b"
             ],
             [
              0.6666666666666666,
              "#ed7953"
             ],
             [
              0.7777777777777778,
              "#fb9f3a"
             ],
             [
              0.8888888888888888,
              "#fdca26"
             ],
             [
              1,
              "#f0f921"
             ]
            ],
            "type": "contour"
           }
          ],
          "contourcarpet": [
           {
            "colorbar": {
             "outlinewidth": 0,
             "ticks": ""
            },
            "type": "contourcarpet"
           }
          ],
          "heatmap": [
           {
            "colorbar": {
             "outlinewidth": 0,
             "ticks": ""
            },
            "colorscale": [
             [
              0,
              "#0d0887"
             ],
             [
              0.1111111111111111,
              "#46039f"
             ],
             [
              0.2222222222222222,
              "#7201a8"
             ],
             [
              0.3333333333333333,
              "#9c179e"
             ],
             [
              0.4444444444444444,
              "#bd3786"
             ],
             [
              0.5555555555555556,
              "#d8576b"
             ],
             [
              0.6666666666666666,
              "#ed7953"
             ],
             [
              0.7777777777777778,
              "#fb9f3a"
             ],
             [
              0.8888888888888888,
              "#fdca26"
             ],
             [
              1,
              "#f0f921"
             ]
            ],
            "type": "heatmap"
           }
          ],
          "heatmapgl": [
           {
            "colorbar": {
             "outlinewidth": 0,
             "ticks": ""
            },
            "colorscale": [
             [
              0,
              "#0d0887"
             ],
             [
              0.1111111111111111,
              "#46039f"
             ],
             [
              0.2222222222222222,
              "#7201a8"
             ],
             [
              0.3333333333333333,
              "#9c179e"
             ],
             [
              0.4444444444444444,
              "#bd3786"
             ],
             [
              0.5555555555555556,
              "#d8576b"
             ],
             [
              0.6666666666666666,
              "#ed7953"
             ],
             [
              0.7777777777777778,
              "#fb9f3a"
             ],
             [
              0.8888888888888888,
              "#fdca26"
             ],
             [
              1,
              "#f0f921"
             ]
            ],
            "type": "heatmapgl"
           }
          ],
          "histogram": [
           {
            "marker": {
             "pattern": {
              "fillmode": "overlay",
              "size": 10,
              "solidity": 0.2
             }
            },
            "type": "histogram"
           }
          ],
          "histogram2d": [
           {
            "colorbar": {
             "outlinewidth": 0,
             "ticks": ""
            },
            "colorscale": [
             [
              0,
              "#0d0887"
             ],
             [
              0.1111111111111111,
              "#46039f"
             ],
             [
              0.2222222222222222,
              "#7201a8"
             ],
             [
              0.3333333333333333,
              "#9c179e"
             ],
             [
              0.4444444444444444,
              "#bd3786"
             ],
             [
              0.5555555555555556,
              "#d8576b"
             ],
             [
              0.6666666666666666,
              "#ed7953"
             ],
             [
              0.7777777777777778,
              "#fb9f3a"
             ],
             [
              0.8888888888888888,
              "#fdca26"
             ],
             [
              1,
              "#f0f921"
             ]
            ],
            "type": "histogram2d"
           }
          ],
          "histogram2dcontour": [
           {
            "colorbar": {
             "outlinewidth": 0,
             "ticks": ""
            },
            "colorscale": [
             [
              0,
              "#0d0887"
             ],
             [
              0.1111111111111111,
              "#46039f"
             ],
             [
              0.2222222222222222,
              "#7201a8"
             ],
             [
              0.3333333333333333,
              "#9c179e"
             ],
             [
              0.4444444444444444,
              "#bd3786"
             ],
             [
              0.5555555555555556,
              "#d8576b"
             ],
             [
              0.6666666666666666,
              "#ed7953"
             ],
             [
              0.7777777777777778,
              "#fb9f3a"
             ],
             [
              0.8888888888888888,
              "#fdca26"
             ],
             [
              1,
              "#f0f921"
             ]
            ],
            "type": "histogram2dcontour"
           }
          ],
          "mesh3d": [
           {
            "colorbar": {
             "outlinewidth": 0,
             "ticks": ""
            },
            "type": "mesh3d"
           }
          ],
          "parcoords": [
           {
            "line": {
             "colorbar": {
              "outlinewidth": 0,
              "ticks": ""
             }
            },
            "type": "parcoords"
           }
          ],
          "pie": [
           {
            "automargin": true,
            "type": "pie"
           }
          ],
          "scatter": [
           {
            "fillpattern": {
             "fillmode": "overlay",
             "size": 10,
             "solidity": 0.2
            },
            "type": "scatter"
           }
          ],
          "scatter3d": [
           {
            "line": {
             "colorbar": {
              "outlinewidth": 0,
              "ticks": ""
             }
            },
            "marker": {
             "colorbar": {
              "outlinewidth": 0,
              "ticks": ""
             }
            },
            "type": "scatter3d"
           }
          ],
          "scattercarpet": [
           {
            "marker": {
             "colorbar": {
              "outlinewidth": 0,
              "ticks": ""
             }
            },
            "type": "scattercarpet"
           }
          ],
          "scattergeo": [
           {
            "marker": {
             "colorbar": {
              "outlinewidth": 0,
              "ticks": ""
             }
            },
            "type": "scattergeo"
           }
          ],
          "scattergl": [
           {
            "marker": {
             "colorbar": {
              "outlinewidth": 0,
              "ticks": ""
             }
            },
            "type": "scattergl"
           }
          ],
          "scattermapbox": [
           {
            "marker": {
             "colorbar": {
              "outlinewidth": 0,
              "ticks": ""
             }
            },
            "type": "scattermapbox"
           }
          ],
          "scatterpolar": [
           {
            "marker": {
             "colorbar": {
              "outlinewidth": 0,
              "ticks": ""
             }
            },
            "type": "scatterpolar"
           }
          ],
          "scatterpolargl": [
           {
            "marker": {
             "colorbar": {
              "outlinewidth": 0,
              "ticks": ""
             }
            },
            "type": "scatterpolargl"
           }
          ],
          "scatterternary": [
           {
            "marker": {
             "colorbar": {
              "outlinewidth": 0,
              "ticks": ""
             }
            },
            "type": "scatterternary"
           }
          ],
          "surface": [
           {
            "colorbar": {
             "outlinewidth": 0,
             "ticks": ""
            },
            "colorscale": [
             [
              0,
              "#0d0887"
             ],
             [
              0.1111111111111111,
              "#46039f"
             ],
             [
              0.2222222222222222,
              "#7201a8"
             ],
             [
              0.3333333333333333,
              "#9c179e"
             ],
             [
              0.4444444444444444,
              "#bd3786"
             ],
             [
              0.5555555555555556,
              "#d8576b"
             ],
             [
              0.6666666666666666,
              "#ed7953"
             ],
             [
              0.7777777777777778,
              "#fb9f3a"
             ],
             [
              0.8888888888888888,
              "#fdca26"
             ],
             [
              1,
              "#f0f921"
             ]
            ],
            "type": "surface"
           }
          ],
          "table": [
           {
            "cells": {
             "fill": {
              "color": "#EBF0F8"
             },
             "line": {
              "color": "white"
             }
            },
            "header": {
             "fill": {
              "color": "#C8D4E3"
             },
             "line": {
              "color": "white"
             }
            },
            "type": "table"
           }
          ]
         },
         "layout": {
          "annotationdefaults": {
           "arrowcolor": "#2a3f5f",
           "arrowhead": 0,
           "arrowwidth": 1
          },
          "autotypenumbers": "strict",
          "coloraxis": {
           "colorbar": {
            "outlinewidth": 0,
            "ticks": ""
           }
          },
          "colorscale": {
           "diverging": [
            [
             0,
             "#8e0152"
            ],
            [
             0.1,
             "#c51b7d"
            ],
            [
             0.2,
             "#de77ae"
            ],
            [
             0.3,
             "#f1b6da"
            ],
            [
             0.4,
             "#fde0ef"
            ],
            [
             0.5,
             "#f7f7f7"
            ],
            [
             0.6,
             "#e6f5d0"
            ],
            [
             0.7,
             "#b8e186"
            ],
            [
             0.8,
             "#7fbc41"
            ],
            [
             0.9,
             "#4d9221"
            ],
            [
             1,
             "#276419"
            ]
           ],
           "sequential": [
            [
             0,
             "#0d0887"
            ],
            [
             0.1111111111111111,
             "#46039f"
            ],
            [
             0.2222222222222222,
             "#7201a8"
            ],
            [
             0.3333333333333333,
             "#9c179e"
            ],
            [
             0.4444444444444444,
             "#bd3786"
            ],
            [
             0.5555555555555556,
             "#d8576b"
            ],
            [
             0.6666666666666666,
             "#ed7953"
            ],
            [
             0.7777777777777778,
             "#fb9f3a"
            ],
            [
             0.8888888888888888,
             "#fdca26"
            ],
            [
             1,
             "#f0f921"
            ]
           ],
           "sequentialminus": [
            [
             0,
             "#0d0887"
            ],
            [
             0.1111111111111111,
             "#46039f"
            ],
            [
             0.2222222222222222,
             "#7201a8"
            ],
            [
             0.3333333333333333,
             "#9c179e"
            ],
            [
             0.4444444444444444,
             "#bd3786"
            ],
            [
             0.5555555555555556,
             "#d8576b"
            ],
            [
             0.6666666666666666,
             "#ed7953"
            ],
            [
             0.7777777777777778,
             "#fb9f3a"
            ],
            [
             0.8888888888888888,
             "#fdca26"
            ],
            [
             1,
             "#f0f921"
            ]
           ]
          },
          "colorway": [
           "#636efa",
           "#EF553B",
           "#00cc96",
           "#ab63fa",
           "#FFA15A",
           "#19d3f3",
           "#FF6692",
           "#B6E880",
           "#FF97FF",
           "#FECB52"
          ],
          "font": {
           "color": "#2a3f5f"
          },
          "geo": {
           "bgcolor": "white",
           "lakecolor": "white",
           "landcolor": "#E5ECF6",
           "showlakes": true,
           "showland": true,
           "subunitcolor": "white"
          },
          "hoverlabel": {
           "align": "left"
          },
          "hovermode": "closest",
          "mapbox": {
           "style": "light"
          },
          "paper_bgcolor": "white",
          "plot_bgcolor": "#E5ECF6",
          "polar": {
           "angularaxis": {
            "gridcolor": "white",
            "linecolor": "white",
            "ticks": ""
           },
           "bgcolor": "#E5ECF6",
           "radialaxis": {
            "gridcolor": "white",
            "linecolor": "white",
            "ticks": ""
           }
          },
          "scene": {
           "xaxis": {
            "backgroundcolor": "#E5ECF6",
            "gridcolor": "white",
            "gridwidth": 2,
            "linecolor": "white",
            "showbackground": true,
            "ticks": "",
            "zerolinecolor": "white"
           },
           "yaxis": {
            "backgroundcolor": "#E5ECF6",
            "gridcolor": "white",
            "gridwidth": 2,
            "linecolor": "white",
            "showbackground": true,
            "ticks": "",
            "zerolinecolor": "white"
           },
           "zaxis": {
            "backgroundcolor": "#E5ECF6",
            "gridcolor": "white",
            "gridwidth": 2,
            "linecolor": "white",
            "showbackground": true,
            "ticks": "",
            "zerolinecolor": "white"
           }
          },
          "shapedefaults": {
           "line": {
            "color": "#2a3f5f"
           }
          },
          "ternary": {
           "aaxis": {
            "gridcolor": "white",
            "linecolor": "white",
            "ticks": ""
           },
           "baxis": {
            "gridcolor": "white",
            "linecolor": "white",
            "ticks": ""
           },
           "bgcolor": "#E5ECF6",
           "caxis": {
            "gridcolor": "white",
            "linecolor": "white",
            "ticks": ""
           }
          },
          "title": {
           "x": 0.05
          },
          "xaxis": {
           "automargin": true,
           "gridcolor": "white",
           "linecolor": "white",
           "ticks": "",
           "title": {
            "standoff": 15
           },
           "zerolinecolor": "white",
           "zerolinewidth": 2
          },
          "yaxis": {
           "automargin": true,
           "gridcolor": "white",
           "linecolor": "white",
           "ticks": "",
           "title": {
            "standoff": 15
           },
           "zerolinecolor": "white",
           "zerolinewidth": 2
          }
         }
        },
        "title": {
         "text": "Media de Relevancia por Respuesta"
        },
        "width": 1200,
        "xaxis": {
         "showgrid": false,
         "title": {
          "text": "Respuesta"
         }
        },
        "yaxis": {
         "showgrid": false,
         "title": {
          "text": "Relevancia"
         },
         "zeroline": true
        }
       }
      }
     },
     "metadata": {},
     "output_type": "display_data"
    }
   ],
   "source": [
    "import plotly.graph_objects as go\n",
    "\n",
    "# Calculate mean coherence for correct and incorrect answers\n",
    "correct_mean = quality.filter(\n",
    "    ~pl.col(\"numero_pregunta\").is_in([14, 15, 44])\n",
    ")[\"relevancia\"].mean()\n",
    "\n",
    "# Filter out rows where 'response' contains \"I don't know\" (case-insensitive)\n",
    "incorrect_mean = quality.filter(\n",
    "    pl.col(\"numero_pregunta\").is_in([14, 15, 44])\n",
    ")[\"relevancia\"].mean()\n",
    "\n",
    "# Create figure\n",
    "fig = go.Figure()\n",
    "\n",
    "# Add bars for mean coherence\n",
    "fig.add_trace(\n",
    "    go.Bar(\n",
    "        x=['CORRECT', 'INCORRECT'],\n",
    "        y=[correct_mean, incorrect_mean],\n",
    "        marker_color=['green', 'red']\n",
    "    )\n",
    ")\n",
    "\n",
    "\n",
    "\n",
    "# Update layout\n",
    "fig.update_layout(\n",
    "    width=1200,  # Adjust width as needed\n",
    "    height=600,  # Adjust height as needed\n",
    "    title_text=\"Media de Relevancia por Respuesta\",\n",
    "    yaxis_title=\"Relevancia\",\n",
    "    xaxis_title=\"Respuesta\",\n",
    "    plot_bgcolor='rgba(0,0,0,0)',\n",
    "    paper_bgcolor='rgba(0,0,0,0)',\n",
    "    margin=dict(l=0, r=0, t=30, b=0),\n",
    "    showlegend=False\n",
    ")\n",
    "\n",
    "# Remove gridlines\n",
    "fig.update_xaxes(showgrid=False)\n",
    "fig.update_yaxes(showgrid=False, zeroline=True)\n",
    "\n",
    "# Show the plot\n",
    "fig.show()"
   ]
  },
  {
   "cell_type": "code",
   "execution_count": 8,
   "metadata": {},
   "outputs": [],
   "source": [
    "results_1 = pl.read_parquet(\"/Users/borja/Documents/Somniumrema/projects/genai/grag/pipeline_outcomes/df_results_sistema5.parquet\")"
   ]
  },
  {
   "cell_type": "code",
   "execution_count": 11,
   "metadata": {},
   "outputs": [],
   "source": [
    "results_1\n",
    "\n",
    "results_1 = results_1.rename({\n",
    "    \"question_number\": \"numero_pregunta\",\n",
    "    \"question\": \"pregunta\",\n",
    "    \"answer\": \"respuesta\",\n",
    "    \"query_time\": \"tiempo_computación\"\n",
    "})"
   ]
  },
  {
   "cell_type": "code",
   "execution_count": 14,
   "metadata": {},
   "outputs": [
    {
     "data": {
      "text/html": [
       "<div><style>\n",
       ".dataframe > thead > tr,\n",
       ".dataframe > tbody > tr {\n",
       "  text-align: right;\n",
       "  white-space: pre-wrap;\n",
       "}\n",
       "</style>\n",
       "<small>shape: (80, 6)</small><table border=\"1\" class=\"dataframe\"><thead><tr><th>numero_pregunta</th><th>pregunta</th><th>respuesta</th><th>retrieval_result</th><th>context</th><th>tiempo_computación</th></tr><tr><td>i64</td><td>str</td><td>str</td><td>list[str]</td><td>str</td><td>f64</td></tr></thead><tbody><tr><td>2</td><td>&quot;When did Airbnb go public, wha…</td><td>&quot;Airbnb went public on December…</td><td>[&quot;The text discusses the founding story of Airbnb, focusing on the friendship and collaboration between Joe and Brian, who met at RISD. Joe sends Brian a CritBun, symbolizing their decision to start a company together. Brian moves to San Francisco to join Joe and their roommate Nate, a programmer. The trio faces financial challenges and decides to leverage the high demand for accommodations during the World Design Congress in San Francisco to start a business. This event leads to the inception of Airbnb, which revolutionizes the concept of peer-to-peer lodging. The text also touches on the growth and impact of Airbnb, including its IPO and global reach.&quot;, &quot;The text describes the early days of Airbnb, focusing on how the founders, Joe and Brian, came up with the idea and their initial struggles to get the business off the ground. They started by offering air mattresses in their apartment during a design conference in San Francisco, which led to the creation of AirBed and Breakfast. The founders faced challenges in raising funds and initially struggled to attract users. They eventually found success by leveraging events like South by Southwest and the presidential conventions to gain bookings. The text also mentions their involvement with Y Combinator and their creative marketing tactics, such as creating Obama O&#x27;s and Cap&#x27;n McCain&#x27;s cereals.&quot;, … &quot;The text discusses various aspects of Airbnb&#x27;s business model, including the ease of switching for consumers, different types of marketplaces, revenue generation, and profitability. It also touches on the value created for hosts and guests, the impact on housing supply and prices, and challenges such as host consistency and quality issues. The text raises concerns about host churn and the potential negative effects of Airbnb&#x27;s business model on housing markets.&quot;]</td><td>&quot;Similarly for gifts, it&#x27;s a li…</td><td>6.588006</td></tr><tr><td>3</td><td>&quot;Why did Wimdu unlike Airbnb no…</td><td>&quot;Wimdu, a competitor to Airbnb,…</td><td>[&quot;The text discusses the founding story of Airbnb, focusing on the friendship and collaboration between Joe and Brian, who met at RISD. Joe sends Brian a CritBun, symbolizing their decision to start a company together. Brian moves to San Francisco to join Joe and their roommate Nate, a programmer. The trio faces financial challenges and decides to leverage the high demand for accommodations during the World Design Congress in San Francisco to start a business. This event leads to the inception of Airbnb, which revolutionizes the concept of peer-to-peer lodging. The text also touches on the growth and impact of Airbnb, including its IPO and global reach.&quot;, &quot;The text describes the early days of Airbnb, focusing on how the founders, Joe and Brian, came up with the idea and their initial struggles to get the business off the ground. They started by offering air mattresses in their apartment during a design conference in San Francisco, which led to the creation of AirBed and Breakfast. The founders faced challenges in raising funds and initially struggled to attract users. They eventually found success by leveraging events like South by Southwest and the presidential conventions to gain bookings. The text also mentions their involvement with Y Combinator and their creative marketing tactics, such as creating Obama O&#x27;s and Cap&#x27;n McCain&#x27;s cereals.&quot;, … &quot;The text discusses various aspects of Airbnb&#x27;s business model, including the ease of switching for consumers, different types of marketplaces, revenue generation, and profitability. It also touches on the value created for hosts and guests, the impact on housing supply and prices, and challenges such as host consistency and quality issues. The text raises concerns about host churn and the potential negative effects of Airbnb&#x27;s business model on housing markets.&quot;]</td><td>&quot;Similarly for gifts, it&#x27;s a li…</td><td>10.338757</td></tr><tr><td>4</td><td>&quot;Why does market fragmentation …</td><td>&quot;Market fragmentation works for…</td><td>[&quot;The text discusses the founding story of Airbnb, focusing on the friendship and collaboration between Joe and Brian, who met at RISD. Joe sends Brian a CritBun, symbolizing their decision to start a company together. Brian moves to San Francisco to join Joe and their roommate Nate, a programmer. The trio faces financial challenges and decides to leverage the high demand for accommodations during the World Design Congress in San Francisco to start a business. This event leads to the inception of Airbnb, which revolutionizes the concept of peer-to-peer lodging. The text also touches on the growth and impact of Airbnb, including its IPO and global reach.&quot;, &quot;The text describes the early days of Airbnb, focusing on how the founders, Joe and Brian, came up with the idea and their initial struggles to get the business off the ground. They started by offering air mattresses in their apartment during a design conference in San Francisco, which led to the creation of AirBed and Breakfast. The founders faced challenges in raising funds and initially struggled to attract users. They eventually found success by leveraging events like South by Southwest and the presidential conventions to gain bookings. The text also mentions their involvement with Y Combinator and their creative marketing tactics, such as creating Obama O&#x27;s and Cap&#x27;n McCain&#x27;s cereals.&quot;, … &quot;The text discusses various aspects of Airbnb&#x27;s business model, including the ease of switching for consumers, different types of marketplaces, revenue generation, and profitability. It also touches on the value created for hosts and guests, the impact on housing supply and prices, and challenges such as host consistency and quality issues. The text raises concerns about host churn and the potential negative effects of Airbnb&#x27;s business model on housing markets.&quot;]</td><td>&quot;Similarly for gifts, it&#x27;s a li…</td><td>12.274992</td></tr><tr><td>5</td><td>&quot;How many hot dogs does Costco …</td><td>&quot;Costco sells 130 million hot d…</td><td>[&quot;The text discusses the admiration for Costco&#x27;s business model and the company&#x27;s success over the years. It highlights Costco&#x27;s ability to offer extreme value, high-quality products, and low prices through clever innovations. The text also delves into the history of Costco, tracing back to its predecessor companies like Price Club and FedMart. It provides insights into the life of Sol Price, a key figure in the development of the retail industry, and his role in founding FedMart, which later evolved into Costco. The text emphasizes Sol&#x27;s principled approach to business and his influence on modern American retailing.&quot;, &quot;The text discusses the history of Fedco, a non-profit membership-based store that became popular among government employees in the LA area. It details how Fedco expanded to San Diego as FedMart, a for-profit company, and scaled nationally. The text highlights the business principles of Sol Price, the founder, including providing value to customers, paying good wages, maintaining honest practices, and making money for investors. It also explores the trade-offs between FedMart/Costco and other retailers, such as not using loss leaders and offering higher wages to employees. The text emphasizes the low employee turnover, loyalty, and internal promotions at Costco, which originated from FedMart&#x27;s practices. Additionally, it mentions how FedMart introduced house brands, added services like gasoline and pharmacy, and developed retail management philosophies. The text concludes with FedMart&#x27;s need for capital and eventual sale, leading to the birth of Costco.&quot;, … &quot;Costco is a $250 billion market cap company known for its noble culture and successful business model. They have never done a layoff and have managed to merge companies without job cuts. The company&#x27;s stock has seen significant growth over the years, with a 330X return for early investors. Costco&#x27;s success is attributed to its unique approach to business, customer loyalty, and global expansion plans, particularly in China. The company&#x27;s ecommerce strategy focuses on offering value to members without compromising its core business model. Costco&#x27;s strong culture and leadership have contributed to its enduring success over the years.&quot;]</td><td>&quot;I don&#x27;t think I have ever been…</td><td>9.486982</td></tr><tr><td>6</td><td>&quot;What store was created as &quot;the…</td><td>&quot;The store that was created as …</td><td>[&quot;The text discusses the admiration for Costco&#x27;s business model and the company&#x27;s success over the years. It highlights Costco&#x27;s ability to offer extreme value, high-quality products, and low prices through clever innovations. The text also delves into the history of Costco, tracing back to its predecessor companies like Price Club and FedMart. It provides insights into the life of Sol Price, a key figure in the development of the retail industry, and his role in founding FedMart, which later evolved into Costco. The text emphasizes Sol&#x27;s principled approach to business and his influence on modern American retailing.&quot;, &quot;The text discusses the history of Fedco, a non-profit membership-based store that became popular among government employees in the LA area. It details how Fedco expanded to San Diego as FedMart, a for-profit company, and scaled nationally. The text highlights the business principles of Sol Price, the founder, including providing value to customers, paying good wages, maintaining honest practices, and making money for investors. It also explores the trade-offs between FedMart/Costco and other retailers, such as not using loss leaders and offering higher wages to employees. The text emphasizes the low employee turnover, loyalty, and internal promotions at Costco, which originated from FedMart&#x27;s practices. Additionally, it mentions how FedMart introduced house brands, added services like gasoline and pharmacy, and developed retail management philosophies. The text concludes with FedMart&#x27;s need for capital and eventual sale, leading to the birth of Costco.&quot;, … &quot;Costco is a $250 billion market cap company known for its noble culture and successful business model. They have never done a layoff and have managed to merge companies without job cuts. The company&#x27;s stock has seen significant growth over the years, with a 330X return for early investors. Costco&#x27;s success is attributed to its unique approach to business, customer loyalty, and global expansion plans, particularly in China. The company&#x27;s ecommerce strategy focuses on offering value to members without compromising its core business model. Costco&#x27;s strong culture and leadership have contributed to its enduring success over the years.&quot;]</td><td>&quot;I don&#x27;t think I have ever been…</td><td>7.518739</td></tr><tr><td>&hellip;</td><td>&hellip;</td><td>&hellip;</td><td>&hellip;</td><td>&hellip;</td><td>&hellip;</td></tr><tr><td>77</td><td>&quot;How did Enron remove investmen…</td><td>&quot;Enron removed investments from…</td><td>[&quot;The text discusses Qualcomm&#x27;s business model, focusing on its success in the past decade and the need for correct growth strategies in the future, particularly in IoT, automotive, and the intelligent connected edge. It highlights Qualcomm&#x27;s reliance on patents and trade secrets for revenue, its success in navigating the patent system, and the importance of its licensing business for funding R&amp;D. The text also touches on the regulatory environment, Qualcomm&#x27;s venture capital pitch, and the company&#x27;s unique position in the technology industry. Additionally, it briefly mentions Enron&#x27;s rise and fall as a cautionary tale.&quot;, &quot;The text discusses the story of Ken Lay, who was a key figure in the Enron scandal. Lay started his career in the energy industry during the deregulation of the 1970s and 1980s. He made significant contributions by pioneering a trading market for oil and gas assets at Transco Energy in Houston. This innovation allowed for the creation of a spot market for energy, which was a major success. Lay&#x27;s background as a PhD economist and his experience in both government and industry positioned him as a respected figure in the energy sector.&quot;, … &quot;The text discusses various themes related to financial leverage, Enron&#x27;s downfall, the behavior of key figures like Fastow, Lay, and Skilling, the impact of Sarbanes-Oxley, and the implications for companies staying private longer. It also touches on the complexity of public versus private markets, the incentives driving decision-making, and the challenges faced by regulators in addressing fraudulent activities.&quot;]</td><td>&quot;The bull case, maybe the lawsu…</td><td>9.028351</td></tr><tr><td>78</td><td>&quot;The fall of Enron is similar t…</td><td>&quot;The fall of Enron is similar t…</td><td>[&quot;The text discusses Qualcomm&#x27;s business model, focusing on its success in the past decade and the need for correct growth strategies in the future, particularly in IoT, automotive, and the intelligent connected edge. It highlights Qualcomm&#x27;s reliance on patents and trade secrets for revenue, its success in navigating the patent system, and the importance of its licensing business for funding R&amp;D. The text also touches on the regulatory environment, Qualcomm&#x27;s venture capital pitch, and the company&#x27;s unique position in the technology industry. Additionally, it briefly mentions Enron&#x27;s rise and fall as a cautionary tale.&quot;, &quot;The text discusses the story of Ken Lay, who was a key figure in the Enron scandal. Lay started his career in the energy industry during the deregulation of the 1970s and 1980s. He made significant contributions by pioneering a trading market for oil and gas assets at Transco Energy in Houston. This innovation allowed for the creation of a spot market for energy, which was a major success. Lay&#x27;s background as a PhD economist and his experience in both government and industry positioned him as a respected figure in the energy sector.&quot;, … &quot;The text discusses various themes related to financial leverage, Enron&#x27;s downfall, the behavior of key figures like Fastow, Lay, and Skilling, the impact of Sarbanes-Oxley, and the implications for companies staying private longer. It also touches on the complexity of public versus private markets, the incentives driving decision-making, and the challenges faced by regulators in addressing fraudulent activities.&quot;]</td><td>&quot;The bull case, maybe the lawsu…</td><td>11.802713</td></tr><tr><td>79</td><td>&quot;What metrics did FTX judge its…</td><td>&quot;FTX judged itself by several k…</td><td>[&quot;Sam Bankman-Fried started his journey into the crypto world by visiting coinmarketcap.com and clicking on Bitcoin to explore its markets. He noticed the price discrepancies across different exchanges, which sparked his interest in arbitrage opportunities in the crypto market. This initial investigation led him to delve deeper into the world of cryptocurrencies and eventually establish FTX and Alameda Research.&quot;, &quot;The text discusses the author&#x27;s experience with arbitrage opportunities in the cryptocurrency market, particularly focusing on a trade involving Japanese and Korean bitcoins. The author and a team of around twenty people identified a significant price difference between American bitcoins and those in Japan and Korea, leading to a potential arbitrage opportunity. Despite facing logistical challenges, they were able to execute the trade and make substantial profits, with the potential to earn millions of dollars per day. The team&#x27;s success led to the formation of Alameda Research, a crypto quantitative trading firm.&quot;, … &quot;The text discusses various aspects of FTX, a financial services company, and its strategies for long-term success. It mentions the importance of laying the infrastructure of trust, the different powers that enable businesses to achieve persistent differential returns, and the potential challenges of increasing competition. The text also touches on FTX&#x27;s success in executing rapidly, the importance of building a strong team, and the benefits of transparency in decision-making. Additionally, it explores FTX&#x27;s approach to hiring, focusing on individuals who can adapt to uncertain and changing situations. The text concludes with a discussion on FTX&#x27;s growth strategies, including potential acquisitions and expanding into new areas beyond cryptocurrency.&quot;]</td><td>&quot;More recently with Pixar, I&#x27;d …</td><td>12.107326</td></tr><tr><td>80</td><td>&quot;When was Trip Hawkins exposed …</td><td>&quot;Trip Hawkins was first exposed…</td><td>[&quot;Trip Hawkins grew up in Southern California in the 1970s, where he developed a love for sports and games. He was introduced to computers in high school and later attended Harvard, where he balanced playing football with his passion for computers. During his time at Harvard, he started working on a tabletop game but faced challenges in marketing and ultimately lost money. Despite this setback, he found the experience stimulating and decided to learn more before trying again. This experience fueled his interest in combining games with computers, leading him to a summer job in Santa Monica in 1975.&quot;, &quot;The text discusses the journey of a person who was involved in the early days of the computer and gaming industry. It starts with the individual&#x27;s interest in personal computers and gaming consoles in the 1970s, leading to interactions with companies like Fairchild Semiconductor and Apple. The person conducts market research on computer printers and later on personal computers, eventually meeting with Apple employees and witnessing the debut of the Apple 2 at a computer fair. The text also touches on the person&#x27;s involvement with Electronic Arts and reflects on the long-term strategies and challenges in the gaming industry, including Google&#x27;s Stadia platform. The narrative highlights the importance of understanding technology trends, building credibility in the industry, and being patient for success in the long run.&quot;, … &quot;The text discusses negotiations, leveraging positions, and a specific negotiation involving licensing and royalties. It also touches on the development of Madden Football and its transformation into Montana Football for Sega. The text further explores the decision to go public, the benefits and challenges of being a public company, and the experience with the 3DO gaming hardware business. Overall, it highlights the importance of timing and decision-making in business ventures.&quot;]</td><td>&quot;As they acquire the supply sid…</td><td>7.502052</td></tr><tr><td>81</td><td>&quot;What was Trip Hawkins favorite…</td><td>&quot;Trip Hawkins&#x27; favorite game gr…</td><td>[&quot;Trip Hawkins grew up in Southern California in the 1970s, where he developed a love for sports and games. He was introduced to computers in high school and later attended Harvard, where he balanced playing football with his passion for computers. During his time at Harvard, he started working on a tabletop game but faced challenges in marketing and ultimately lost money. Despite this setback, he found the experience stimulating and decided to learn more before trying again. This experience fueled his interest in combining games with computers, leading him to a summer job in Santa Monica in 1975.&quot;, &quot;The text discusses the journey of a person who was involved in the early days of the computer and gaming industry. It starts with the individual&#x27;s interest in personal computers and gaming consoles in the 1970s, leading to interactions with companies like Fairchild Semiconductor and Apple. The person conducts market research on computer printers and later on personal computers, eventually meeting with Apple employees and witnessing the debut of the Apple 2 at a computer fair. The text also touches on the person&#x27;s involvement with Electronic Arts and reflects on the long-term strategies and challenges in the gaming industry, including Google&#x27;s Stadia platform. The narrative highlights the importance of understanding technology trends, building credibility in the industry, and being patient for success in the long run.&quot;, … &quot;The text discusses negotiations, leveraging positions, and a specific negotiation involving licensing and royalties. It also touches on the development of Madden Football and its transformation into Montana Football for Sega. The text further explores the decision to go public, the benefits and challenges of being a public company, and the experience with the 3DO gaming hardware business. Overall, it highlights the importance of timing and decision-making in business ventures.&quot;]</td><td>&quot;As they acquire the supply sid…</td><td>9.238626</td></tr></tbody></table></div>"
      ],
      "text/plain": [
       "shape: (80, 6)\n",
       "┌────────────────┬────────────────┬────────────────┬───────────────┬───────────────┬───────────────┐\n",
       "│ numero_pregunt ┆ pregunta       ┆ respuesta      ┆ retrieval_res ┆ context       ┆ tiempo_comput │\n",
       "│ a              ┆ ---            ┆ ---            ┆ ult           ┆ ---           ┆ ación         │\n",
       "│ ---            ┆ str            ┆ str            ┆ ---           ┆ str           ┆ ---           │\n",
       "│ i64            ┆                ┆                ┆ list[str]     ┆               ┆ f64           │\n",
       "╞════════════════╪════════════════╪════════════════╪═══════════════╪═══════════════╪═══════════════╡\n",
       "│ 2              ┆ When did       ┆ Airbnb went    ┆ [\"The text    ┆ Similarly for ┆ 6.588006      │\n",
       "│                ┆ Airbnb go      ┆ public on      ┆ discusses the ┆ gifts, it's a ┆               │\n",
       "│                ┆ public, wha…   ┆ December…      ┆ found…        ┆ li…           ┆               │\n",
       "│ 3              ┆ Why did Wimdu  ┆ Wimdu, a       ┆ [\"The text    ┆ Similarly for ┆ 10.338757     │\n",
       "│                ┆ unlike Airbnb  ┆ competitor to  ┆ discusses the ┆ gifts, it's a ┆               │\n",
       "│                ┆ no…            ┆ Airbnb,…       ┆ found…        ┆ li…           ┆               │\n",
       "│ 4              ┆ Why does       ┆ Market         ┆ [\"The text    ┆ Similarly for ┆ 12.274992     │\n",
       "│                ┆ market         ┆ fragmentation  ┆ discusses the ┆ gifts, it's a ┆               │\n",
       "│                ┆ fragmentation  ┆ works for…     ┆ found…        ┆ li…           ┆               │\n",
       "│                ┆ …              ┆                ┆               ┆               ┆               │\n",
       "│ 5              ┆ How many hot   ┆ Costco sells   ┆ [\"The text    ┆ I don't think ┆ 9.486982      │\n",
       "│                ┆ dogs does      ┆ 130 million    ┆ discusses the ┆ I have ever   ┆               │\n",
       "│                ┆ Costco …       ┆ hot d…         ┆ admir…        ┆ been…         ┆               │\n",
       "│ 6              ┆ What store was ┆ The store that ┆ [\"The text    ┆ I don't think ┆ 7.518739      │\n",
       "│                ┆ created as     ┆ was created as ┆ discusses the ┆ I have ever   ┆               │\n",
       "│                ┆ \"the…          ┆ …              ┆ admir…        ┆ been…         ┆               │\n",
       "│ …              ┆ …              ┆ …              ┆ …             ┆ …             ┆ …             │\n",
       "│ 77             ┆ How did Enron  ┆ Enron removed  ┆ [\"The text    ┆ The bull      ┆ 9.028351      │\n",
       "│                ┆ remove         ┆ investments    ┆ discusses     ┆ case, maybe   ┆               │\n",
       "│                ┆ investmen…     ┆ from…          ┆ Qualcomm'…    ┆ the lawsu…    ┆               │\n",
       "│ 78             ┆ The fall of    ┆ The fall of    ┆ [\"The text    ┆ The bull      ┆ 11.802713     │\n",
       "│                ┆ Enron is       ┆ Enron is       ┆ discusses     ┆ case, maybe   ┆               │\n",
       "│                ┆ similar t…     ┆ similar t…     ┆ Qualcomm'…    ┆ the lawsu…    ┆               │\n",
       "│ 79             ┆ What metrics   ┆ FTX judged     ┆ [\"Sam         ┆ More recently ┆ 12.107326     │\n",
       "│                ┆ did FTX judge  ┆ itself by      ┆ Bankman-Fried ┆ with Pixar,   ┆               │\n",
       "│                ┆ its…           ┆ several k…     ┆ started hi…   ┆ I'd …         ┆               │\n",
       "│ 80             ┆ When was Trip  ┆ Trip Hawkins   ┆ [\"Trip        ┆ As they       ┆ 7.502052      │\n",
       "│                ┆ Hawkins        ┆ was first      ┆ Hawkins grew  ┆ acquire the   ┆               │\n",
       "│                ┆ exposed …      ┆ exposed…       ┆ up in Sout…   ┆ supply sid…   ┆               │\n",
       "│ 81             ┆ What was Trip  ┆ Trip Hawkins'  ┆ [\"Trip        ┆ As they       ┆ 9.238626      │\n",
       "│                ┆ Hawkins        ┆ favorite game  ┆ Hawkins grew  ┆ acquire the   ┆               │\n",
       "│                ┆ favorite…      ┆ gr…            ┆ up in Sout…   ┆ supply sid…   ┆               │\n",
       "└────────────────┴────────────────┴────────────────┴───────────────┴───────────────┴───────────────┘"
      ]
     },
     "execution_count": 14,
     "metadata": {},
     "output_type": "execute_result"
    }
   ],
   "source": [
    "results_1"
   ]
  },
  {
   "cell_type": "code",
   "execution_count": 19,
   "metadata": {},
   "outputs": [
    {
     "name": "stdout",
     "output_type": "stream",
     "text": [
      "\n",
      "Filtered DataFrame:\n"
     ]
    },
    {
     "data": {
      "text/html": [
       "<div><style>\n",
       ".dataframe > thead > tr,\n",
       ".dataframe > tbody > tr {\n",
       "  text-align: right;\n",
       "  white-space: pre-wrap;\n",
       "}\n",
       "</style>\n",
       "<small>shape: (0, 6)</small><table border=\"1\" class=\"dataframe\"><thead><tr><th>numero_pregunta</th><th>pregunta</th><th>respuesta</th><th>retrieval_result</th><th>context</th><th>tiempo_computación</th></tr><tr><td>i64</td><td>str</td><td>str</td><td>list[str]</td><td>str</td><td>f64</td></tr></thead><tbody></tbody></table></div>"
      ],
      "text/plain": [
       "shape: (0, 6)\n",
       "┌─────────────────┬──────────┬───────────┬──────────────────┬─────────┬────────────────────┐\n",
       "│ numero_pregunta ┆ pregunta ┆ respuesta ┆ retrieval_result ┆ context ┆ tiempo_computación │\n",
       "│ ---             ┆ ---      ┆ ---       ┆ ---              ┆ ---     ┆ ---                │\n",
       "│ i64             ┆ str      ┆ str       ┆ list[str]        ┆ str     ┆ f64                │\n",
       "╞═════════════════╪══════════╪═══════════╪══════════════════╪═════════╪════════════════════╡\n",
       "└─────────────────┴──────────┴───────────┴──────────────────┴─────────┴────────────────────┘"
      ]
     },
     "execution_count": 19,
     "metadata": {},
     "output_type": "execute_result"
    }
   ],
   "source": [
    "# Filter out rows where 'response' contains \"I don't know\" (case-insensitive)\n",
    "filtered_df = results_1.filter(\n",
    "    pl.col(\"respuesta\").str.contains(\"I don't know\", literal=False) |\n",
    "    pl.col(\"respuesta\").str.contains(\"I don't have enough\", literal=False) |\n",
    "    pl.col(\"respuesta\").str.contains(\"I don't see any \", literal=False) |\n",
    "    pl.col(\"respuesta\").str.contains(\"I don't have the information\", literal=False) \n",
    ")\n",
    "\n",
    "# Display the filtered DataFrame\n",
    "print(\"\\nFiltered DataFrame:\")\n",
    "filtered_df"
   ]
  },
  {
   "cell_type": "code",
   "execution_count": 29,
   "metadata": {},
   "outputs": [
    {
     "data": {
      "text/html": [
       "<div><style>\n",
       ".dataframe > thead > tr,\n",
       ".dataframe > tbody > tr {\n",
       "  text-align: right;\n",
       "  white-space: pre-wrap;\n",
       "}\n",
       "</style>\n",
       "<small>shape: (4, 6)</small><table border=\"1\" class=\"dataframe\"><thead><tr><th>numero_pregunta</th><th>pregunta</th><th>respuesta</th><th>retrieval_result</th><th>context</th><th>tiempo_computación</th></tr><tr><td>i64</td><td>str</td><td>str</td><td>list[str]</td><td>str</td><td>f64</td></tr></thead><tbody><tr><td>15</td><td>&quot;What was the final words by Am…</td><td>&quot;In a Quora post in 2011, Amazo…</td><td>[&quot;The text discusses the origins and growth of Amazon Web Services (AWS), the cloud computing pioneer. It mentions that AWS is a significant and influential business, even more so than Amazon&#x27;s retail arm. The text explores various origin stories of AWS, including the misconception that it was born out of excess capacity during Amazon&#x27;s seasonal retail spikes. It also touches on the challenges faced by Amazon in the early 2000s and the pivotal role of Andy Jassy, the current CEO of Amazon, in the development of AWS. The text highlights the importance of AWS in powering the internet and its impact on modern technology.&quot;, &quot;The text discusses the evolution of Amazon Web Services (AWS) and its origins. It highlights how AWS was not initially about selling excess capacity but rather a deliberate strategy to provide APIs and IT infrastructure services to developers. The text also delves into the concept of Web 2.0, APIs, and the early days of AWS within Amazon Associates. The narrative emphasizes the intentional strategy behind AWS&#x27;s creation and its fundamental innovation in the IT industry.&quot;, … &quot;The text discusses various topics, including a conversation about Reed Hastings, the CEO and founder of Netflix, and his background in engineering. It also delves into Amazon&#x27;s strategy of launching and maintaining services, particularly in AWS, and the challenges of generating cash flow to justify its market cap. The text also touches on the Marvel show Moon Knight and an interview with John Carmack by Lex Fridman. The interview covers Carmack&#x27;s legendary career in technology, his work in VR and AI, and his relationship with John Romero. The text concludes with information about the Acquired Slack community, merchandise, and the acquired LP episodes.&quot;]</td><td>&quot;Anyway, that&#x27;s not how I choos…</td><td>15.058366</td></tr><tr><td>38</td><td>&quot;what is one decision Porsche m…</td><td>&quot;One significant decision Porsc…</td><td>[&quot;The text discusses various topics, including investment strategies, market conditions, long-term investing, the importance of people and culture in businesses, and the history of Porsche. It mentions the significance of emotional stability in investing, the impact of tough times on capital deployment, and the value of investing in businesses with strong people and culture. Additionally, it delves into the history of Porsche, highlighting Ferdinand Porsche&#x27;s role in the German auto industry, his collaboration with Mercedes-Benz, and the founding of the Dr. Ing. h.c. Ferdinand Porsche Consulting and Design Services for Motor Vehicles company, which later became the company that produces Porsches. Ferdinand Porsche&#x27;s connections to the Nazis and the involvement of other individuals like Anton Piech and Adolf Rosenberger are also mentioned.&quot;, &quot;The text discusses the intertwined histories of Volkswagen and Porsche, highlighting their origins during World War II and their post-war developments. It mentions how Ferdinand Porsche&#x27;s stake in Porsche was appropriated by the Nazis, leading to the creation of Volkswagen and the design of the Volkswagen Beetle. After the war, Volkswagen was revitalized by British officer Major Ivan Hirst, who saw the potential in the Beetle and convinced the British command to restart production. Meanwhile, Porsche faced challenges post-war, with Ferdinand and his son Ferry being arrested for war crimes. Ferry Porsche later started a new company in Austria, focusing on fixing military vehicles and eventually developing the first Porsche prototype, emphasizing the importance of lightweight design and powerful engines in creating a more enjoyable driving experience.&quot;, … &quot;The text discusses various factors contributing to Porsche&#x27;s success in the automotive industry, such as scale economies, deep partnerships with other car brands, heritage, brand reputation, German engineering, and quality. It also touches on Porsche&#x27;s profitability, revenue growth potential, and defensibility as a luxury brand. The text highlights Porsche&#x27;s strong revenue growth potential, solid profitability within the auto industry, and the enduring appeal and defensibility of the brand.&quot;]</td><td>&quot;You&#x27;re zooming in on, even tho…</td><td>13.257835</td></tr><tr><td>58</td><td>&quot;What is the difference between…</td><td>&quot;Recurrent Neural Networks (RNN…</td><td>[&quot;The text discusses the journey of the co-founders inspired by a combination of backgrounds in economics, business consulting, art, software engineering, and freelancing. They emphasize curiosity and the ability to learn anything as a superpower. The text also mentions the Interactive Telecommunications Program (ITP) at NYU, which is described as an intersection of art and technology. The discussion touches on Runway Studios, a creative division within Runway that collaborates with filmmakers, musicians, and artists. The text transitions to a podcast episode about Nvidia and the AI revolution, highlighting the significance of the AlexNet algorithm in the development of artificial intelligence. It mentions the team behind AlexNet, including Alex Krizhevsky, Jeff Hinton, and Ilya Sutskever, who later founded a company acquired by Google. The narrative explores the impact of Nvidia&#x27;s GPUs in accelerating AI advancements and the convergence of graphics technology with AI applications.&quot;, &quot;In the text, it discusses the formation of the Google Brain team within Google, the acquisition of DeepMind by Google and Yann LeCun by Facebook, and the impact of AI advancements on companies like Google and Facebook. It also touches on the challenges faced by startups in competing with these tech giants due to their dominance in AI research. The text highlights the founding of OpenAI in response to concerns about the concentration of AI talent in a few companies. It mentions key figures like Ilya Sutskever and Andrej Karpathy, as well as the development of language models like GPT-3 and ChatGPT. The significance of the Transformer paper by Google in 2017 is also discussed, which revolutionized natural language processing.&quot;, … &quot;The text discusses various aspects related to Nvidia, including its recent performance, the adoption of its technology by major companies, the potential future challenges and opportunities for the company, and comparisons with other tech giants. It also touches on the importance of accelerated computing and generative AI, as well as the difficulty of competing with Nvidia in the current market landscape. The text also mentions the significance of Nvidia&#x27;s position in the industry and its potential for continued success. Additionally, it includes personal anecdotes about watching the TV show &quot;Alias&quot; and the Disney movie &quot;Moana.&quot;&quot;]</td><td>&quot;My journey, and I think the jo…</td><td>13.487504</td></tr><tr><td>60</td><td>&quot;What is CUDA&#x27;s most unique fea…</td><td>&quot;CUDA&#x27;s most unique feature is …</td><td>[&quot;The text discusses various topics related to tech, startups, and podcasts. It emphasizes the importance of focusing on core competencies, outsourcing non-core tasks, and creating durable competitive advantages in business. The conversation delves into the Seven Powers framework for startups, the challenges of scaling SaaS businesses, and the significance of creating more value for customers than capturing. Additionally, it highlights the evolution of NVIDIA from producing graphics cards to becoming a key player in various industries through powerful GPU architecture.&quot;, &quot;The text discusses NVIDIA&#x27;s journey from being a gaming company to expanding into scientific computing with the development of CUDA technology. The company&#x27;s founder, Jensen Huang, saw the potential for GPUs to be used beyond gaming and invested in creating a platform for general-purpose computing. This shift required significant resources and time, with CUDA development starting in 2006 but not becoming a usable platform for several years. The market for scientific computing was not yet established, but NVIDIA aimed to serve fields like quantum chemistry with their technology. The text highlights the challenges and complexities involved in transitioning NVIDIA from a gaming-focused company to a leader in scientific computing.&quot;, … &quot;The text discusses NVIDIA&#x27;s competitive advantages, including scale economies, switching costs, network economies, process power, branding, and cornered resources. It highlights NVIDIA&#x27;s dominance in the data center market, its high operating margins, and its cash-generative business model. The text also mentions the potential for NVIDIA to continue expanding its market share, innovate in data processing units, and integrate new technologies into its strategy. The A+ case for NVIDIA includes maintaining its dominance in the data center market and expanding its solutions offerings. The C case involves facing competition and challenges in adapting to new technologies, while the F case would entail a significant decline in market share and profitability.&quot;]</td><td>&quot;It sounds familiar. Yes. This …</td><td>13.434109</td></tr></tbody></table></div>"
      ],
      "text/plain": [
       "shape: (4, 6)\n",
       "┌────────────────┬────────────────┬────────────────┬───────────────┬───────────────┬───────────────┐\n",
       "│ numero_pregunt ┆ pregunta       ┆ respuesta      ┆ retrieval_res ┆ context       ┆ tiempo_comput │\n",
       "│ a              ┆ ---            ┆ ---            ┆ ult           ┆ ---           ┆ ación         │\n",
       "│ ---            ┆ str            ┆ str            ┆ ---           ┆ str           ┆ ---           │\n",
       "│ i64            ┆                ┆                ┆ list[str]     ┆               ┆ f64           │\n",
       "╞════════════════╪════════════════╪════════════════╪═══════════════╪═══════════════╪═══════════════╡\n",
       "│ 15             ┆ What was the   ┆ In a Quora     ┆ [\"The text    ┆ Anyway,       ┆ 15.058366     │\n",
       "│                ┆ final words by ┆ post in 2011,  ┆ discusses the ┆ that's not    ┆               │\n",
       "│                ┆ Am…            ┆ Amazo…         ┆ origi…        ┆ how I choos…  ┆               │\n",
       "│ 38             ┆ what is one    ┆ One            ┆ [\"The text    ┆ You're        ┆ 13.257835     │\n",
       "│                ┆ decision       ┆ significant    ┆ discusses     ┆ zooming in    ┆               │\n",
       "│                ┆ Porsche m…     ┆ decision       ┆ various t…    ┆ on, even tho… ┆               │\n",
       "│                ┆                ┆ Porsc…         ┆               ┆               ┆               │\n",
       "│ 58             ┆ What is the    ┆ Recurrent      ┆ [\"The text    ┆ My journey,   ┆ 13.487504     │\n",
       "│                ┆ difference     ┆ Neural         ┆ discusses the ┆ and I think   ┆               │\n",
       "│                ┆ between…       ┆ Networks (RNN… ┆ journ…        ┆ the jo…       ┆               │\n",
       "│ 60             ┆ What is CUDA's ┆ CUDA's most    ┆ [\"The text    ┆ It sounds     ┆ 13.434109     │\n",
       "│                ┆ most unique    ┆ unique feature ┆ discusses     ┆ familiar.     ┆               │\n",
       "│                ┆ fea…           ┆ is …           ┆ various t…    ┆ Yes. This …   ┆               │\n",
       "└────────────────┴────────────────┴────────────────┴───────────────┴───────────────┴───────────────┘"
      ]
     },
     "execution_count": 29,
     "metadata": {},
     "output_type": "execute_result"
    }
   ],
   "source": [
    "filtered_time = results_1.filter(pl.col(\"tiempo_computación\")>13)\n",
    "\n",
    "filtered_time"
   ]
  },
  {
   "cell_type": "code",
   "execution_count": 30,
   "metadata": {},
   "outputs": [
    {
     "data": {
      "application/vnd.plotly.v1+json": {
       "config": {
        "plotlyServerURL": "https://plot.ly"
       },
       "data": [
        {
         "legendgroup": "Answer",
         "marker": {
          "color": [
           "green",
           "green",
           "green",
           "green",
           "green",
           "green",
           "green",
           "green",
           "green",
           "green",
           "green",
           "green",
           "green",
           "green",
           "green",
           "green",
           "green",
           "green",
           "green",
           "green",
           "green",
           "green",
           "green",
           "green",
           "green",
           "green",
           "green",
           "green",
           "green",
           "green",
           "green",
           "green",
           "green",
           "green",
           "green",
           "green",
           "green",
           "green",
           "green",
           "green",
           "green",
           "green",
           "green",
           "green",
           "green",
           "green",
           "green",
           "green",
           "green",
           "green",
           "green",
           "green",
           "red",
           "green",
           "green",
           "green",
           "green",
           "green",
           "green",
           "green",
           "green",
           "green",
           "green",
           "green",
           "green",
           "green",
           "green",
           "green",
           "green",
           "green",
           "green",
           "green",
           "green",
           "green",
           "green",
           "green",
           "green",
           "green",
           "green",
           "green"
          ]
         },
         "name": "Tiempo de Computación",
         "showlegend": false,
         "type": "bar",
         "x": [
          2,
          3,
          4,
          5,
          6,
          7,
          8,
          9,
          10,
          11,
          12,
          13,
          14,
          15,
          16,
          17,
          18,
          19,
          20,
          21,
          22,
          23,
          24,
          25,
          26,
          27,
          28,
          29,
          30,
          31,
          32,
          33,
          34,
          35,
          36,
          37,
          38,
          39,
          40,
          41,
          42,
          43,
          44,
          45,
          46,
          47,
          48,
          49,
          50,
          51,
          52,
          53,
          54,
          55,
          56,
          57,
          58,
          59,
          60,
          61,
          62,
          63,
          64,
          65,
          66,
          67,
          68,
          69,
          70,
          71,
          72,
          73,
          74,
          75,
          76,
          77,
          78,
          79,
          80,
          81
         ],
         "y": [
          6.588005781173706,
          10.338757038116455,
          12.274991750717163,
          9.486982345581055,
          7.5187389850616455,
          8.22431206703186,
          12.503342151641846,
          8.151820182800293,
          7.776105880737305,
          12.009171962738037,
          12.631529808044434,
          9.647757053375244,
          11.107302904129028,
          15.058366060256958,
          9.965711832046509,
          8.894325971603394,
          7.222031831741333,
          12.032938957214355,
          7.058791875839233,
          9.381927013397217,
          10.267285108566284,
          7.3583080768585205,
          6.8954150676727295,
          12.312048196792603,
          9.724483251571655,
          8.118847846984863,
          8.539397954940796,
          6.898589849472046,
          9.348530769348145,
          9.428002119064331,
          6.973402976989746,
          10.870479106903076,
          10.20230770111084,
          8.092597961425781,
          8.016203165054321,
          7.895341634750366,
          13.257834911346436,
          8.491199970245361,
          9.996809959411621,
          10.985203981399536,
          7.7116858959198,
          12.004647016525269,
          8.121815204620361,
          6.282102823257446,
          11.29093313217163,
          6.0023791790008545,
          6.741966962814331,
          8.268767833709717,
          6.687312126159668,
          6.712111949920654,
          12.033087015151978,
          9.38972282409668,
          7.42721700668335,
          8.33892560005188,
          7.738358974456787,
          7.4206719398498535,
          13.487504005432129,
          10.99825930595398,
          13.43410873413086,
          6.949495077133179,
          10.664474964141846,
          6.090749979019165,
          7.6851441860198975,
          11.152236700057983,
          6.196292877197266,
          6.680935859680176,
          10.39867901802063,
          6.348181962966919,
          10.528456926345825,
          8.043853044509888,
          7.612733840942383,
          10.015384197235107,
          7.343942165374756,
          11.024947166442871,
          7.871903896331787,
          9.028351068496704,
          11.80271291732788,
          12.107326030731201,
          7.502051830291748,
          9.23862600326538
         ]
        },
        {
         "legendgroup": "Answer",
         "marker": {
          "color": "green"
         },
         "name": "CORRECT",
         "type": "bar",
         "x": [
          null
         ],
         "y": [
          null
         ]
        },
        {
         "legendgroup": "Answer",
         "marker": {
          "color": "red"
         },
         "name": "INCORRECT",
         "type": "bar",
         "x": [
          null
         ],
         "y": [
          null
         ]
        }
       ],
       "layout": {
        "annotations": [
         {
          "showarrow": false,
          "text": "Tiempo de Computación medio: 9.20 s",
          "x": 81,
          "xanchor": "right",
          "y": 9.19904072880745,
          "yshift": 10
         }
        ],
        "height": 600,
        "legend": {
         "orientation": "h",
         "traceorder": "reversed",
         "x": 1,
         "xanchor": "right",
         "y": 1.02,
         "yanchor": "bottom"
        },
        "margin": {
         "b": 50,
         "l": 50,
         "r": 50,
         "t": 100
        },
        "paper_bgcolor": "rgba(0,0,0,0)",
        "plot_bgcolor": "rgba(0,0,0,0)",
        "shapes": [
         {
          "line": {
           "color": "blue",
           "dash": "dash"
          },
          "type": "line",
          "x0": 0,
          "x1": 1,
          "xref": "x domain",
          "y0": 9.19904072880745,
          "y1": 9.19904072880745,
          "yref": "y"
         }
        ],
        "template": {
         "data": {
          "bar": [
           {
            "error_x": {
             "color": "#2a3f5f"
            },
            "error_y": {
             "color": "#2a3f5f"
            },
            "marker": {
             "line": {
              "color": "#E5ECF6",
              "width": 0.5
             },
             "pattern": {
              "fillmode": "overlay",
              "size": 10,
              "solidity": 0.2
             }
            },
            "type": "bar"
           }
          ],
          "barpolar": [
           {
            "marker": {
             "line": {
              "color": "#E5ECF6",
              "width": 0.5
             },
             "pattern": {
              "fillmode": "overlay",
              "size": 10,
              "solidity": 0.2
             }
            },
            "type": "barpolar"
           }
          ],
          "carpet": [
           {
            "aaxis": {
             "endlinecolor": "#2a3f5f",
             "gridcolor": "white",
             "linecolor": "white",
             "minorgridcolor": "white",
             "startlinecolor": "#2a3f5f"
            },
            "baxis": {
             "endlinecolor": "#2a3f5f",
             "gridcolor": "white",
             "linecolor": "white",
             "minorgridcolor": "white",
             "startlinecolor": "#2a3f5f"
            },
            "type": "carpet"
           }
          ],
          "choropleth": [
           {
            "colorbar": {
             "outlinewidth": 0,
             "ticks": ""
            },
            "type": "choropleth"
           }
          ],
          "contour": [
           {
            "colorbar": {
             "outlinewidth": 0,
             "ticks": ""
            },
            "colorscale": [
             [
              0,
              "#0d0887"
             ],
             [
              0.1111111111111111,
              "#46039f"
             ],
             [
              0.2222222222222222,
              "#7201a8"
             ],
             [
              0.3333333333333333,
              "#9c179e"
             ],
             [
              0.4444444444444444,
              "#bd3786"
             ],
             [
              0.5555555555555556,
              "#d8576b"
             ],
             [
              0.6666666666666666,
              "#ed7953"
             ],
             [
              0.7777777777777778,
              "#fb9f3a"
             ],
             [
              0.8888888888888888,
              "#fdca26"
             ],
             [
              1,
              "#f0f921"
             ]
            ],
            "type": "contour"
           }
          ],
          "contourcarpet": [
           {
            "colorbar": {
             "outlinewidth": 0,
             "ticks": ""
            },
            "type": "contourcarpet"
           }
          ],
          "heatmap": [
           {
            "colorbar": {
             "outlinewidth": 0,
             "ticks": ""
            },
            "colorscale": [
             [
              0,
              "#0d0887"
             ],
             [
              0.1111111111111111,
              "#46039f"
             ],
             [
              0.2222222222222222,
              "#7201a8"
             ],
             [
              0.3333333333333333,
              "#9c179e"
             ],
             [
              0.4444444444444444,
              "#bd3786"
             ],
             [
              0.5555555555555556,
              "#d8576b"
             ],
             [
              0.6666666666666666,
              "#ed7953"
             ],
             [
              0.7777777777777778,
              "#fb9f3a"
             ],
             [
              0.8888888888888888,
              "#fdca26"
             ],
             [
              1,
              "#f0f921"
             ]
            ],
            "type": "heatmap"
           }
          ],
          "heatmapgl": [
           {
            "colorbar": {
             "outlinewidth": 0,
             "ticks": ""
            },
            "colorscale": [
             [
              0,
              "#0d0887"
             ],
             [
              0.1111111111111111,
              "#46039f"
             ],
             [
              0.2222222222222222,
              "#7201a8"
             ],
             [
              0.3333333333333333,
              "#9c179e"
             ],
             [
              0.4444444444444444,
              "#bd3786"
             ],
             [
              0.5555555555555556,
              "#d8576b"
             ],
             [
              0.6666666666666666,
              "#ed7953"
             ],
             [
              0.7777777777777778,
              "#fb9f3a"
             ],
             [
              0.8888888888888888,
              "#fdca26"
             ],
             [
              1,
              "#f0f921"
             ]
            ],
            "type": "heatmapgl"
           }
          ],
          "histogram": [
           {
            "marker": {
             "pattern": {
              "fillmode": "overlay",
              "size": 10,
              "solidity": 0.2
             }
            },
            "type": "histogram"
           }
          ],
          "histogram2d": [
           {
            "colorbar": {
             "outlinewidth": 0,
             "ticks": ""
            },
            "colorscale": [
             [
              0,
              "#0d0887"
             ],
             [
              0.1111111111111111,
              "#46039f"
             ],
             [
              0.2222222222222222,
              "#7201a8"
             ],
             [
              0.3333333333333333,
              "#9c179e"
             ],
             [
              0.4444444444444444,
              "#bd3786"
             ],
             [
              0.5555555555555556,
              "#d8576b"
             ],
             [
              0.6666666666666666,
              "#ed7953"
             ],
             [
              0.7777777777777778,
              "#fb9f3a"
             ],
             [
              0.8888888888888888,
              "#fdca26"
             ],
             [
              1,
              "#f0f921"
             ]
            ],
            "type": "histogram2d"
           }
          ],
          "histogram2dcontour": [
           {
            "colorbar": {
             "outlinewidth": 0,
             "ticks": ""
            },
            "colorscale": [
             [
              0,
              "#0d0887"
             ],
             [
              0.1111111111111111,
              "#46039f"
             ],
             [
              0.2222222222222222,
              "#7201a8"
             ],
             [
              0.3333333333333333,
              "#9c179e"
             ],
             [
              0.4444444444444444,
              "#bd3786"
             ],
             [
              0.5555555555555556,
              "#d8576b"
             ],
             [
              0.6666666666666666,
              "#ed7953"
             ],
             [
              0.7777777777777778,
              "#fb9f3a"
             ],
             [
              0.8888888888888888,
              "#fdca26"
             ],
             [
              1,
              "#f0f921"
             ]
            ],
            "type": "histogram2dcontour"
           }
          ],
          "mesh3d": [
           {
            "colorbar": {
             "outlinewidth": 0,
             "ticks": ""
            },
            "type": "mesh3d"
           }
          ],
          "parcoords": [
           {
            "line": {
             "colorbar": {
              "outlinewidth": 0,
              "ticks": ""
             }
            },
            "type": "parcoords"
           }
          ],
          "pie": [
           {
            "automargin": true,
            "type": "pie"
           }
          ],
          "scatter": [
           {
            "fillpattern": {
             "fillmode": "overlay",
             "size": 10,
             "solidity": 0.2
            },
            "type": "scatter"
           }
          ],
          "scatter3d": [
           {
            "line": {
             "colorbar": {
              "outlinewidth": 0,
              "ticks": ""
             }
            },
            "marker": {
             "colorbar": {
              "outlinewidth": 0,
              "ticks": ""
             }
            },
            "type": "scatter3d"
           }
          ],
          "scattercarpet": [
           {
            "marker": {
             "colorbar": {
              "outlinewidth": 0,
              "ticks": ""
             }
            },
            "type": "scattercarpet"
           }
          ],
          "scattergeo": [
           {
            "marker": {
             "colorbar": {
              "outlinewidth": 0,
              "ticks": ""
             }
            },
            "type": "scattergeo"
           }
          ],
          "scattergl": [
           {
            "marker": {
             "colorbar": {
              "outlinewidth": 0,
              "ticks": ""
             }
            },
            "type": "scattergl"
           }
          ],
          "scattermapbox": [
           {
            "marker": {
             "colorbar": {
              "outlinewidth": 0,
              "ticks": ""
             }
            },
            "type": "scattermapbox"
           }
          ],
          "scatterpolar": [
           {
            "marker": {
             "colorbar": {
              "outlinewidth": 0,
              "ticks": ""
             }
            },
            "type": "scatterpolar"
           }
          ],
          "scatterpolargl": [
           {
            "marker": {
             "colorbar": {
              "outlinewidth": 0,
              "ticks": ""
             }
            },
            "type": "scatterpolargl"
           }
          ],
          "scatterternary": [
           {
            "marker": {
             "colorbar": {
              "outlinewidth": 0,
              "ticks": ""
             }
            },
            "type": "scatterternary"
           }
          ],
          "surface": [
           {
            "colorbar": {
             "outlinewidth": 0,
             "ticks": ""
            },
            "colorscale": [
             [
              0,
              "#0d0887"
             ],
             [
              0.1111111111111111,
              "#46039f"
             ],
             [
              0.2222222222222222,
              "#7201a8"
             ],
             [
              0.3333333333333333,
              "#9c179e"
             ],
             [
              0.4444444444444444,
              "#bd3786"
             ],
             [
              0.5555555555555556,
              "#d8576b"
             ],
             [
              0.6666666666666666,
              "#ed7953"
             ],
             [
              0.7777777777777778,
              "#fb9f3a"
             ],
             [
              0.8888888888888888,
              "#fdca26"
             ],
             [
              1,
              "#f0f921"
             ]
            ],
            "type": "surface"
           }
          ],
          "table": [
           {
            "cells": {
             "fill": {
              "color": "#EBF0F8"
             },
             "line": {
              "color": "white"
             }
            },
            "header": {
             "fill": {
              "color": "#C8D4E3"
             },
             "line": {
              "color": "white"
             }
            },
            "type": "table"
           }
          ]
         },
         "layout": {
          "annotationdefaults": {
           "arrowcolor": "#2a3f5f",
           "arrowhead": 0,
           "arrowwidth": 1
          },
          "autotypenumbers": "strict",
          "coloraxis": {
           "colorbar": {
            "outlinewidth": 0,
            "ticks": ""
           }
          },
          "colorscale": {
           "diverging": [
            [
             0,
             "#8e0152"
            ],
            [
             0.1,
             "#c51b7d"
            ],
            [
             0.2,
             "#de77ae"
            ],
            [
             0.3,
             "#f1b6da"
            ],
            [
             0.4,
             "#fde0ef"
            ],
            [
             0.5,
             "#f7f7f7"
            ],
            [
             0.6,
             "#e6f5d0"
            ],
            [
             0.7,
             "#b8e186"
            ],
            [
             0.8,
             "#7fbc41"
            ],
            [
             0.9,
             "#4d9221"
            ],
            [
             1,
             "#276419"
            ]
           ],
           "sequential": [
            [
             0,
             "#0d0887"
            ],
            [
             0.1111111111111111,
             "#46039f"
            ],
            [
             0.2222222222222222,
             "#7201a8"
            ],
            [
             0.3333333333333333,
             "#9c179e"
            ],
            [
             0.4444444444444444,
             "#bd3786"
            ],
            [
             0.5555555555555556,
             "#d8576b"
            ],
            [
             0.6666666666666666,
             "#ed7953"
            ],
            [
             0.7777777777777778,
             "#fb9f3a"
            ],
            [
             0.8888888888888888,
             "#fdca26"
            ],
            [
             1,
             "#f0f921"
            ]
           ],
           "sequentialminus": [
            [
             0,
             "#0d0887"
            ],
            [
             0.1111111111111111,
             "#46039f"
            ],
            [
             0.2222222222222222,
             "#7201a8"
            ],
            [
             0.3333333333333333,
             "#9c179e"
            ],
            [
             0.4444444444444444,
             "#bd3786"
            ],
            [
             0.5555555555555556,
             "#d8576b"
            ],
            [
             0.6666666666666666,
             "#ed7953"
            ],
            [
             0.7777777777777778,
             "#fb9f3a"
            ],
            [
             0.8888888888888888,
             "#fdca26"
            ],
            [
             1,
             "#f0f921"
            ]
           ]
          },
          "colorway": [
           "#636efa",
           "#EF553B",
           "#00cc96",
           "#ab63fa",
           "#FFA15A",
           "#19d3f3",
           "#FF6692",
           "#B6E880",
           "#FF97FF",
           "#FECB52"
          ],
          "font": {
           "color": "#2a3f5f"
          },
          "geo": {
           "bgcolor": "white",
           "lakecolor": "white",
           "landcolor": "#E5ECF6",
           "showlakes": true,
           "showland": true,
           "subunitcolor": "white"
          },
          "hoverlabel": {
           "align": "left"
          },
          "hovermode": "closest",
          "mapbox": {
           "style": "light"
          },
          "paper_bgcolor": "white",
          "plot_bgcolor": "#E5ECF6",
          "polar": {
           "angularaxis": {
            "gridcolor": "white",
            "linecolor": "white",
            "ticks": ""
           },
           "bgcolor": "#E5ECF6",
           "radialaxis": {
            "gridcolor": "white",
            "linecolor": "white",
            "ticks": ""
           }
          },
          "scene": {
           "xaxis": {
            "backgroundcolor": "#E5ECF6",
            "gridcolor": "white",
            "gridwidth": 2,
            "linecolor": "white",
            "showbackground": true,
            "ticks": "",
            "zerolinecolor": "white"
           },
           "yaxis": {
            "backgroundcolor": "#E5ECF6",
            "gridcolor": "white",
            "gridwidth": 2,
            "linecolor": "white",
            "showbackground": true,
            "ticks": "",
            "zerolinecolor": "white"
           },
           "zaxis": {
            "backgroundcolor": "#E5ECF6",
            "gridcolor": "white",
            "gridwidth": 2,
            "linecolor": "white",
            "showbackground": true,
            "ticks": "",
            "zerolinecolor": "white"
           }
          },
          "shapedefaults": {
           "line": {
            "color": "#2a3f5f"
           }
          },
          "ternary": {
           "aaxis": {
            "gridcolor": "white",
            "linecolor": "white",
            "ticks": ""
           },
           "baxis": {
            "gridcolor": "white",
            "linecolor": "white",
            "ticks": ""
           },
           "bgcolor": "#E5ECF6",
           "caxis": {
            "gridcolor": "white",
            "linecolor": "white",
            "ticks": ""
           }
          },
          "title": {
           "x": 0.05
          },
          "xaxis": {
           "automargin": true,
           "gridcolor": "white",
           "linecolor": "white",
           "ticks": "",
           "title": {
            "standoff": 15
           },
           "zerolinecolor": "white",
           "zerolinewidth": 2
          },
          "yaxis": {
           "automargin": true,
           "gridcolor": "white",
           "linecolor": "white",
           "ticks": "",
           "title": {
            "standoff": 15
           },
           "zerolinecolor": "white",
           "zerolinewidth": 2
          }
         }
        },
        "title": {
         "text": "Coste por Respuesta (segundos)"
        },
        "width": 1200,
        "xaxis": {
         "showgrid": false,
         "title": {
          "text": "Número de Pregunta"
         }
        },
        "yaxis": {
         "range": [
          0,
          16.564202666282654
         ],
         "showgrid": false,
         "title": {
          "text": "Tiempo de Computación (s)"
         },
         "zeroline": true
        }
       }
      }
     },
     "metadata": {},
     "output_type": "display_data"
    }
   ],
   "source": [
    "import plotly.graph_objects as go\n",
    "\n",
    "# Calculate mean value\n",
    "mean_tiempo_computacion = results_1['tiempo_computación'].mean()\n",
    "filtered_ids = filtered_df[\"numero_pregunta\"].to_list()\n",
    "# Create figure\n",
    "fig = go.Figure()\n",
    "\n",
    "# Add bars for tiempo_computación\n",
    "fig.add_trace(\n",
    "    go.Bar(\n",
    "        x=results_1['numero_pregunta'],\n",
    "        y=results_1['tiempo_computación'],\n",
    "        name='Tiempo de Computación',\n",
    "        marker_color=['red' if (row['numero_pregunta'] == 54 )\n",
    "                      else 'green' for row in results_1.iter_rows(named=True)],\n",
    "        legendgroup='Answer',\n",
    "        showlegend=False\n",
    "    )\n",
    ")\n",
    "\n",
    "# Add mean line\n",
    "fig.add_hline(y=mean_tiempo_computacion, line_dash=\"dash\", line_color=\"blue\")\n",
    "\n",
    "# Add annotation for mean line\n",
    "fig.add_annotation(\n",
    "    x=results_1['numero_pregunta'].max(),\n",
    "    y=mean_tiempo_computacion,\n",
    "    text=f\"Tiempo de Computación medio: {mean_tiempo_computacion:.2f} s\",\n",
    "    showarrow=False,\n",
    "    yshift=10,\n",
    "    xanchor='right'\n",
    ")\n",
    "\n",
    "# Add legend items\n",
    "fig.add_trace(go.Bar(x=[None], y=[None], name='CORRECT', marker_color='green', legendgroup='Answer'))\n",
    "fig.add_trace(go.Bar(x=[None], y=[None], name='INCORRECT', marker_color='red', legendgroup='Answer'))\n",
    "\n",
    "# Set axis titles\n",
    "fig.update_xaxes(title_text=\"Número de Pregunta\")\n",
    "fig.update_yaxes(title_text=\"Tiempo de Computación (s)\")\n",
    "\n",
    "# Update layout for transparency and no frame\n",
    "fig.update_layout(\n",
    "    width=1200,  # Adjust width as needed\n",
    "    height=600,  # Adjust height as needed\n",
    "    title_text=\"Coste por Respuesta (segundos)\",\n",
    "    legend=dict(\n",
    "        orientation=\"h\",\n",
    "        yanchor=\"bottom\",\n",
    "        y=1.02,\n",
    "        xanchor=\"right\",\n",
    "        x=1,\n",
    "        traceorder='reversed'\n",
    "    ),\n",
    "    plot_bgcolor='rgba(0,0,0,0)',\n",
    "    paper_bgcolor='rgba(0,0,0,0)',\n",
    "    margin=dict(l=50, r=50, t=100, b=50),\n",
    "    yaxis=dict(zeroline=True, range=[0, max(7, results_1['tiempo_computación'].max() * 1.1)])\n",
    ")\n",
    "\n",
    "# Remove gridlines\n",
    "fig.update_xaxes(showgrid=False)\n",
    "fig.update_yaxes(showgrid=False)\n",
    "\n",
    "# Show the plot\n",
    "fig.show()\n"
   ]
  }
 ],
 "metadata": {
  "kernelspec": {
   "display_name": "grag-EOKyDehK-py3.11",
   "language": "python",
   "name": "python3"
  },
  "language_info": {
   "codemirror_mode": {
    "name": "ipython",
    "version": 3
   },
   "file_extension": ".py",
   "mimetype": "text/x-python",
   "name": "python",
   "nbconvert_exporter": "python",
   "pygments_lexer": "ipython3",
   "version": "3.11.8"
  }
 },
 "nbformat": 4,
 "nbformat_minor": 2
}
