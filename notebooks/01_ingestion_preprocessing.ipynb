{
 "cells": [
  {
   "cell_type": "code",
   "execution_count": 1,
   "metadata": {},
   "outputs": [],
   "source": [
    "# Standard Library Imports\n",
    "import sys\n",
    "import logging\n",
    "from pathlib import Path\n",
    "\n",
    "# Third-Party Imports\n",
    "import polars as pl\n",
    "from tqdm import tqdm\n",
    "from dotenv import load_dotenv\n",
    "import plotly.express as px\n",
    "\n",
    "# Local Imports\n",
    "from grag.text_utils import load_and_process_podcasts"
   ]
  },
  {
   "cell_type": "code",
   "execution_count": 2,
   "metadata": {},
   "outputs": [],
   "source": [
    "# Load environment variables\n",
    "load_dotenv()\n",
    "\n",
    "# Configure the logger\n",
    "logging.basicConfig(level=logging.INFO, format='%(asctime)s - %(levelname)s - %(message)s')\n",
    "logger = logging.getLogger(__name__)"
   ]
  },
  {
   "cell_type": "code",
   "execution_count": 3,
   "metadata": {},
   "outputs": [],
   "source": [
    "# Define paths\n",
    "csv_path = \"/Users/borja/Documents/Somniumrema/projects/genai/grag/data/acquired_metadata.csv\"\n",
    "text_folder = Path(\"/Users/borja/Documents/Somniumrema/projects/genai/grag/data/acquired-individual-transcripts/acquired-individual-transcripts\")"
   ]
  },
  {
   "cell_type": "code",
   "execution_count": 4,
   "metadata": {},
   "outputs": [
    {
     "name": "stderr",
     "output_type": "stream",
     "text": [
      "2024-11-18 15:29:42,536 - INFO - Loaded 275 podcasts from /Users/borja/Documents/Somniumrema/projects/genai/grag/data/acquired_metadata.csv\n",
      "Processing Podcasts: 100%|██████████| 275/275 [00:23<00:00, 11.56it/s]\n",
      "2024-11-18 15:30:06,366 - INFO - Processed 200 podcasts with transcripts\n"
     ]
    }
   ],
   "source": [
    "# Load and process podcasts\n",
    "podcasts_clean = load_and_process_podcasts(csv_path, text_folder)"
   ]
  },
  {
   "cell_type": "code",
   "execution_count": 5,
   "metadata": {},
   "outputs": [
    {
     "data": {
      "text/html": [
       "<div><style>\n",
       ".dataframe > thead > tr,\n",
       ".dataframe > tbody > tr {\n",
       "  text-align: right;\n",
       "  white-space: pre-wrap;\n",
       "}\n",
       "</style>\n",
       "<small>shape: (200, 10)</small><table border=\"1\" class=\"dataframe\"><thead><tr><th>post_url</th><th>post_title</th><th>series_number</th><th>blog_date</th><th>blog_title</th><th>file_name</th><th>has_transcript</th><th>text</th><th>cleaned_text</th><th>tokens</th></tr><tr><td>str</td><td>str</td><td>str</td><td>date</td><td>str</td><td>str</td><td>bool</td><td>str</td><td>str</td><td>i64</td></tr></thead><tbody><tr><td>&quot;https://www.acquired.fm/episod…</td><td>&quot;Costco&quot;</td><td>&quot;Season&nbsp;13,&nbsp;Episode&nbsp;2&quot;</td><td>2023-08-20</td><td>&quot;The&nbsp;Complete&nbsp;History&nbsp;&amp;&nbsp;Strateg…</td><td>&quot;costco&quot;</td><td>true</td><td>&quot;Transcript:&nbsp;&nbsp;&nbsp;(disclaimer:&nbsp;may…</td><td>&quot;I&nbsp;don&#x27;t&nbsp;think&nbsp;I&nbsp;have&nbsp;ever&nbsp;been…</td><td>37417</td></tr><tr><td>&quot;https://www.acquired.fm/episod…</td><td>&quot;Generative&nbsp;AI&nbsp;in&nbsp;Video&nbsp;and&nbsp;the…</td><td>&quot;ACQ2&nbsp;Episode&quot;</td><td>2023-08-29</td><td>&quot;Related&nbsp;Episodes&quot;</td><td>&quot;generative_ai_in_video_and_the…</td><td>true</td><td>&quot;Transcript:&nbsp;&nbsp;&nbsp;(disclaimer:&nbsp;may…</td><td>&quot;Hello,&nbsp;Acquired&nbsp;listeners.&nbsp;Wel…</td><td>11939</td></tr><tr><td>&quot;https://www.acquired.fm/episod…</td><td>&quot;Nvidia&nbsp;Part&nbsp;III:&nbsp;The&nbsp;Dawn&nbsp;of&nbsp;t…</td><td>&quot;Season&nbsp;13,&nbsp;Episode&nbsp;3&quot;</td><td>2023-09-05</td><td>&quot;The&nbsp;Complete&nbsp;History&nbsp;&amp;&nbsp;Strateg…</td><td>&quot;nvidia_part_iii_the_dawn_of_th…</td><td>true</td><td>&quot;Transcript:&nbsp;&nbsp;&nbsp;(disclaimer:&nbsp;may…</td><td>&quot;Do&nbsp;you&nbsp;like&nbsp;my&nbsp;Bucks&nbsp;T-shirt?&nbsp;…</td><td>35198</td></tr><tr><td>&quot;https://www.acquired.fm/episod…</td><td>&quot;Doug&nbsp;Demuro&nbsp;on&nbsp;Analyzing&nbsp;the&nbsp;C…</td><td>&quot;ACQ2&nbsp;Episode&quot;</td><td>2023-09-17</td><td>&quot;Related&nbsp;Episodes&quot;</td><td>&quot;doug_demuro_on_analyzing_the_c…</td><td>true</td><td>&quot;Transcript:&nbsp;&nbsp;&nbsp;(disclaimer:&nbsp;may…</td><td>&quot;Doug&nbsp;DeMuro,&nbsp;it&#x27;s&nbsp;great&nbsp;to&nbsp;see…</td><td>21593</td></tr><tr><td>&quot;https://www.acquired.fm/episod…</td><td>&quot;NVIDIA&nbsp;CEO&nbsp;Jensen&nbsp;Huang&quot;</td><td>&quot;ACQ2&nbsp;Episode&quot;</td><td>2023-10-15</td><td>&quot;Related&nbsp;Episodes&quot;</td><td>&quot;nvidia_ceo_jensen_huang&quot;</td><td>true</td><td>&quot;Transcript:&nbsp;&nbsp;&nbsp;(disclaimer:&nbsp;may…</td><td>&quot;I&nbsp;will&nbsp;say,&nbsp;David,&nbsp;I&nbsp;would&nbsp;lov…</td><td>18077</td></tr><tr><td>&hellip;</td><td>&hellip;</td><td>&hellip;</td><td>&hellip;</td><td>&hellip;</td><td>&hellip;</td><td>&hellip;</td><td>&hellip;</td><td>&hellip;</td><td>&hellip;</td></tr><tr><td>&quot;https://www.acquired.fm/episod…</td><td>&quot;ExactTarget&nbsp;(acquired&nbsp;by&nbsp;Sales…</td><td>&quot;Season&nbsp;1,&nbsp;Episode&nbsp;15&quot;</td><td>2016-07-05</td><td>&quot;Related&nbsp;Episodes&quot;</td><td>&quot;exacttarget_acquired_by_salesf…</td><td>true</td><td>&quot;Transcript:&nbsp;&nbsp;&nbsp;(disclaimer:&nbsp;may…</td><td>&quot;This&nbsp;is&nbsp;going&nbsp;to&nbsp;be&nbsp;a&nbsp;great&nbsp;ep…</td><td>13883</td></tr><tr><td>&quot;https://www.acquired.fm/episod…</td><td>&quot;Midroll&nbsp;+&nbsp;Stitcher&nbsp;(acquired&nbsp;b…</td><td>&quot;Season&nbsp;1,&nbsp;Episode&nbsp;16&quot;</td><td>2016-07-12</td><td>&quot;Related&nbsp;Episodes&quot;</td><td>&quot;midroll_stitcher_acquired_by_s…</td><td>true</td><td>&quot;Transcript:&nbsp;&nbsp;&nbsp;(disclaimer:&nbsp;may…</td><td>&quot;We&#x27;d&nbsp;like&nbsp;to&nbsp;thank&nbsp;our&nbsp;one&nbsp;lis…</td><td>11059</td></tr><tr><td>&quot;https://www.acquired.fm/episod…</td><td>&quot;Waze&quot;</td><td>&quot;Season&nbsp;1,&nbsp;Episode&nbsp;17&quot;</td><td>2016-08-03</td><td>&quot;Related&nbsp;Episodes&quot;</td><td>&quot;waze&quot;</td><td>true</td><td>&quot;Transcript:&nbsp;&nbsp;&nbsp;(disclaimer:&nbsp;may…</td><td>&quot;Welcome&nbsp;to&nbsp;Episode&nbsp;17&nbsp;of&nbsp;Acqui…</td><td>11693</td></tr><tr><td>&quot;https://www.acquired.fm/episod…</td><td>&quot;Special‚&nbsp;An&nbsp;Acquirer&#x27;s&nbsp;View&nbsp;in…</td><td>&quot;Season&nbsp;1,&nbsp;Episode&nbsp;18&quot;</td><td>2016-08-22</td><td>&quot;Related&nbsp;Episodes&quot;</td><td>&quot;special_an_acquirers_view_into…</td><td>true</td><td>&quot;Transcript:&nbsp;&nbsp;&nbsp;(disclaimer:&nbsp;may…</td><td>&quot;Welcome&nbsp;to&nbsp;Episode&nbsp;of&nbsp;18&nbsp;of&nbsp;Ac…</td><td>13075</td></tr><tr><td>&quot;https://www.acquired.fm/episod…</td><td>&quot;Jet&quot;</td><td>&quot;Season&nbsp;1,&nbsp;Episode&nbsp;19&quot;</td><td>2016-08-29</td><td>&quot;Related&nbsp;Episodes&quot;</td><td>&quot;jet&quot;</td><td>true</td><td>&quot;Transcript:&nbsp;&nbsp;&nbsp;(disclaimer:&nbsp;may…</td><td>&quot;Welcome&nbsp;to&nbsp;Episode&nbsp;19&nbsp;of&nbsp;Acqui…</td><td>12463</td></tr></tbody></table></div>"
      ],
      "text/plain": [
       "shape: (200, 10)\n",
       "┌────────────┬────────────┬───────────┬───────────┬───┬───────────┬───────────┬───────────┬────────┐\n",
       "│ post_url   ┆ post_title ┆ series_nu ┆ blog_date ┆ … ┆ has_trans ┆ text      ┆ cleaned_t ┆ tokens │\n",
       "│ ---        ┆ ---        ┆ mber      ┆ ---       ┆   ┆ cript     ┆ ---       ┆ ext       ┆ ---    │\n",
       "│ str        ┆ str        ┆ ---       ┆ date      ┆   ┆ ---       ┆ str       ┆ ---       ┆ i64    │\n",
       "│            ┆            ┆ str       ┆           ┆   ┆ bool      ┆           ┆ str       ┆        │\n",
       "╞════════════╪════════════╪═══════════╪═══════════╪═══╪═══════════╪═══════════╪═══════════╪════════╡\n",
       "│ https://ww ┆ Costco     ┆ Season    ┆ 2023-08-2 ┆ … ┆ true      ┆ Transcrip ┆ I don't   ┆ 37417  │\n",
       "│ w.acquired ┆            ┆ 13,       ┆ 0         ┆   ┆           ┆ t:   (dis ┆ think I   ┆        │\n",
       "│ .fm/episod ┆            ┆ Episode 2 ┆           ┆   ┆           ┆ claimer:  ┆ have ever ┆        │\n",
       "│ …          ┆            ┆           ┆           ┆   ┆           ┆ may…      ┆ been…     ┆        │\n",
       "│ https://ww ┆ Generative ┆ ACQ2      ┆ 2023-08-2 ┆ … ┆ true      ┆ Transcrip ┆ Hello,    ┆ 11939  │\n",
       "│ w.acquired ┆ AI in      ┆ Episode   ┆ 9         ┆   ┆           ┆ t:   (dis ┆ Acquired  ┆        │\n",
       "│ .fm/episod ┆ Video and  ┆           ┆           ┆   ┆           ┆ claimer:  ┆ listeners ┆        │\n",
       "│ …          ┆ the…       ┆           ┆           ┆   ┆           ┆ may…      ┆ . Wel…    ┆        │\n",
       "│ https://ww ┆ Nvidia     ┆ Season    ┆ 2023-09-0 ┆ … ┆ true      ┆ Transcrip ┆ Do you    ┆ 35198  │\n",
       "│ w.acquired ┆ Part III:  ┆ 13,       ┆ 5         ┆   ┆           ┆ t:   (dis ┆ like my   ┆        │\n",
       "│ .fm/episod ┆ The Dawn   ┆ Episode 3 ┆           ┆   ┆           ┆ claimer:  ┆ Bucks     ┆        │\n",
       "│ …          ┆ of t…      ┆           ┆           ┆   ┆           ┆ may…      ┆ T-shirt?  ┆        │\n",
       "│            ┆            ┆           ┆           ┆   ┆           ┆           ┆ …         ┆        │\n",
       "│ https://ww ┆ Doug       ┆ ACQ2      ┆ 2023-09-1 ┆ … ┆ true      ┆ Transcrip ┆ Doug      ┆ 21593  │\n",
       "│ w.acquired ┆ Demuro on  ┆ Episode   ┆ 7         ┆   ┆           ┆ t:   (dis ┆ DeMuro,   ┆        │\n",
       "│ .fm/episod ┆ Analyzing  ┆           ┆           ┆   ┆           ┆ claimer:  ┆ it's      ┆        │\n",
       "│ …          ┆ the C…     ┆           ┆           ┆   ┆           ┆ may…      ┆ great to  ┆        │\n",
       "│            ┆            ┆           ┆           ┆   ┆           ┆           ┆ see…      ┆        │\n",
       "│ https://ww ┆ NVIDIA CEO ┆ ACQ2      ┆ 2023-10-1 ┆ … ┆ true      ┆ Transcrip ┆ I will    ┆ 18077  │\n",
       "│ w.acquired ┆ Jensen     ┆ Episode   ┆ 5         ┆   ┆           ┆ t:   (dis ┆ say,      ┆        │\n",
       "│ .fm/episod ┆ Huang      ┆           ┆           ┆   ┆           ┆ claimer:  ┆ David, I  ┆        │\n",
       "│ …          ┆            ┆           ┆           ┆   ┆           ┆ may…      ┆ would     ┆        │\n",
       "│            ┆            ┆           ┆           ┆   ┆           ┆           ┆ lov…      ┆        │\n",
       "│ …          ┆ …          ┆ …         ┆ …         ┆ … ┆ …         ┆ …         ┆ …         ┆ …      │\n",
       "│ https://ww ┆ ExactTarge ┆ Season 1, ┆ 2016-07-0 ┆ … ┆ true      ┆ Transcrip ┆ This is   ┆ 13883  │\n",
       "│ w.acquired ┆ t          ┆ Episode   ┆ 5         ┆   ┆           ┆ t:   (dis ┆ going to  ┆        │\n",
       "│ .fm/episod ┆ (acquired  ┆ 15        ┆           ┆   ┆           ┆ claimer:  ┆ be a      ┆        │\n",
       "│ …          ┆ by Sales…  ┆           ┆           ┆   ┆           ┆ may…      ┆ great ep… ┆        │\n",
       "│ https://ww ┆ Midroll +  ┆ Season 1, ┆ 2016-07-1 ┆ … ┆ true      ┆ Transcrip ┆ We'd like ┆ 11059  │\n",
       "│ w.acquired ┆ Stitcher   ┆ Episode   ┆ 2         ┆   ┆           ┆ t:   (dis ┆ to thank  ┆        │\n",
       "│ .fm/episod ┆ (acquired  ┆ 16        ┆           ┆   ┆           ┆ claimer:  ┆ our one   ┆        │\n",
       "│ …          ┆ b…         ┆           ┆           ┆   ┆           ┆ may…      ┆ lis…      ┆        │\n",
       "│ https://ww ┆ Waze       ┆ Season 1, ┆ 2016-08-0 ┆ … ┆ true      ┆ Transcrip ┆ Welcome   ┆ 11693  │\n",
       "│ w.acquired ┆            ┆ Episode   ┆ 3         ┆   ┆           ┆ t:   (dis ┆ to        ┆        │\n",
       "│ .fm/episod ┆            ┆ 17        ┆           ┆   ┆           ┆ claimer:  ┆ Episode   ┆        │\n",
       "│ …          ┆            ┆           ┆           ┆   ┆           ┆ may…      ┆ 17 of     ┆        │\n",
       "│            ┆            ┆           ┆           ┆   ┆           ┆           ┆ Acqui…    ┆        │\n",
       "│ https://ww ┆ Special‚   ┆ Season 1, ┆ 2016-08-2 ┆ … ┆ true      ┆ Transcrip ┆ Welcome   ┆ 13075  │\n",
       "│ w.acquired ┆ An         ┆ Episode   ┆ 2         ┆   ┆           ┆ t:   (dis ┆ to        ┆        │\n",
       "│ .fm/episod ┆ Acquirer's ┆ 18        ┆           ┆   ┆           ┆ claimer:  ┆ Episode   ┆        │\n",
       "│ …          ┆ View in…   ┆           ┆           ┆   ┆           ┆ may…      ┆ of 18 of  ┆        │\n",
       "│            ┆            ┆           ┆           ┆   ┆           ┆           ┆ Ac…       ┆        │\n",
       "│ https://ww ┆ Jet        ┆ Season 1, ┆ 2016-08-2 ┆ … ┆ true      ┆ Transcrip ┆ Welcome   ┆ 12463  │\n",
       "│ w.acquired ┆            ┆ Episode   ┆ 9         ┆   ┆           ┆ t:   (dis ┆ to        ┆        │\n",
       "│ .fm/episod ┆            ┆ 19        ┆           ┆   ┆           ┆ claimer:  ┆ Episode   ┆        │\n",
       "│ …          ┆            ┆           ┆           ┆   ┆           ┆ may…      ┆ 19 of     ┆        │\n",
       "│            ┆            ┆           ┆           ┆   ┆           ┆           ┆ Acqui…    ┆        │\n",
       "└────────────┴────────────┴───────────┴───────────┴───┴───────────┴───────────┴───────────┴────────┘"
      ]
     },
     "execution_count": 5,
     "metadata": {},
     "output_type": "execute_result"
    }
   ],
   "source": [
    "# Verify the DataFrame\n",
    "podcasts_clean"
   ]
  },
  {
   "cell_type": "code",
   "execution_count": 6,
   "metadata": {},
   "outputs": [],
   "source": [
    "# Save dataframe to disk as Parquet\n",
    "podcasts_clean.write_parquet(\"/Users/borja/Documents/Somniumrema/projects/genai/grag/pipeline_outcomes/podcasts_clean.parquet\")"
   ]
  },
  {
   "cell_type": "code",
   "execution_count": 7,
   "metadata": {},
   "outputs": [
    {
     "data": {
      "application/vnd.plotly.v1+json": {
       "config": {
        "plotlyServerURL": "https://plot.ly"
       },
       "data": [
        {
         "alignmentgroup": "True",
         "bingroup": "x",
         "hovertemplate": "Token count=%{x}<br>count=%{y}<extra></extra>",
         "legendgroup": "",
         "marker": {
          "color": "#636efa",
          "pattern": {
           "shape": ""
          }
         },
         "name": "",
         "nbinsx": 100,
         "offsetgroup": "",
         "orientation": "v",
         "showlegend": false,
         "type": "histogram",
         "x": [
          37417,
          11939,
          35198,
          21593,
          18077,
          12903,
          23961,
          45242,
          31512,
          45930,
          51709,
          11392,
          39313,
          53854,
          18633,
          47303,
          17217,
          38784,
          15527,
          12758,
          11734,
          27804,
          18733,
          44204,
          19487,
          14832,
          43266,
          49836,
          16401,
          23127,
          12726,
          16763,
          8778,
          29535,
          44595,
          28621,
          31008,
          13904,
          45513,
          13254,
          43104,
          41752,
          12780,
          14174,
          14225,
          18715,
          13818,
          37330,
          21033,
          27436,
          53907,
          18976,
          19911,
          34119,
          46551,
          19521,
          33201,
          14685,
          26891,
          23352,
          12944,
          13980,
          35681,
          10684,
          23056,
          13148,
          23997,
          16419,
          7814,
          27677,
          17148,
          9034,
          14272,
          28735,
          12753,
          25052,
          41345,
          8287,
          13060,
          19761,
          19147,
          15686,
          32428,
          19483,
          34589,
          16035,
          34491,
          23327,
          35964,
          14316,
          24845,
          8966,
          35561,
          19738,
          21650,
          32639,
          25951,
          25577,
          9957,
          37650,
          10964,
          16778,
          34366,
          15710,
          11833,
          22918,
          14522,
          16832,
          36671,
          14849,
          22146,
          28257,
          21403,
          19560,
          15437,
          32352,
          19339,
          9678,
          14274,
          21325,
          15693,
          16364,
          34747,
          31354,
          16649,
          29261,
          7960,
          14009,
          22780,
          12341,
          15353,
          10935,
          25820,
          2815,
          22332,
          17170,
          13798,
          17279,
          24342,
          15024,
          25734,
          18858,
          12858,
          18304,
          14389,
          21434,
          12976,
          17488,
          8777,
          15764,
          17431,
          19110,
          14933,
          23389,
          14857,
          21423,
          19311,
          22102,
          20264,
          30110,
          25569,
          20633,
          20744,
          12170,
          14457,
          15908,
          14678,
          15533,
          15554,
          15142,
          15254,
          19860,
          12163,
          13516,
          15770,
          13459,
          13387,
          15167,
          15049,
          13813,
          12425,
          12218,
          12129,
          13930,
          14985,
          16321,
          14819,
          14970,
          14435,
          7485,
          8905,
          9603,
          10984,
          11571,
          11360,
          13883,
          11059,
          11693,
          13075,
          12463
         ],
         "xaxis": "x",
         "yaxis": "y"
        }
       ],
       "layout": {
        "bargap": 0.2,
        "barmode": "relative",
        "legend": {
         "tracegroupgap": 0
        },
        "template": {
         "data": {
          "bar": [
           {
            "error_x": {
             "color": "#2a3f5f"
            },
            "error_y": {
             "color": "#2a3f5f"
            },
            "marker": {
             "line": {
              "color": "#E5ECF6",
              "width": 0.5
             },
             "pattern": {
              "fillmode": "overlay",
              "size": 10,
              "solidity": 0.2
             }
            },
            "type": "bar"
           }
          ],
          "barpolar": [
           {
            "marker": {
             "line": {
              "color": "#E5ECF6",
              "width": 0.5
             },
             "pattern": {
              "fillmode": "overlay",
              "size": 10,
              "solidity": 0.2
             }
            },
            "type": "barpolar"
           }
          ],
          "carpet": [
           {
            "aaxis": {
             "endlinecolor": "#2a3f5f",
             "gridcolor": "white",
             "linecolor": "white",
             "minorgridcolor": "white",
             "startlinecolor": "#2a3f5f"
            },
            "baxis": {
             "endlinecolor": "#2a3f5f",
             "gridcolor": "white",
             "linecolor": "white",
             "minorgridcolor": "white",
             "startlinecolor": "#2a3f5f"
            },
            "type": "carpet"
           }
          ],
          "choropleth": [
           {
            "colorbar": {
             "outlinewidth": 0,
             "ticks": ""
            },
            "type": "choropleth"
           }
          ],
          "contour": [
           {
            "colorbar": {
             "outlinewidth": 0,
             "ticks": ""
            },
            "colorscale": [
             [
              0,
              "#0d0887"
             ],
             [
              0.1111111111111111,
              "#46039f"
             ],
             [
              0.2222222222222222,
              "#7201a8"
             ],
             [
              0.3333333333333333,
              "#9c179e"
             ],
             [
              0.4444444444444444,
              "#bd3786"
             ],
             [
              0.5555555555555556,
              "#d8576b"
             ],
             [
              0.6666666666666666,
              "#ed7953"
             ],
             [
              0.7777777777777778,
              "#fb9f3a"
             ],
             [
              0.8888888888888888,
              "#fdca26"
             ],
             [
              1,
              "#f0f921"
             ]
            ],
            "type": "contour"
           }
          ],
          "contourcarpet": [
           {
            "colorbar": {
             "outlinewidth": 0,
             "ticks": ""
            },
            "type": "contourcarpet"
           }
          ],
          "heatmap": [
           {
            "colorbar": {
             "outlinewidth": 0,
             "ticks": ""
            },
            "colorscale": [
             [
              0,
              "#0d0887"
             ],
             [
              0.1111111111111111,
              "#46039f"
             ],
             [
              0.2222222222222222,
              "#7201a8"
             ],
             [
              0.3333333333333333,
              "#9c179e"
             ],
             [
              0.4444444444444444,
              "#bd3786"
             ],
             [
              0.5555555555555556,
              "#d8576b"
             ],
             [
              0.6666666666666666,
              "#ed7953"
             ],
             [
              0.7777777777777778,
              "#fb9f3a"
             ],
             [
              0.8888888888888888,
              "#fdca26"
             ],
             [
              1,
              "#f0f921"
             ]
            ],
            "type": "heatmap"
           }
          ],
          "heatmapgl": [
           {
            "colorbar": {
             "outlinewidth": 0,
             "ticks": ""
            },
            "colorscale": [
             [
              0,
              "#0d0887"
             ],
             [
              0.1111111111111111,
              "#46039f"
             ],
             [
              0.2222222222222222,
              "#7201a8"
             ],
             [
              0.3333333333333333,
              "#9c179e"
             ],
             [
              0.4444444444444444,
              "#bd3786"
             ],
             [
              0.5555555555555556,
              "#d8576b"
             ],
             [
              0.6666666666666666,
              "#ed7953"
             ],
             [
              0.7777777777777778,
              "#fb9f3a"
             ],
             [
              0.8888888888888888,
              "#fdca26"
             ],
             [
              1,
              "#f0f921"
             ]
            ],
            "type": "heatmapgl"
           }
          ],
          "histogram": [
           {
            "marker": {
             "pattern": {
              "fillmode": "overlay",
              "size": 10,
              "solidity": 0.2
             }
            },
            "type": "histogram"
           }
          ],
          "histogram2d": [
           {
            "colorbar": {
             "outlinewidth": 0,
             "ticks": ""
            },
            "colorscale": [
             [
              0,
              "#0d0887"
             ],
             [
              0.1111111111111111,
              "#46039f"
             ],
             [
              0.2222222222222222,
              "#7201a8"
             ],
             [
              0.3333333333333333,
              "#9c179e"
             ],
             [
              0.4444444444444444,
              "#bd3786"
             ],
             [
              0.5555555555555556,
              "#d8576b"
             ],
             [
              0.6666666666666666,
              "#ed7953"
             ],
             [
              0.7777777777777778,
              "#fb9f3a"
             ],
             [
              0.8888888888888888,
              "#fdca26"
             ],
             [
              1,
              "#f0f921"
             ]
            ],
            "type": "histogram2d"
           }
          ],
          "histogram2dcontour": [
           {
            "colorbar": {
             "outlinewidth": 0,
             "ticks": ""
            },
            "colorscale": [
             [
              0,
              "#0d0887"
             ],
             [
              0.1111111111111111,
              "#46039f"
             ],
             [
              0.2222222222222222,
              "#7201a8"
             ],
             [
              0.3333333333333333,
              "#9c179e"
             ],
             [
              0.4444444444444444,
              "#bd3786"
             ],
             [
              0.5555555555555556,
              "#d8576b"
             ],
             [
              0.6666666666666666,
              "#ed7953"
             ],
             [
              0.7777777777777778,
              "#fb9f3a"
             ],
             [
              0.8888888888888888,
              "#fdca26"
             ],
             [
              1,
              "#f0f921"
             ]
            ],
            "type": "histogram2dcontour"
           }
          ],
          "mesh3d": [
           {
            "colorbar": {
             "outlinewidth": 0,
             "ticks": ""
            },
            "type": "mesh3d"
           }
          ],
          "parcoords": [
           {
            "line": {
             "colorbar": {
              "outlinewidth": 0,
              "ticks": ""
             }
            },
            "type": "parcoords"
           }
          ],
          "pie": [
           {
            "automargin": true,
            "type": "pie"
           }
          ],
          "scatter": [
           {
            "fillpattern": {
             "fillmode": "overlay",
             "size": 10,
             "solidity": 0.2
            },
            "type": "scatter"
           }
          ],
          "scatter3d": [
           {
            "line": {
             "colorbar": {
              "outlinewidth": 0,
              "ticks": ""
             }
            },
            "marker": {
             "colorbar": {
              "outlinewidth": 0,
              "ticks": ""
             }
            },
            "type": "scatter3d"
           }
          ],
          "scattercarpet": [
           {
            "marker": {
             "colorbar": {
              "outlinewidth": 0,
              "ticks": ""
             }
            },
            "type": "scattercarpet"
           }
          ],
          "scattergeo": [
           {
            "marker": {
             "colorbar": {
              "outlinewidth": 0,
              "ticks": ""
             }
            },
            "type": "scattergeo"
           }
          ],
          "scattergl": [
           {
            "marker": {
             "colorbar": {
              "outlinewidth": 0,
              "ticks": ""
             }
            },
            "type": "scattergl"
           }
          ],
          "scattermapbox": [
           {
            "marker": {
             "colorbar": {
              "outlinewidth": 0,
              "ticks": ""
             }
            },
            "type": "scattermapbox"
           }
          ],
          "scatterpolar": [
           {
            "marker": {
             "colorbar": {
              "outlinewidth": 0,
              "ticks": ""
             }
            },
            "type": "scatterpolar"
           }
          ],
          "scatterpolargl": [
           {
            "marker": {
             "colorbar": {
              "outlinewidth": 0,
              "ticks": ""
             }
            },
            "type": "scatterpolargl"
           }
          ],
          "scatterternary": [
           {
            "marker": {
             "colorbar": {
              "outlinewidth": 0,
              "ticks": ""
             }
            },
            "type": "scatterternary"
           }
          ],
          "surface": [
           {
            "colorbar": {
             "outlinewidth": 0,
             "ticks": ""
            },
            "colorscale": [
             [
              0,
              "#0d0887"
             ],
             [
              0.1111111111111111,
              "#46039f"
             ],
             [
              0.2222222222222222,
              "#7201a8"
             ],
             [
              0.3333333333333333,
              "#9c179e"
             ],
             [
              0.4444444444444444,
              "#bd3786"
             ],
             [
              0.5555555555555556,
              "#d8576b"
             ],
             [
              0.6666666666666666,
              "#ed7953"
             ],
             [
              0.7777777777777778,
              "#fb9f3a"
             ],
             [
              0.8888888888888888,
              "#fdca26"
             ],
             [
              1,
              "#f0f921"
             ]
            ],
            "type": "surface"
           }
          ],
          "table": [
           {
            "cells": {
             "fill": {
              "color": "#EBF0F8"
             },
             "line": {
              "color": "white"
             }
            },
            "header": {
             "fill": {
              "color": "#C8D4E3"
             },
             "line": {
              "color": "white"
             }
            },
            "type": "table"
           }
          ]
         },
         "layout": {
          "annotationdefaults": {
           "arrowcolor": "#2a3f5f",
           "arrowhead": 0,
           "arrowwidth": 1
          },
          "autotypenumbers": "strict",
          "coloraxis": {
           "colorbar": {
            "outlinewidth": 0,
            "ticks": ""
           }
          },
          "colorscale": {
           "diverging": [
            [
             0,
             "#8e0152"
            ],
            [
             0.1,
             "#c51b7d"
            ],
            [
             0.2,
             "#de77ae"
            ],
            [
             0.3,
             "#f1b6da"
            ],
            [
             0.4,
             "#fde0ef"
            ],
            [
             0.5,
             "#f7f7f7"
            ],
            [
             0.6,
             "#e6f5d0"
            ],
            [
             0.7,
             "#b8e186"
            ],
            [
             0.8,
             "#7fbc41"
            ],
            [
             0.9,
             "#4d9221"
            ],
            [
             1,
             "#276419"
            ]
           ],
           "sequential": [
            [
             0,
             "#0d0887"
            ],
            [
             0.1111111111111111,
             "#46039f"
            ],
            [
             0.2222222222222222,
             "#7201a8"
            ],
            [
             0.3333333333333333,
             "#9c179e"
            ],
            [
             0.4444444444444444,
             "#bd3786"
            ],
            [
             0.5555555555555556,
             "#d8576b"
            ],
            [
             0.6666666666666666,
             "#ed7953"
            ],
            [
             0.7777777777777778,
             "#fb9f3a"
            ],
            [
             0.8888888888888888,
             "#fdca26"
            ],
            [
             1,
             "#f0f921"
            ]
           ],
           "sequentialminus": [
            [
             0,
             "#0d0887"
            ],
            [
             0.1111111111111111,
             "#46039f"
            ],
            [
             0.2222222222222222,
             "#7201a8"
            ],
            [
             0.3333333333333333,
             "#9c179e"
            ],
            [
             0.4444444444444444,
             "#bd3786"
            ],
            [
             0.5555555555555556,
             "#d8576b"
            ],
            [
             0.6666666666666666,
             "#ed7953"
            ],
            [
             0.7777777777777778,
             "#fb9f3a"
            ],
            [
             0.8888888888888888,
             "#fdca26"
            ],
            [
             1,
             "#f0f921"
            ]
           ]
          },
          "colorway": [
           "#636efa",
           "#EF553B",
           "#00cc96",
           "#ab63fa",
           "#FFA15A",
           "#19d3f3",
           "#FF6692",
           "#B6E880",
           "#FF97FF",
           "#FECB52"
          ],
          "font": {
           "color": "#2a3f5f"
          },
          "geo": {
           "bgcolor": "white",
           "lakecolor": "white",
           "landcolor": "#E5ECF6",
           "showlakes": true,
           "showland": true,
           "subunitcolor": "white"
          },
          "hoverlabel": {
           "align": "left"
          },
          "hovermode": "closest",
          "mapbox": {
           "style": "light"
          },
          "paper_bgcolor": "white",
          "plot_bgcolor": "#E5ECF6",
          "polar": {
           "angularaxis": {
            "gridcolor": "white",
            "linecolor": "white",
            "ticks": ""
           },
           "bgcolor": "#E5ECF6",
           "radialaxis": {
            "gridcolor": "white",
            "linecolor": "white",
            "ticks": ""
           }
          },
          "scene": {
           "xaxis": {
            "backgroundcolor": "#E5ECF6",
            "gridcolor": "white",
            "gridwidth": 2,
            "linecolor": "white",
            "showbackground": true,
            "ticks": "",
            "zerolinecolor": "white"
           },
           "yaxis": {
            "backgroundcolor": "#E5ECF6",
            "gridcolor": "white",
            "gridwidth": 2,
            "linecolor": "white",
            "showbackground": true,
            "ticks": "",
            "zerolinecolor": "white"
           },
           "zaxis": {
            "backgroundcolor": "#E5ECF6",
            "gridcolor": "white",
            "gridwidth": 2,
            "linecolor": "white",
            "showbackground": true,
            "ticks": "",
            "zerolinecolor": "white"
           }
          },
          "shapedefaults": {
           "line": {
            "color": "#2a3f5f"
           }
          },
          "ternary": {
           "aaxis": {
            "gridcolor": "white",
            "linecolor": "white",
            "ticks": ""
           },
           "baxis": {
            "gridcolor": "white",
            "linecolor": "white",
            "ticks": ""
           },
           "bgcolor": "#E5ECF6",
           "caxis": {
            "gridcolor": "white",
            "linecolor": "white",
            "ticks": ""
           }
          },
          "title": {
           "x": 0.05
          },
          "xaxis": {
           "automargin": true,
           "gridcolor": "white",
           "linecolor": "white",
           "ticks": "",
           "title": {
            "standoff": 15
           },
           "zerolinecolor": "white",
           "zerolinewidth": 2
          },
          "yaxis": {
           "automargin": true,
           "gridcolor": "white",
           "linecolor": "white",
           "ticks": "",
           "title": {
            "standoff": 15
           },
           "zerolinecolor": "white",
           "zerolinewidth": 2
          }
         }
        },
        "title": {
         "text": "Distribution of tokens in the podcast transcripts"
        },
        "xaxis": {
         "anchor": "y",
         "domain": [
          0,
          1
         ],
         "title": {
          "text": "Token count"
         }
        },
        "yaxis": {
         "anchor": "x",
         "domain": [
          0,
          1
         ],
         "title": {
          "text": "Frequency"
         }
        }
       }
      }
     },
     "metadata": {},
     "output_type": "display_data"
    }
   ],
   "source": [
    "# Create a histogram of the token count distribution using Plotly\n",
    "fig = px.histogram(\n",
    "    podcasts_clean,\n",
    "    x=\"tokens\",\n",
    "    nbins=100,  \n",
    "    title=\"Distribution of tokens in the podcast transcripts\",\n",
    "    labels={\"tokens\": \"Token count\"},\n",
    ")\n",
    "\n",
    "# Customize the layout\n",
    "fig.update_layout(\n",
    "    xaxis_title=\"Token count\",\n",
    "    yaxis_title=\"Frequency\",\n",
    "    bargap=0.2,\n",
    ")\n",
    "\n",
    "# Show the plot\n",
    "fig.show()"
   ]
  }
 ],
 "metadata": {
  "kernelspec": {
   "display_name": "grag-EOKyDehK-py3.11",
   "language": "python",
   "name": "python3"
  },
  "language_info": {
   "codemirror_mode": {
    "name": "ipython",
    "version": 3
   },
   "file_extension": ".py",
   "mimetype": "text/x-python",
   "name": "python",
   "nbconvert_exporter": "python",
   "pygments_lexer": "ipython3",
   "version": "3.11.8"
  }
 },
 "nbformat": 4,
 "nbformat_minor": 2
}
