{
 "cells": [
  {
   "cell_type": "code",
   "execution_count": 1,
   "metadata": {},
   "outputs": [],
   "source": [
    "# Standard Library Imports\n",
    "import sys\n",
    "import logging\n",
    "from pathlib import Path\n",
    "\n",
    "# Third-Party Imports\n",
    "import polars as pl\n",
    "from tqdm import tqdm\n",
    "from dotenv import load_dotenv\n",
    "import plotly.express as px\n",
    "\n",
    "# Local Imports\n",
    "from grag.text_utils import load_and_process_podcasts"
   ]
  },
  {
   "cell_type": "code",
   "execution_count": 2,
   "metadata": {},
   "outputs": [],
   "source": [
    "# Load environment variables\n",
    "load_dotenv()\n",
    "\n",
    "# Configure the logger\n",
    "logging.basicConfig(level=logging.INFO, format='%(asctime)s - %(levelname)s - %(message)s')\n",
    "logger = logging.getLogger(__name__)"
   ]
  },
  {
   "cell_type": "code",
   "execution_count": 3,
   "metadata": {},
   "outputs": [],
   "source": [
    "# Define paths\n",
    "csv_path = \"/Users/borja/Documents/Somniumrema/projects/genai/grag/data/acquired_metadata.csv\"\n",
    "text_folder = Path(\"/Users/borja/Documents/Somniumrema/projects/genai/grag/data/acquired-individual-transcripts/acquired-individual-transcripts\")"
   ]
  },
  {
   "cell_type": "code",
   "execution_count": 4,
   "metadata": {},
   "outputs": [
    {
     "data": {
      "text/html": [
       "<div><style>\n",
       ".dataframe > thead > tr,\n",
       ".dataframe > tbody > tr {\n",
       "  text-align: right;\n",
       "  white-space: pre-wrap;\n",
       "}\n",
       "</style>\n",
       "<small>shape: (200, 2)</small><table border=\"1\" class=\"dataframe\"><thead><tr><th>filename</th><th>content</th></tr><tr><td>str</td><td>str</td></tr></thead><tbody><tr><td>&quot;highperformance_hiring_intervi…</td><td>&quot;Transcript:&nbsp;&nbsp;&nbsp;(disclaimer: may…</td></tr><tr><td>&quot;the_2022_state_of_crypto_web3_…</td><td>&quot;Transcript:&nbsp;&nbsp;&nbsp;(disclaimer: may…</td></tr><tr><td>&quot;slack_salesforce_emergency_pod…</td><td>&quot;Transcript:&nbsp;&nbsp;&nbsp;(disclaimer: may…</td></tr><tr><td>&quot;the_uber_didi_chuxing_merger_w…</td><td>&quot;Transcript:&nbsp;&nbsp;&nbsp;(disclaimer: may…</td></tr><tr><td>&quot;nvidia_part_i_the_gpu_company_…</td><td>&quot;Transcript:&nbsp;&nbsp;&nbsp;(disclaimer: may…</td></tr><tr><td>&hellip;</td><td>&hellip;</td></tr><tr><td>&quot;andreessen_horowitz_part_i.txt&quot;</td><td>&quot;Transcript:&nbsp;&nbsp;&nbsp;(disclaimer: may…</td></tr><tr><td>&quot;kindergarten_ventures_vanta_in…</td><td>&quot;Transcript:&nbsp;&nbsp;&nbsp;(disclaimer: may…</td></tr><tr><td>&quot;adapting_episode_1_canlis.txt&quot;</td><td>&quot;Transcript:&nbsp;&nbsp;&nbsp;(disclaimer: may…</td></tr><tr><td>&quot;short_the_death_of_sega.txt&quot;</td><td>&quot;Transcript:&nbsp;&nbsp;&nbsp;(disclaimer: may…</td></tr><tr><td>&quot;reverse_interview_acquired_str…</td><td>&quot;Transcript:&nbsp;&nbsp;&nbsp;(disclaimer: may…</td></tr></tbody></table></div>"
      ],
      "text/plain": [
       "shape: (200, 2)\n",
       "┌─────────────────────────────────┬─────────────────────────────────┐\n",
       "│ filename                        ┆ content                         │\n",
       "│ ---                             ┆ ---                             │\n",
       "│ str                             ┆ str                             │\n",
       "╞═════════════════════════════════╪═════════════════════════════════╡\n",
       "│ highperformance_hiring_intervi… ┆ Transcript:   (disclaimer: may… │\n",
       "│ the_2022_state_of_crypto_web3_… ┆ Transcript:   (disclaimer: may… │\n",
       "│ slack_salesforce_emergency_pod… ┆ Transcript:   (disclaimer: may… │\n",
       "│ the_uber_didi_chuxing_merger_w… ┆ Transcript:   (disclaimer: may… │\n",
       "│ nvidia_part_i_the_gpu_company_… ┆ Transcript:   (disclaimer: may… │\n",
       "│ …                               ┆ …                               │\n",
       "│ andreessen_horowitz_part_i.txt  ┆ Transcript:   (disclaimer: may… │\n",
       "│ kindergarten_ventures_vanta_in… ┆ Transcript:   (disclaimer: may… │\n",
       "│ adapting_episode_1_canlis.txt   ┆ Transcript:   (disclaimer: may… │\n",
       "│ short_the_death_of_sega.txt     ┆ Transcript:   (disclaimer: may… │\n",
       "│ reverse_interview_acquired_str… ┆ Transcript:   (disclaimer: may… │\n",
       "└─────────────────────────────────┴─────────────────────────────────┘"
      ]
     },
     "execution_count": 4,
     "metadata": {},
     "output_type": "execute_result"
    }
   ],
   "source": [
    "import os\n",
    "def read_text_files(folder_path):\n",
    "    data = []\n",
    "    for filename in os.listdir(folder_path):\n",
    "        if filename.endswith(\".txt\"):\n",
    "            file_path = os.path.join(folder_path, filename)\n",
    "            with open(file_path, 'r', encoding='utf-8') as file:\n",
    "                content = file.read()\n",
    "                data.append({\"filename\": filename, \"content\": content})\n",
    "    return data\n",
    "\n",
    "# Read text files\n",
    "data = read_text_files(text_folder)\n",
    "\n",
    "# Create a Polars DataFrame\n",
    "df = pl.DataFrame(data)\n",
    "\n",
    "# Display the DataFrame\n",
    "df"
   ]
  },
  {
   "cell_type": "code",
   "execution_count": 5,
   "metadata": {},
   "outputs": [
    {
     "data": {
      "text/html": [
       "<div><style>\n",
       ".dataframe > thead > tr,\n",
       ".dataframe > tbody > tr {\n",
       "  text-align: right;\n",
       "  white-space: pre-wrap;\n",
       "}\n",
       "</style>\n",
       "<small>shape: (75, 7)</small><table border=\"1\" class=\"dataframe\"><thead><tr><th>post_url</th><th>post_title</th><th>series_number</th><th>blog_date</th><th>blog_title</th><th>file_name</th><th>has_transcript</th></tr><tr><td>str</td><td>str</td><td>str</td><td>str</td><td>str</td><td>str</td><td>bool</td></tr></thead><tbody><tr><td>&quot;https://www.acquired.fm/episod…</td><td>&quot;Visa Follow-Up and Today’s Pay…</td><td>&quot;ACQ2 Episode&quot;</td><td>&quot;December 3, 2023&quot;</td><td>&quot;Related Episodes&quot;</td><td>&quot;visa_followup_and_todays_payme…</td><td>false</td></tr><tr><td>&quot;https://www.acquired.fm/episod…</td><td>&quot;Crypto Self-Custody 101 (with …</td><td>&quot;ACQ2 Episode&quot;</td><td>&quot;December 2, 2022&quot;</td><td>&quot;Related Episodes&quot;</td><td>&quot;crypto_selfcustody_101_with_au…</td><td>false</td></tr><tr><td>&quot;https://www.acquired.fm/episod…</td><td>&quot;Reinsurance, Climate + Kinderg…</td><td>&quot;ACQ2 Episode&quot;</td><td>&quot;September 8, 2022&quot;</td><td>&quot;Related Episodes&quot;</td><td>&quot;reinsurance_climate_kindergart…</td><td>false</td></tr><tr><td>&quot;https://www.acquired.fm/episod…</td><td>&quot;Travel for the Creator Economy&quot;</td><td>&quot;ACQ2 Episode&quot;</td><td>&quot;April 15, 2022&quot;</td><td>&quot;Related Episodes&quot;</td><td>&quot;travel_for_the_creator_economy&quot;</td><td>false</td></tr><tr><td>&quot;https://www.acquired.fm/episod…</td><td>&quot;Mission-Driven Founders, Globa…</td><td>&quot;ACQ2 Episode&quot;</td><td>&quot;December 30, 2021&quot;</td><td>&quot;Related Episodes&quot;</td><td>&quot;missiondriven_founders_global_…</td><td>false</td></tr><tr><td>&hellip;</td><td>&hellip;</td><td>&hellip;</td><td>&hellip;</td><td>&hellip;</td><td>&hellip;</td><td>&hellip;</td></tr><tr><td>&quot;https://www.acquired.fm/episod…</td><td>&quot;Pixar&quot;</td><td>&quot;Season 1, Episode 1&quot;</td><td>&quot;October 15, 2015&quot;</td><td>&quot;Related Episodes&quot;</td><td>&quot;pixar&quot;</td><td>false</td></tr><tr><td>&quot;https://www.acquired.fm/episod…</td><td>&quot;Instagram&quot;</td><td>&quot;Season 1, Episode 2&quot;</td><td>&quot;October 31, 2015&quot;</td><td>&quot;Related Episodes&quot;</td><td>&quot;instagram&quot;</td><td>false</td></tr><tr><td>&quot;https://www.acquired.fm/episod…</td><td>&quot;Twitch&quot;</td><td>&quot;Season 1, Episode 3&quot;</td><td>&quot;November 15, 2015&quot;</td><td>&quot;Related Episodes&quot;</td><td>&quot;twitch&quot;</td><td>false</td></tr><tr><td>&quot;https://www.acquired.fm/episod…</td><td>&quot;Bungie (with Xbox Co-Founder E…</td><td>&quot;Season 1, Episode 4&quot;</td><td>&quot;November 29, 2015&quot;</td><td>&quot;Related Episodes&quot;</td><td>&quot;bungie_with_xbox_cofounder_ed_…</td><td>false</td></tr><tr><td>&quot;https://www.acquired.fm/episod…</td><td>&quot;Siri&quot;</td><td>&quot;Season 1, Episode 5&quot;</td><td>&quot;December 14, 2015&quot;</td><td>&quot;Related Episodes&quot;</td><td>&quot;siri&quot;</td><td>false</td></tr></tbody></table></div>"
      ],
      "text/plain": [
       "shape: (75, 7)\n",
       "┌──────────────┬─────────────┬─────────────┬─────────────┬─────────────┬─────────────┬─────────────┐\n",
       "│ post_url     ┆ post_title  ┆ series_numb ┆ blog_date   ┆ blog_title  ┆ file_name   ┆ has_transcr │\n",
       "│ ---          ┆ ---         ┆ er          ┆ ---         ┆ ---         ┆ ---         ┆ ipt         │\n",
       "│ str          ┆ str         ┆ ---         ┆ str         ┆ str         ┆ str         ┆ ---         │\n",
       "│              ┆             ┆ str         ┆             ┆             ┆             ┆ bool        │\n",
       "╞══════════════╪═════════════╪═════════════╪═════════════╪═════════════╪═════════════╪═════════════╡\n",
       "│ https://www. ┆ Visa        ┆ ACQ2        ┆ December 3, ┆ Related     ┆ visa_follow ┆ false       │\n",
       "│ acquired.fm/ ┆ Follow-Up   ┆ Episode     ┆ 2023        ┆ Episodes    ┆ up_and_toda ┆             │\n",
       "│ episod…      ┆ and Today’s ┆             ┆             ┆             ┆ ys_payme…   ┆             │\n",
       "│              ┆ Pay…        ┆             ┆             ┆             ┆             ┆             │\n",
       "│ https://www. ┆ Crypto Self ┆ ACQ2        ┆ December 2, ┆ Related     ┆ crypto_self ┆ false       │\n",
       "│ acquired.fm/ ┆ -Custody    ┆ Episode     ┆ 2022        ┆ Episodes    ┆ custody_101 ┆             │\n",
       "│ episod…      ┆ 101 (with … ┆             ┆             ┆             ┆ _with_au…   ┆             │\n",
       "│ https://www. ┆ Reinsurance ┆ ACQ2        ┆ September   ┆ Related     ┆ reinsurance ┆ false       │\n",
       "│ acquired.fm/ ┆ , Climate + ┆ Episode     ┆ 8, 2022     ┆ Episodes    ┆ _climate_ki ┆             │\n",
       "│ episod…      ┆ Kinderg…    ┆             ┆             ┆             ┆ ndergart…   ┆             │\n",
       "│ https://www. ┆ Travel for  ┆ ACQ2        ┆ April 15,   ┆ Related     ┆ travel_for_ ┆ false       │\n",
       "│ acquired.fm/ ┆ the Creator ┆ Episode     ┆ 2022        ┆ Episodes    ┆ the_creator ┆             │\n",
       "│ episod…      ┆ Economy     ┆             ┆             ┆             ┆ _economy    ┆             │\n",
       "│ https://www. ┆ Mission-Dri ┆ ACQ2        ┆ December    ┆ Related     ┆ missiondriv ┆ false       │\n",
       "│ acquired.fm/ ┆ ven         ┆ Episode     ┆ 30, 2021    ┆ Episodes    ┆ en_founders ┆             │\n",
       "│ episod…      ┆ Founders,   ┆             ┆             ┆             ┆ _global_…   ┆             │\n",
       "│              ┆ Globa…      ┆             ┆             ┆             ┆             ┆             │\n",
       "│ …            ┆ …           ┆ …           ┆ …           ┆ …           ┆ …           ┆ …           │\n",
       "│ https://www. ┆ Pixar       ┆ Season 1,   ┆ October 15, ┆ Related     ┆ pixar       ┆ false       │\n",
       "│ acquired.fm/ ┆             ┆ Episode 1   ┆ 2015        ┆ Episodes    ┆             ┆             │\n",
       "│ episod…      ┆             ┆             ┆             ┆             ┆             ┆             │\n",
       "│ https://www. ┆ Instagram   ┆ Season 1,   ┆ October 31, ┆ Related     ┆ instagram   ┆ false       │\n",
       "│ acquired.fm/ ┆             ┆ Episode 2   ┆ 2015        ┆ Episodes    ┆             ┆             │\n",
       "│ episod…      ┆             ┆             ┆             ┆             ┆             ┆             │\n",
       "│ https://www. ┆ Twitch      ┆ Season 1,   ┆ November    ┆ Related     ┆ twitch      ┆ false       │\n",
       "│ acquired.fm/ ┆             ┆ Episode 3   ┆ 15, 2015    ┆ Episodes    ┆             ┆             │\n",
       "│ episod…      ┆             ┆             ┆             ┆             ┆             ┆             │\n",
       "│ https://www. ┆ Bungie      ┆ Season 1,   ┆ November    ┆ Related     ┆ bungie_with ┆ false       │\n",
       "│ acquired.fm/ ┆ (with Xbox  ┆ Episode 4   ┆ 29, 2015    ┆ Episodes    ┆ _xbox_cofou ┆             │\n",
       "│ episod…      ┆ Co-Founder  ┆             ┆             ┆             ┆ nder_ed_…   ┆             │\n",
       "│              ┆ E…          ┆             ┆             ┆             ┆             ┆             │\n",
       "│ https://www. ┆ Siri        ┆ Season 1,   ┆ December    ┆ Related     ┆ siri        ┆ false       │\n",
       "│ acquired.fm/ ┆             ┆ Episode 5   ┆ 14, 2015    ┆ Episodes    ┆             ┆             │\n",
       "│ episod…      ┆             ┆             ┆             ┆             ┆             ┆             │\n",
       "└──────────────┴─────────────┴─────────────┴─────────────┴─────────────┴─────────────┴─────────────┘"
      ]
     },
     "execution_count": 5,
     "metadata": {},
     "output_type": "execute_result"
    }
   ],
   "source": [
    "metadata = pl.read_csv(csv_path)\n",
    "\n",
    "metadata.filter(pl.col(\"has_transcript\") == False)  "
   ]
  },
  {
   "cell_type": "code",
   "execution_count": 6,
   "metadata": {},
   "outputs": [
    {
     "name": "stdout",
     "output_type": "stream",
     "text": [
      "Number of files in the folder: 200\n"
     ]
    }
   ],
   "source": [
    "import os\n",
    "\n",
    "# Specify the folder path\n",
    "folder_path = \"/Users/borja/Documents/Somniumrema/projects/genai/grag/data/acquired-individual-transcripts/acquired-individual-transcripts\"\n",
    "\n",
    "# List all files in the directory\n",
    "files = os.listdir(folder_path)\n",
    "\n",
    "# Count the number of files\n",
    "file_count = len(files)\n",
    "\n",
    "# Print the number of files\n",
    "print(f\"Number of files in the folder: {file_count}\")"
   ]
  },
  {
   "cell_type": "code",
   "execution_count": 7,
   "metadata": {},
   "outputs": [
    {
     "data": {
      "text/html": [
       "<div><style>\n",
       ".dataframe > thead > tr,\n",
       ".dataframe > tbody > tr {\n",
       "  text-align: right;\n",
       "  white-space: pre-wrap;\n",
       "}\n",
       "</style>\n",
       "<small>shape: (80, 3)</small><table border=\"1\" class=\"dataframe\"><thead><tr><th>file_name</th><th>question</th><th>post_title</th></tr><tr><td>str</td><td>str</td><td>str</td></tr></thead><tbody><tr><td>&quot;airbnb&quot;</td><td>&quot;When did Airbnb go public, wha…</td><td>&quot;Airbnb&quot;</td></tr><tr><td>&quot;airbnb&quot;</td><td>&quot;Why did Wimdu unlike Airbnb no…</td><td>&quot;Airbnb&quot;</td></tr><tr><td>&quot;airbnb&quot;</td><td>&quot;Why does market fragmentation …</td><td>&quot;Airbnb&quot;</td></tr><tr><td>&quot;costco&quot;</td><td>&quot;How many hot dogs does Costco …</td><td>&quot;Costco&quot;</td></tr><tr><td>&quot;costco&quot;</td><td>&quot;What store was created as &quot;the…</td><td>&quot;Costco&quot;</td></tr><tr><td>&hellip;</td><td>&hellip;</td><td>&hellip;</td></tr><tr><td>&quot;enron&quot;</td><td>&quot;How did Enron remove investmen…</td><td>&quot;Enron&quot;</td></tr><tr><td>&quot;enron&quot;</td><td>&quot;The fall of Enron is similar t…</td><td>&quot;Enron&quot;</td></tr><tr><td>&quot;ftx_with_sam_bankmanfried_mari…</td><td>&quot;What metrics did FTX judge its…</td><td>&quot;FTX (with Sam Bankman-Fried &amp; …</td></tr><tr><td>&quot;the_electronic_arts_ipo_with_t…</td><td>&quot;When was Trip Hawkins exposed …</td><td>&quot;The Electronic Arts IPO (with …</td></tr><tr><td>&quot;the_electronic_arts_ipo_with_t…</td><td>&quot;What was Trip Hawkins favorite…</td><td>&quot;The Electronic Arts IPO (with …</td></tr></tbody></table></div>"
      ],
      "text/plain": [
       "shape: (80, 3)\n",
       "┌────────────────────────────────┬────────────────────────────────┬────────────────────────────────┐\n",
       "│ file_name                      ┆ question                       ┆ post_title                     │\n",
       "│ ---                            ┆ ---                            ┆ ---                            │\n",
       "│ str                            ┆ str                            ┆ str                            │\n",
       "╞════════════════════════════════╪════════════════════════════════╪════════════════════════════════╡\n",
       "│ airbnb                         ┆ When did Airbnb go public,     ┆ Airbnb                         │\n",
       "│                                ┆ wha…                           ┆                                │\n",
       "│ airbnb                         ┆ Why did Wimdu unlike Airbnb    ┆ Airbnb                         │\n",
       "│                                ┆ no…                            ┆                                │\n",
       "│ airbnb                         ┆ Why does market fragmentation  ┆ Airbnb                         │\n",
       "│                                ┆ …                              ┆                                │\n",
       "│ costco                         ┆ How many hot dogs does Costco  ┆ Costco                         │\n",
       "│                                ┆ …                              ┆                                │\n",
       "│ costco                         ┆ What store was created as      ┆ Costco                         │\n",
       "│                                ┆ \"the…                          ┆                                │\n",
       "│ …                              ┆ …                              ┆ …                              │\n",
       "│ enron                          ┆ How did Enron remove           ┆ Enron                          │\n",
       "│                                ┆ investmen…                     ┆                                │\n",
       "│ enron                          ┆ The fall of Enron is similar   ┆ Enron                          │\n",
       "│                                ┆ t…                             ┆                                │\n",
       "│ ftx_with_sam_bankmanfried_mari ┆ What metrics did FTX judge     ┆ FTX (with Sam Bankman-Fried &  │\n",
       "│ …                              ┆ its…                           ┆ …                              │\n",
       "│ the_electronic_arts_ipo_with_t ┆ When was Trip Hawkins exposed  ┆ The Electronic Arts IPO (with  │\n",
       "│ …                              ┆ …                              ┆ …                              │\n",
       "│ the_electronic_arts_ipo_with_t ┆ What was Trip Hawkins          ┆ The Electronic Arts IPO (with  │\n",
       "│ …                              ┆ favorite…                      ┆ …                              │\n",
       "└────────────────────────────────┴────────────────────────────────┴────────────────────────────────┘"
      ]
     },
     "execution_count": 7,
     "metadata": {},
     "output_type": "execute_result"
    }
   ],
   "source": [
    "qa = pl.read_csv(\"/Users/borja/Documents/Somniumrema/projects/genai/grag/data/acquired-qa-evaluation.csv\")\n",
    "\n",
    "# Join the qa DataFrame with the metadata DataFrame on file_name\n",
    "qa_with_metadata = qa.join(metadata, on=\"file_name\", how=\"left\")\n",
    "\n",
    "# Ensure that the post_title from the metadata DataFrame is included in the qa DataFrame\n",
    "qa_with_post_title = qa_with_metadata.select([\"file_name\", \"question\", \"post_title\"])\n",
    "\n",
    "# Display the final DataFrame\n",
    "qa_with_post_title"
   ]
  },
  {
   "cell_type": "code",
   "execution_count": 8,
   "metadata": {},
   "outputs": [
    {
     "data": {
      "text/plain": [
       "[shape: (27,)\n",
       " Series: 'post_title' [str]\n",
       " [\n",
       " \t\"Disney, Plus\"\n",
       " \t\"FTX (with Sam Bankman-Fried & …\n",
       " \t\"Enron\"\n",
       " \t\"WhatsApp\"\n",
       " \t\"Airbnb\"\n",
       " \t…\n",
       " \t\"Costco\"\n",
       " \t\"Renaissance Technologies\"\n",
       " \t\"Nvidia Part II: The Machine Le…\n",
       " \t\"Qualcomm\"\n",
       " \t\"The NBA\"\n",
       " ]]"
      ]
     },
     "execution_count": 8,
     "metadata": {},
     "output_type": "execute_result"
    }
   ],
   "source": [
    "# Group by file_name and count the number of questions\n",
    "question_counts = qa_with_post_title.group_by(\"post_title\").agg(pl.count(\"question\").alias(\"question_count\"))\n",
    "\n",
    "# Display the unique file names and their question counts\n",
    "[question_counts[\"post_title\"]]"
   ]
  },
  {
   "cell_type": "code",
   "execution_count": 9,
   "metadata": {},
   "outputs": [],
   "source": [
    "# Define the updated titles as a dictionary\n",
    "updated_titles = {\n",
    "    \"Porsche (with Doug DeMuro)\": \"Porsche\",\n",
    "    \"The Electronic Arts IPO (with Trip Hawkins)\": \"EA IPO\",\n",
    "    \"Nvidia Part I: The GPU Company (1993-2006)\": \"Nvidia Part I\",\n",
    "    \"Nvidia Part II: The Machine Learning Company (2006-2022)\": \"Nvidia Part II\",\n",
    "    \"Nvidia Part III: The Dawn of the AI Era (2022-2023)\": \"Nvidia Part III\",\n",
    "    \"Arena Show Part II: Brooks Running (with CEO Jim Weber)\": \"Arena Show Part II\",\n",
    "    \"Ethereum (with Packy McCormick)\": \"Ethereum\",\n",
    "    \"FTX (with Sam Bankman-Fried & Mario Gabriele)\": \"FTX\",\n",
    "    \"Amazon Web Services\": \"AWS\",\n",
    "    \"Renaissance Technologies\": \"Renaissance Tech\",\n",
    "    \"Berkshire Hathaway Part I\": \"B. Hathaway Part I\"\n",
    "}\n",
    "\n",
    "# Apply the replacement using the `replace` method\n",
    "question_counts = question_counts.with_columns(\n",
    "    pl.col(\"post_title\").replace(updated_titles).alias(\"post_title\")\n",
    ")\n",
    "\n",
    "# Display the updated DataFrame\n",
    "question_counts = question_counts.sort(\"question_count\")"
   ]
  },
  {
   "cell_type": "code",
   "execution_count": 10,
   "metadata": {},
   "outputs": [
    {
     "data": {
      "text/plain": [
       "3.0"
      ]
     },
     "execution_count": 10,
     "metadata": {},
     "output_type": "execute_result"
    }
   ],
   "source": [
    "# Calculate the average number of questions\n",
    "avg_questions = round(question_counts.select(pl.col(\"question_count\").mean()).item(), 0)\n",
    "avg_questions"
   ]
  },
  {
   "cell_type": "code",
   "execution_count": 120,
   "metadata": {},
   "outputs": [
    {
     "data": {
      "application/vnd.plotly.v1+json": {
       "config": {
        "plotlyServerURL": "https://plot.ly"
       },
       "data": [
        {
         "alignmentgroup": "True",
         "hovertemplate": "Título del Post=%{x}<br>Número de Preguntas=%{y}<extra></extra>",
         "legendgroup": "",
         "marker": {
          "color": "#636efa",
          "pattern": {
           "shape": ""
          }
         },
         "name": "",
         "offsetgroup": "",
         "orientation": "v",
         "showlegend": false,
         "textposition": "auto",
         "type": "bar",
         "x": [
          "FTX",
          "The NBA",
          "EA IPO",
          "Arena Show Part II",
          "Peloton",
          "AWS",
          "Porsche",
          "Disney, Plus",
          "WhatsApp",
          "Airbnb",
          "DoorDash",
          "Nvidia Part III",
          "Ethereum",
          "Visa",
          "Nintendo's Origins",
          "Nvidia Part I",
          "LVMH",
          "Walmart",
          "B. Hathaway Part I",
          "Amazon.com",
          "Costco",
          "Renaissance Tech",
          "Nvidia Part II",
          "Bitcoin",
          "Enron",
          "SpaceX",
          "Qualcomm"
         ],
         "xaxis": "x",
         "y": [
          1,
          1,
          2,
          2,
          2,
          2,
          2,
          3,
          3,
          3,
          3,
          3,
          3,
          3,
          3,
          3,
          3,
          3,
          3,
          3,
          3,
          3,
          3,
          4,
          5,
          5,
          6
         ],
         "yaxis": "y"
        }
       ],
       "layout": {
        "annotations": [
         {
          "font": {
           "color": "red"
          },
          "showarrow": false,
          "text": "Promedio: 3",
          "x": 1,
          "xanchor": "right",
          "y": 2.962962962962963,
          "yanchor": "bottom"
         }
        ],
        "barmode": "relative",
        "legend": {
         "tracegroupgap": 0
        },
        "margin": {
         "b": 150,
         "l": 40,
         "r": 40,
         "t": 60
        },
        "paper_bgcolor": "rgba(0,0,0,0)",
        "plot_bgcolor": "rgba(0,0,0,0)",
        "shapes": [
         {
          "line": {
           "color": "red",
           "dash": "dash"
          },
          "type": "line",
          "x0": 0,
          "x1": 1,
          "xref": "paper",
          "y0": 2.962962962962963,
          "y1": 2.962962962962963,
          "yref": "y"
         }
        ],
        "showlegend": false,
        "template": {
         "data": {
          "bar": [
           {
            "error_x": {
             "color": "#2a3f5f"
            },
            "error_y": {
             "color": "#2a3f5f"
            },
            "marker": {
             "line": {
              "color": "#E5ECF6",
              "width": 0.5
             },
             "pattern": {
              "fillmode": "overlay",
              "size": 10,
              "solidity": 0.2
             }
            },
            "type": "bar"
           }
          ],
          "barpolar": [
           {
            "marker": {
             "line": {
              "color": "#E5ECF6",
              "width": 0.5
             },
             "pattern": {
              "fillmode": "overlay",
              "size": 10,
              "solidity": 0.2
             }
            },
            "type": "barpolar"
           }
          ],
          "carpet": [
           {
            "aaxis": {
             "endlinecolor": "#2a3f5f",
             "gridcolor": "white",
             "linecolor": "white",
             "minorgridcolor": "white",
             "startlinecolor": "#2a3f5f"
            },
            "baxis": {
             "endlinecolor": "#2a3f5f",
             "gridcolor": "white",
             "linecolor": "white",
             "minorgridcolor": "white",
             "startlinecolor": "#2a3f5f"
            },
            "type": "carpet"
           }
          ],
          "choropleth": [
           {
            "colorbar": {
             "outlinewidth": 0,
             "ticks": ""
            },
            "type": "choropleth"
           }
          ],
          "contour": [
           {
            "colorbar": {
             "outlinewidth": 0,
             "ticks": ""
            },
            "colorscale": [
             [
              0,
              "#0d0887"
             ],
             [
              0.1111111111111111,
              "#46039f"
             ],
             [
              0.2222222222222222,
              "#7201a8"
             ],
             [
              0.3333333333333333,
              "#9c179e"
             ],
             [
              0.4444444444444444,
              "#bd3786"
             ],
             [
              0.5555555555555556,
              "#d8576b"
             ],
             [
              0.6666666666666666,
              "#ed7953"
             ],
             [
              0.7777777777777778,
              "#fb9f3a"
             ],
             [
              0.8888888888888888,
              "#fdca26"
             ],
             [
              1,
              "#f0f921"
             ]
            ],
            "type": "contour"
           }
          ],
          "contourcarpet": [
           {
            "colorbar": {
             "outlinewidth": 0,
             "ticks": ""
            },
            "type": "contourcarpet"
           }
          ],
          "heatmap": [
           {
            "colorbar": {
             "outlinewidth": 0,
             "ticks": ""
            },
            "colorscale": [
             [
              0,
              "#0d0887"
             ],
             [
              0.1111111111111111,
              "#46039f"
             ],
             [
              0.2222222222222222,
              "#7201a8"
             ],
             [
              0.3333333333333333,
              "#9c179e"
             ],
             [
              0.4444444444444444,
              "#bd3786"
             ],
             [
              0.5555555555555556,
              "#d8576b"
             ],
             [
              0.6666666666666666,
              "#ed7953"
             ],
             [
              0.7777777777777778,
              "#fb9f3a"
             ],
             [
              0.8888888888888888,
              "#fdca26"
             ],
             [
              1,
              "#f0f921"
             ]
            ],
            "type": "heatmap"
           }
          ],
          "heatmapgl": [
           {
            "colorbar": {
             "outlinewidth": 0,
             "ticks": ""
            },
            "colorscale": [
             [
              0,
              "#0d0887"
             ],
             [
              0.1111111111111111,
              "#46039f"
             ],
             [
              0.2222222222222222,
              "#7201a8"
             ],
             [
              0.3333333333333333,
              "#9c179e"
             ],
             [
              0.4444444444444444,
              "#bd3786"
             ],
             [
              0.5555555555555556,
              "#d8576b"
             ],
             [
              0.6666666666666666,
              "#ed7953"
             ],
             [
              0.7777777777777778,
              "#fb9f3a"
             ],
             [
              0.8888888888888888,
              "#fdca26"
             ],
             [
              1,
              "#f0f921"
             ]
            ],
            "type": "heatmapgl"
           }
          ],
          "histogram": [
           {
            "marker": {
             "pattern": {
              "fillmode": "overlay",
              "size": 10,
              "solidity": 0.2
             }
            },
            "type": "histogram"
           }
          ],
          "histogram2d": [
           {
            "colorbar": {
             "outlinewidth": 0,
             "ticks": ""
            },
            "colorscale": [
             [
              0,
              "#0d0887"
             ],
             [
              0.1111111111111111,
              "#46039f"
             ],
             [
              0.2222222222222222,
              "#7201a8"
             ],
             [
              0.3333333333333333,
              "#9c179e"
             ],
             [
              0.4444444444444444,
              "#bd3786"
             ],
             [
              0.5555555555555556,
              "#d8576b"
             ],
             [
              0.6666666666666666,
              "#ed7953"
             ],
             [
              0.7777777777777778,
              "#fb9f3a"
             ],
             [
              0.8888888888888888,
              "#fdca26"
             ],
             [
              1,
              "#f0f921"
             ]
            ],
            "type": "histogram2d"
           }
          ],
          "histogram2dcontour": [
           {
            "colorbar": {
             "outlinewidth": 0,
             "ticks": ""
            },
            "colorscale": [
             [
              0,
              "#0d0887"
             ],
             [
              0.1111111111111111,
              "#46039f"
             ],
             [
              0.2222222222222222,
              "#7201a8"
             ],
             [
              0.3333333333333333,
              "#9c179e"
             ],
             [
              0.4444444444444444,
              "#bd3786"
             ],
             [
              0.5555555555555556,
              "#d8576b"
             ],
             [
              0.6666666666666666,
              "#ed7953"
             ],
             [
              0.7777777777777778,
              "#fb9f3a"
             ],
             [
              0.8888888888888888,
              "#fdca26"
             ],
             [
              1,
              "#f0f921"
             ]
            ],
            "type": "histogram2dcontour"
           }
          ],
          "mesh3d": [
           {
            "colorbar": {
             "outlinewidth": 0,
             "ticks": ""
            },
            "type": "mesh3d"
           }
          ],
          "parcoords": [
           {
            "line": {
             "colorbar": {
              "outlinewidth": 0,
              "ticks": ""
             }
            },
            "type": "parcoords"
           }
          ],
          "pie": [
           {
            "automargin": true,
            "type": "pie"
           }
          ],
          "scatter": [
           {
            "fillpattern": {
             "fillmode": "overlay",
             "size": 10,
             "solidity": 0.2
            },
            "type": "scatter"
           }
          ],
          "scatter3d": [
           {
            "line": {
             "colorbar": {
              "outlinewidth": 0,
              "ticks": ""
             }
            },
            "marker": {
             "colorbar": {
              "outlinewidth": 0,
              "ticks": ""
             }
            },
            "type": "scatter3d"
           }
          ],
          "scattercarpet": [
           {
            "marker": {
             "colorbar": {
              "outlinewidth": 0,
              "ticks": ""
             }
            },
            "type": "scattercarpet"
           }
          ],
          "scattergeo": [
           {
            "marker": {
             "colorbar": {
              "outlinewidth": 0,
              "ticks": ""
             }
            },
            "type": "scattergeo"
           }
          ],
          "scattergl": [
           {
            "marker": {
             "colorbar": {
              "outlinewidth": 0,
              "ticks": ""
             }
            },
            "type": "scattergl"
           }
          ],
          "scattermapbox": [
           {
            "marker": {
             "colorbar": {
              "outlinewidth": 0,
              "ticks": ""
             }
            },
            "type": "scattermapbox"
           }
          ],
          "scatterpolar": [
           {
            "marker": {
             "colorbar": {
              "outlinewidth": 0,
              "ticks": ""
             }
            },
            "type": "scatterpolar"
           }
          ],
          "scatterpolargl": [
           {
            "marker": {
             "colorbar": {
              "outlinewidth": 0,
              "ticks": ""
             }
            },
            "type": "scatterpolargl"
           }
          ],
          "scatterternary": [
           {
            "marker": {
             "colorbar": {
              "outlinewidth": 0,
              "ticks": ""
             }
            },
            "type": "scatterternary"
           }
          ],
          "surface": [
           {
            "colorbar": {
             "outlinewidth": 0,
             "ticks": ""
            },
            "colorscale": [
             [
              0,
              "#0d0887"
             ],
             [
              0.1111111111111111,
              "#46039f"
             ],
             [
              0.2222222222222222,
              "#7201a8"
             ],
             [
              0.3333333333333333,
              "#9c179e"
             ],
             [
              0.4444444444444444,
              "#bd3786"
             ],
             [
              0.5555555555555556,
              "#d8576b"
             ],
             [
              0.6666666666666666,
              "#ed7953"
             ],
             [
              0.7777777777777778,
              "#fb9f3a"
             ],
             [
              0.8888888888888888,
              "#fdca26"
             ],
             [
              1,
              "#f0f921"
             ]
            ],
            "type": "surface"
           }
          ],
          "table": [
           {
            "cells": {
             "fill": {
              "color": "#EBF0F8"
             },
             "line": {
              "color": "white"
             }
            },
            "header": {
             "fill": {
              "color": "#C8D4E3"
             },
             "line": {
              "color": "white"
             }
            },
            "type": "table"
           }
          ]
         },
         "layout": {
          "annotationdefaults": {
           "arrowcolor": "#2a3f5f",
           "arrowhead": 0,
           "arrowwidth": 1
          },
          "autotypenumbers": "strict",
          "coloraxis": {
           "colorbar": {
            "outlinewidth": 0,
            "ticks": ""
           }
          },
          "colorscale": {
           "diverging": [
            [
             0,
             "#8e0152"
            ],
            [
             0.1,
             "#c51b7d"
            ],
            [
             0.2,
             "#de77ae"
            ],
            [
             0.3,
             "#f1b6da"
            ],
            [
             0.4,
             "#fde0ef"
            ],
            [
             0.5,
             "#f7f7f7"
            ],
            [
             0.6,
             "#e6f5d0"
            ],
            [
             0.7,
             "#b8e186"
            ],
            [
             0.8,
             "#7fbc41"
            ],
            [
             0.9,
             "#4d9221"
            ],
            [
             1,
             "#276419"
            ]
           ],
           "sequential": [
            [
             0,
             "#0d0887"
            ],
            [
             0.1111111111111111,
             "#46039f"
            ],
            [
             0.2222222222222222,
             "#7201a8"
            ],
            [
             0.3333333333333333,
             "#9c179e"
            ],
            [
             0.4444444444444444,
             "#bd3786"
            ],
            [
             0.5555555555555556,
             "#d8576b"
            ],
            [
             0.6666666666666666,
             "#ed7953"
            ],
            [
             0.7777777777777778,
             "#fb9f3a"
            ],
            [
             0.8888888888888888,
             "#fdca26"
            ],
            [
             1,
             "#f0f921"
            ]
           ],
           "sequentialminus": [
            [
             0,
             "#0d0887"
            ],
            [
             0.1111111111111111,
             "#46039f"
            ],
            [
             0.2222222222222222,
             "#7201a8"
            ],
            [
             0.3333333333333333,
             "#9c179e"
            ],
            [
             0.4444444444444444,
             "#bd3786"
            ],
            [
             0.5555555555555556,
             "#d8576b"
            ],
            [
             0.6666666666666666,
             "#ed7953"
            ],
            [
             0.7777777777777778,
             "#fb9f3a"
            ],
            [
             0.8888888888888888,
             "#fdca26"
            ],
            [
             1,
             "#f0f921"
            ]
           ]
          },
          "colorway": [
           "#636efa",
           "#EF553B",
           "#00cc96",
           "#ab63fa",
           "#FFA15A",
           "#19d3f3",
           "#FF6692",
           "#B6E880",
           "#FF97FF",
           "#FECB52"
          ],
          "font": {
           "color": "#2a3f5f"
          },
          "geo": {
           "bgcolor": "white",
           "lakecolor": "white",
           "landcolor": "#E5ECF6",
           "showlakes": true,
           "showland": true,
           "subunitcolor": "white"
          },
          "hoverlabel": {
           "align": "left"
          },
          "hovermode": "closest",
          "mapbox": {
           "style": "light"
          },
          "paper_bgcolor": "white",
          "plot_bgcolor": "#E5ECF6",
          "polar": {
           "angularaxis": {
            "gridcolor": "white",
            "linecolor": "white",
            "ticks": ""
           },
           "bgcolor": "#E5ECF6",
           "radialaxis": {
            "gridcolor": "white",
            "linecolor": "white",
            "ticks": ""
           }
          },
          "scene": {
           "xaxis": {
            "backgroundcolor": "#E5ECF6",
            "gridcolor": "white",
            "gridwidth": 2,
            "linecolor": "white",
            "showbackground": true,
            "ticks": "",
            "zerolinecolor": "white"
           },
           "yaxis": {
            "backgroundcolor": "#E5ECF6",
            "gridcolor": "white",
            "gridwidth": 2,
            "linecolor": "white",
            "showbackground": true,
            "ticks": "",
            "zerolinecolor": "white"
           },
           "zaxis": {
            "backgroundcolor": "#E5ECF6",
            "gridcolor": "white",
            "gridwidth": 2,
            "linecolor": "white",
            "showbackground": true,
            "ticks": "",
            "zerolinecolor": "white"
           }
          },
          "shapedefaults": {
           "line": {
            "color": "#2a3f5f"
           }
          },
          "ternary": {
           "aaxis": {
            "gridcolor": "white",
            "linecolor": "white",
            "ticks": ""
           },
           "baxis": {
            "gridcolor": "white",
            "linecolor": "white",
            "ticks": ""
           },
           "bgcolor": "#E5ECF6",
           "caxis": {
            "gridcolor": "white",
            "linecolor": "white",
            "ticks": ""
           }
          },
          "title": {
           "x": 0.05
          },
          "xaxis": {
           "automargin": true,
           "gridcolor": "white",
           "linecolor": "white",
           "ticks": "",
           "title": {
            "standoff": 15
           },
           "zerolinecolor": "white",
           "zerolinewidth": 2
          },
          "yaxis": {
           "automargin": true,
           "gridcolor": "white",
           "linecolor": "white",
           "ticks": "",
           "title": {
            "standoff": 15
           },
           "zerolinecolor": "white",
           "zerolinewidth": 2
          }
         }
        },
        "title": {
         "text": "Distribución de Preguntas por Podcast"
        },
        "xaxis": {
         "anchor": "y",
         "domain": [
          0,
          1
         ],
         "tickangle": -45,
         "title": {
          "text": "Título del Post"
         }
        },
        "yaxis": {
         "anchor": "x",
         "domain": [
          0,
          1
         ],
         "dtick": 1,
         "range": [
          0,
          6
         ],
         "title": {
          "text": "Número de Preguntas"
         }
        }
       }
      }
     },
     "metadata": {},
     "output_type": "display_data"
    }
   ],
   "source": [
    "import plotly.express as px\n",
    "\n",
    "# Sort the DataFrame from less to more questions\n",
    "question_counts = question_counts.sort(\"question_count\")\n",
    "\n",
    "# Calculate the average number of questions\n",
    "avg_questions = question_counts.select(pl.col(\"question_count\").mean()).item()\n",
    "\n",
    "# Create the bar plot\n",
    "fig = px.bar(\n",
    "    question_counts.to_dict(as_series=False),  # Convert Polars DataFrame to list of dicts\n",
    "    x=\"post_title\",\n",
    "    y=\"question_count\",\n",
    "    title=\"Distribución de Preguntas por Podcast\",\n",
    "    labels={\"post_title\": \"Título del Post\", \"question_count\": \"Número de Preguntas\"},\n",
    "    hover_data=[\"post_title\"]\n",
    ")\n",
    "\n",
    "# Customize the layout\n",
    "fig.update_layout(\n",
    "    # Make the background transparent\n",
    "    paper_bgcolor='rgba(0,0,0,0)',\n",
    "    plot_bgcolor='rgba(0,0,0,0)',\n",
    "\n",
    "    # Set y-axis to show all numbers from 0 to 6\n",
    "    yaxis=dict(\n",
    "        range=[0, 6],\n",
    "        dtick=1\n",
    "    ),\n",
    "\n",
    "    # Rotate x-axis labels for better readability\n",
    "    xaxis_tickangle=-45,\n",
    "\n",
    "    # Update axis titles\n",
    "    xaxis_title=\"Título del Post\",\n",
    "    yaxis_title=\"Número de Preguntas\",\n",
    "\n",
    "    # Remove the white frame (spikes)\n",
    "    showlegend=False,\n",
    "    margin=dict(l=40, r=40, t=60, b=150),\n",
    ")\n",
    "\n",
    "# Add the average line\n",
    "fig.add_shape(\n",
    "    type=\"line\",\n",
    "    x0=0,  # Start at the left of the plot\n",
    "    x1=1,  # End at the right of the plot\n",
    "    y0=avg_questions,\n",
    "    y1=avg_questions,\n",
    "    xref=\"paper\",\n",
    "    yref=\"y\",\n",
    "    line=dict(color=\"red\", dash=\"dash\")\n",
    ")\n",
    "\n",
    "# Add annotation for the average line\n",
    "fig.add_annotation(\n",
    "    x=1,  # Position at the far right of the x-axis\n",
    "    y=avg_questions,\n",
    "    text=f\"Promedio: {avg_questions:.0f}\",\n",
    "    showarrow=False,\n",
    "    xanchor=\"right\",\n",
    "    yanchor=\"bottom\",\n",
    "    font=dict(color=\"red\")\n",
    ")\n",
    "\n",
    "# Show the plot\n",
    "fig.show()"
   ]
  },
  {
   "cell_type": "code",
   "execution_count": 35,
   "metadata": {},
   "outputs": [
    {
     "data": {
      "text/html": [
       "<div><style>\n",
       ".dataframe > thead > tr,\n",
       ".dataframe > tbody > tr {\n",
       "  text-align: right;\n",
       "  white-space: pre-wrap;\n",
       "}\n",
       "</style>\n",
       "<small>shape: (3, 3)</small><table border=\"1\" class=\"dataframe\"><thead><tr><th>Correctness</th><th>Count</th><th>Source</th></tr><tr><td>str</td><td>u32</td><td>str</td></tr></thead><tbody><tr><td>&quot;INCORRECT&quot;</td><td>14</td><td>&quot;With Transcript&quot;</td></tr><tr><td>&quot;CORRECT&quot;</td><td>63</td><td>&quot;With Transcript&quot;</td></tr><tr><td>&quot;PARTIAL&quot;</td><td>3</td><td>&quot;With Transcript&quot;</td></tr></tbody></table></div>"
      ],
      "text/plain": [
       "shape: (3, 3)\n",
       "┌─────────────┬───────┬─────────────────┐\n",
       "│ Correctness ┆ Count ┆ Source          │\n",
       "│ ---         ┆ ---   ┆ ---             │\n",
       "│ str         ┆ u32   ┆ str             │\n",
       "╞═════════════╪═══════╪═════════════════╡\n",
       "│ INCORRECT   ┆ 14    ┆ With Transcript │\n",
       "│ CORRECT     ┆ 63    ┆ With Transcript │\n",
       "│ PARTIAL     ┆ 3     ┆ With Transcript │\n",
       "└─────────────┴───────┴─────────────────┘"
      ]
     },
     "execution_count": 35,
     "metadata": {},
     "output_type": "execute_result"
    }
   ],
   "source": [
    "# Step 2: Count 'CORRECT' and 'INCORRECT' in 'ai_answer_with_the_transcript_correctness'\n",
    "with_transcript_counts = qa.group_by('ai_answer_with_the_transcript_correctness').agg(\n",
    "    pl.len().alias(\"Count\")\n",
    ").rename({\n",
    "    'ai_answer_with_the_transcript_correctness': \"Correctness\"\n",
    "}).with_columns(pl.lit(\"With Transcript\").alias(\"Source\"))\n",
    "\n",
    "with_transcript_counts"
   ]
  },
  {
   "cell_type": "code",
   "execution_count": 99,
   "metadata": {},
   "outputs": [
    {
     "name": "stdout",
     "output_type": "stream",
     "text": [
      "Filas con calificación 4.5:\n",
      "shape: (1, 9)\n",
      "┌───────────┬───────────┬───────────┬───────────┬───┬───────────┬───────────┬───────────┬──────────┐\n",
      "│ question  ┆ human_ans ┆ ai_answer ┆ ai_answer ┆ … ┆ ai_answer ┆ quality_r ┆ post_url  ┆ file_nam │\n",
      "│ ---       ┆ wer       ┆ _without_ ┆ _without_ ┆   ┆ _with_the ┆ ating_for ┆ ---       ┆ e        │\n",
      "│ str       ┆ ---       ┆ the_trans ┆ transcrip ┆   ┆ _transcri ┆ _answer_w ┆ str       ┆ ---      │\n",
      "│           ┆ str       ┆ cri…      ┆ t_c…      ┆   ┆ pt_…      ┆ ith…      ┆           ┆ str      │\n",
      "│           ┆           ┆ ---       ┆ ---       ┆   ┆ ---       ┆ ---       ┆           ┆          │\n",
      "│           ┆           ┆ str       ┆ str       ┆   ┆ str       ┆ f64       ┆           ┆          │\n",
      "╞═══════════╪═══════════╪═══════════╪═══════════╪═══╪═══════════╪═══════════╪═══════════╪══════════╡\n",
      "│ What was  ┆ The Trump ┆ The       ┆ CORRECT   ┆ … ┆ CORRECT   ┆ 4.5       ┆ https://w ┆ qualcomm │\n",
      "│ the role  ┆ administr ┆ attempted ┆           ┆   ┆           ┆           ┆ ww.acquir ┆          │\n",
      "│ of Trump  ┆ ation got ┆ takeover  ┆           ┆   ┆           ┆           ┆ ed.fm/epi ┆          │\n",
      "│ adm…      ┆ i…        ┆ of Qual…  ┆           ┆   ┆           ┆           ┆ sod…      ┆          │\n",
      "└───────────┴───────────┴───────────┴───────────┴───┴───────────┴───────────┴───────────┴──────────┘\n"
     ]
    }
   ],
   "source": [
    "import polars as pl\n",
    "\n",
    "# Paso 1: Mostrar filas con 'quality_rating_for_answer_with_transcript' == 4.5\n",
    "filas_45 = qa.filter(\n",
    "    pl.col('quality_rating_for_answer_with_transcript') == 4.5\n",
    ")\n",
    "print(\"Filas con calificación 4.5:\")\n",
    "print(filas_45)"
   ]
  },
  {
   "cell_type": "code",
   "execution_count": 102,
   "metadata": {},
   "outputs": [
    {
     "name": "stdout",
     "output_type": "stream",
     "text": [
      "Filas con calificación 4.5:\n",
      "shape: (1, 9)\n",
      "┌───────────┬───────────┬───────────┬───────────┬───┬───────────┬───────────┬───────────┬──────────┐\n",
      "│ question  ┆ human_ans ┆ ai_answer ┆ ai_answer ┆ … ┆ ai_answer ┆ quality_r ┆ post_url  ┆ file_nam │\n",
      "│ ---       ┆ wer       ┆ _without_ ┆ _without_ ┆   ┆ _with_the ┆ ating_for ┆ ---       ┆ e        │\n",
      "│ str       ┆ ---       ┆ the_trans ┆ transcrip ┆   ┆ _transcri ┆ _answer_w ┆ str       ┆ ---      │\n",
      "│           ┆ str       ┆ cri…      ┆ t_c…      ┆   ┆ pt_…      ┆ ith…      ┆           ┆ str      │\n",
      "│           ┆           ┆ ---       ┆ ---       ┆   ┆ ---       ┆ ---       ┆           ┆          │\n",
      "│           ┆           ┆ str       ┆ str       ┆   ┆ str       ┆ f64       ┆           ┆          │\n",
      "╞═══════════╪═══════════╪═══════════╪═══════════╪═══╪═══════════╪═══════════╪═══════════╪══════════╡\n",
      "│ What was  ┆ The Trump ┆ The       ┆ CORRECT   ┆ … ┆ CORRECT   ┆ 4.5       ┆ https://w ┆ qualcomm │\n",
      "│ the role  ┆ administr ┆ attempted ┆           ┆   ┆           ┆           ┆ ww.acquir ┆          │\n",
      "│ of Trump  ┆ ation got ┆ takeover  ┆           ┆   ┆           ┆           ┆ ed.fm/epi ┆          │\n",
      "│ adm…      ┆ i…        ┆ of Qual…  ┆           ┆   ┆           ┆           ┆ sod…      ┆          │\n",
      "└───────────┴───────────┴───────────┴───────────┴───┴───────────┴───────────┴───────────┴──────────┘\n",
      "Filas con calificación 4.5 después del cambio:\n",
      "shape: (0, 9)\n",
      "┌──────────┬────────────┬───────────┬───────────┬───┬───────────┬───────────┬──────────┬───────────┐\n",
      "│ question ┆ human_answ ┆ ai_answer ┆ ai_answer ┆ … ┆ ai_answer ┆ quality_r ┆ post_url ┆ file_name │\n",
      "│ ---      ┆ er         ┆ _without_ ┆ _without_ ┆   ┆ _with_the ┆ ating_for ┆ ---      ┆ ---       │\n",
      "│ str      ┆ ---        ┆ the_trans ┆ transcrip ┆   ┆ _transcri ┆ _answer_w ┆ str      ┆ str       │\n",
      "│          ┆ str        ┆ cri…      ┆ t_c…      ┆   ┆ pt_…      ┆ ith…      ┆          ┆           │\n",
      "│          ┆            ┆ ---       ┆ ---       ┆   ┆ ---       ┆ ---       ┆          ┆           │\n",
      "│          ┆            ┆ str       ┆ str       ┆   ┆ str       ┆ f64       ┆          ┆           │\n",
      "╞══════════╪════════════╪═══════════╪═══════════╪═══╪═══════════╪═══════════╪══════════╪═══════════╡\n",
      "└──────────┴────────────┴───────────┴───────────┴───┴───────────┴───────────┴──────────┴───────────┘\n"
     ]
    }
   ],
   "source": [
    "import polars as pl\n",
    "\n",
    "# Paso 1: Mostrar filas con 'quality_rating_for_answer_with_transcript' == 4.5\n",
    "filas_45 = qa.filter(\n",
    "    pl.col('quality_rating_for_answer_with_transcript') == 4.5\n",
    ")\n",
    "print(\"Filas con calificación 4.5:\")\n",
    "print(filas_45)\n",
    "\n",
    "# Paso 2: Reemplazar 4.5 por 5 en 'quality_rating_for_answer_with_transcript'\n",
    "qa = qa.with_columns(\n",
    "    pl.when(pl.col('quality_rating_for_answer_with_transcript') == 4.5)\n",
    "      .then(5)\n",
    "      .otherwise(pl.col('quality_rating_for_answer_with_transcript'))\n",
    "      .alias('quality_rating_for_answer_with_transcript')\n",
    ")\n",
    "\n",
    "# Paso 3: Verificar que ya no existen valores 4.5\n",
    "filas_45_despues = qa.filter(\n",
    "    pl.col('quality_rating_for_answer_with_transcript') == 4.5\n",
    ")\n",
    "print(\"Filas con calificación 4.5 después del cambio:\")\n",
    "print(filas_45_despues)"
   ]
  },
  {
   "cell_type": "code",
   "execution_count": 106,
   "metadata": {},
   "outputs": [
    {
     "name": "stdout",
     "output_type": "stream",
     "text": [
      "Filas con calificación 4.5:\n",
      "shape: (2, 9)\n",
      "┌───────────┬───────────┬───────────┬───────────┬───┬───────────┬───────────┬───────────┬──────────┐\n",
      "│ question  ┆ human_ans ┆ ai_answer ┆ ai_answer ┆ … ┆ ai_answer ┆ quality_r ┆ post_url  ┆ file_nam │\n",
      "│ ---       ┆ wer       ┆ _without_ ┆ _without_ ┆   ┆ _with_the ┆ ating_for ┆ ---       ┆ e        │\n",
      "│ str       ┆ ---       ┆ the_trans ┆ transcrip ┆   ┆ _transcri ┆ _answer_w ┆ str       ┆ ---      │\n",
      "│           ┆ str       ┆ cri…      ┆ t_c…      ┆   ┆ pt_…      ┆ ith…      ┆           ┆ str      │\n",
      "│           ┆           ┆ ---       ┆ ---       ┆   ┆ ---       ┆ ---       ┆           ┆          │\n",
      "│           ┆           ┆ str       ┆ str       ┆   ┆ str       ┆ f64       ┆           ┆          │\n",
      "╞═══════════╪═══════════╪═══════════╪═══════════╪═══╪═══════════╪═══════════╪═══════════╪══════════╡\n",
      "│ What      ┆ IBM       ┆ Sam       ┆ INCORRECT ┆ … ┆ INCORRECT ┆ 0.0       ┆ https://w ┆ walmart  │\n",
      "│ seminar   ┆ Computer  ┆ Walton    ┆           ┆   ┆           ┆           ┆ ww.acquir ┆          │\n",
      "│ did Sam   ┆ Training  ┆ enrolled  ┆           ┆   ┆           ┆           ┆ ed.fm/epi ┆          │\n",
      "│ Walton    ┆ Seminar   ┆ in a Dale ┆           ┆   ┆           ┆           ┆ sod…      ┆          │\n",
      "│ en…       ┆           ┆ …         ┆           ┆   ┆           ┆           ┆           ┆          │\n",
      "│ What perc ┆ 50%       ┆ Since     ┆ CORRECT   ┆ … ┆ INCORRECT ┆ 0.0       ┆ https://w ┆ the_nba  │\n",
      "│ entage of ┆           ┆ 1983, NBA ┆           ┆   ┆           ┆           ┆ ww.acquir ┆          │\n",
      "│ NBA       ┆           ┆ players   ┆           ┆   ┆           ┆           ┆ ed.fm/epi ┆          │\n",
      "│ league …  ┆           ┆ have b…   ┆           ┆   ┆           ┆           ┆ sod…      ┆          │\n",
      "└───────────┴───────────┴───────────┴───────────┴───┴───────────┴───────────┴───────────┴──────────┘\n",
      "Filas con calificación 4.5 después del cambio:\n",
      "shape: (0, 9)\n",
      "┌──────────┬────────────┬───────────┬───────────┬───┬───────────┬───────────┬──────────┬───────────┐\n",
      "│ question ┆ human_answ ┆ ai_answer ┆ ai_answer ┆ … ┆ ai_answer ┆ quality_r ┆ post_url ┆ file_name │\n",
      "│ ---      ┆ er         ┆ _without_ ┆ _without_ ┆   ┆ _with_the ┆ ating_for ┆ ---      ┆ ---       │\n",
      "│ str      ┆ ---        ┆ the_trans ┆ transcrip ┆   ┆ _transcri ┆ _answer_w ┆ str      ┆ str       │\n",
      "│          ┆ str        ┆ cri…      ┆ t_c…      ┆   ┆ pt_…      ┆ ith…      ┆          ┆           │\n",
      "│          ┆            ┆ ---       ┆ ---       ┆   ┆ ---       ┆ ---       ┆          ┆           │\n",
      "│          ┆            ┆ str       ┆ str       ┆   ┆ str       ┆ f64       ┆          ┆           │\n",
      "╞══════════╪════════════╪═══════════╪═══════════╪═══╪═══════════╪═══════════╪══════════╪═══════════╡\n",
      "└──────────┴────────────┴───────────┴───────────┴───┴───────────┴───────────┴──────────┴───────────┘\n"
     ]
    }
   ],
   "source": [
    "import polars as pl\n",
    "\n",
    "# Paso 1: Mostrar filas con 'quality_rating_for_answer_with_transcript' == 4.5\n",
    "filas_45 = qa.filter(\n",
    "    pl.col('quality_rating_for_answer_with_transcript') == 0\n",
    ")\n",
    "print(\"Filas con calificación 4.5:\")\n",
    "print(filas_45)\n",
    "\n",
    "# Paso 2: Reemplazar 4.5 por 5 en 'quality_rating_for_answer_with_transcript'\n",
    "qa = qa.with_columns(\n",
    "    pl.when(pl.col('quality_rating_for_answer_with_transcript') == 0)\n",
    "      .then(1)\n",
    "      .otherwise(pl.col('quality_rating_for_answer_with_transcript'))\n",
    "      .alias('quality_rating_for_answer_with_transcript')\n",
    ")\n",
    "\n",
    "# Paso 3: Verificar que ya no existen valores 4.5\n",
    "filas_45_despues = qa.filter(\n",
    "    pl.col('quality_rating_for_answer_with_transcript') == 0\n",
    ")\n",
    "print(\"Filas con calificación 4.5 después del cambio:\")\n",
    "print(filas_45_despues)"
   ]
  },
  {
   "cell_type": "code",
   "execution_count": 110,
   "metadata": {},
   "outputs": [
    {
     "data": {
      "text/plain": [
       "(80, 9)"
      ]
     },
     "execution_count": 110,
     "metadata": {},
     "output_type": "execute_result"
    }
   ],
   "source": [
    "qa.shape"
   ]
  },
  {
   "cell_type": "code",
   "execution_count": 108,
   "metadata": {},
   "outputs": [],
   "source": [
    "# Paso 2: Filtrar las filas que tienen transcript\n",
    "qa_with_transcript = qa.filter(pl.col('ai_answer_with_the_transcript_correctness').is_not_null())"
   ]
  },
  {
   "cell_type": "code",
   "execution_count": 117,
   "metadata": {},
   "outputs": [
    {
     "name": "stdout",
     "output_type": "stream",
     "text": [
      "Available Columns in DataFrame:\n",
      "['question', 'human_answer', 'ai_answer_without_the_transcript', 'ai_answer_without_transcript_correctness', 'ai_answer_with_the_transcript', 'ai_answer_with_the_transcript_correctness', 'quality_rating_for_answer_with_transcript', 'post_url', 'file_name']\n"
     ]
    },
    {
     "data": {
      "application/vnd.plotly.v1+json": {
       "config": {
        "plotlyServerURL": "https://plot.ly"
       },
       "data": [
        {
         "alignmentgroup": "True",
         "bingroup": "x",
         "hovertemplate": "Corrección=INCORRECT<br>Calificación de Calidad=%{x}<br>count=%{y}<extra></extra>",
         "legendgroup": "INCORRECT",
         "marker": {
          "color": "red",
          "pattern": {
           "shape": ""
          }
         },
         "name": "INCORRECT",
         "nbinsx": 5,
         "offsetgroup": "INCORRECT",
         "orientation": "v",
         "showlegend": true,
         "texttemplate": "%{value}",
         "type": "histogram",
         "x": [
          4,
          1,
          1,
          2,
          3,
          2,
          2,
          1,
          3,
          2,
          3,
          1,
          5,
          5
         ],
         "xaxis": "x",
         "yaxis": "y"
        },
        {
         "alignmentgroup": "True",
         "bingroup": "x",
         "hovertemplate": "Corrección=CORRECT<br>Calificación de Calidad=%{x}<br>count=%{y}<extra></extra>",
         "legendgroup": "CORRECT",
         "marker": {
          "color": "green",
          "pattern": {
           "shape": ""
          }
         },
         "name": "CORRECT",
         "nbinsx": 5,
         "offsetgroup": "CORRECT",
         "orientation": "v",
         "showlegend": true,
         "texttemplate": "%{value}",
         "type": "histogram",
         "x": [
          5,
          3,
          5,
          5,
          5,
          5,
          5,
          5,
          5,
          5,
          4,
          4,
          5,
          5,
          4,
          4,
          5,
          5,
          5,
          5,
          3,
          2,
          2,
          5,
          5,
          5,
          5,
          5,
          5,
          5,
          5,
          5,
          5,
          5,
          5,
          5,
          5,
          4,
          5,
          5,
          5,
          4,
          5,
          5,
          5,
          4,
          5,
          5,
          5,
          5,
          5,
          5,
          5,
          5,
          5,
          5,
          5,
          5,
          5,
          5,
          4,
          4,
          5
         ],
         "xaxis": "x",
         "yaxis": "y"
        },
        {
         "alignmentgroup": "True",
         "bingroup": "x",
         "hovertemplate": "Corrección=PARTIAL<br>Calificación de Calidad=%{x}<br>count=%{y}<extra></extra>",
         "legendgroup": "PARTIAL",
         "marker": {
          "color": "yellow",
          "pattern": {
           "shape": ""
          }
         },
         "name": "PARTIAL",
         "nbinsx": 5,
         "offsetgroup": "PARTIAL",
         "orientation": "v",
         "showlegend": true,
         "texttemplate": "%{value}",
         "type": "histogram",
         "x": [
          4,
          4,
          3
         ],
         "xaxis": "x",
         "yaxis": "y"
        }
       ],
       "layout": {
        "bargap": 0.2,
        "barmode": "relative",
        "font": {
         "color": "Black",
         "size": 14
        },
        "height": 600,
        "legend": {
         "title": {
          "text": "Corrección"
         },
         "tracegroupgap": 0
        },
        "margin": {
         "b": 40,
         "l": 40,
         "r": 40,
         "t": 60
        },
        "paper_bgcolor": "rgba(0,0,0,0)",
        "plot_bgcolor": "rgba(0,0,0,0)",
        "template": {
         "data": {
          "bar": [
           {
            "error_x": {
             "color": "#2a3f5f"
            },
            "error_y": {
             "color": "#2a3f5f"
            },
            "marker": {
             "line": {
              "color": "#E5ECF6",
              "width": 0.5
             },
             "pattern": {
              "fillmode": "overlay",
              "size": 10,
              "solidity": 0.2
             }
            },
            "type": "bar"
           }
          ],
          "barpolar": [
           {
            "marker": {
             "line": {
              "color": "#E5ECF6",
              "width": 0.5
             },
             "pattern": {
              "fillmode": "overlay",
              "size": 10,
              "solidity": 0.2
             }
            },
            "type": "barpolar"
           }
          ],
          "carpet": [
           {
            "aaxis": {
             "endlinecolor": "#2a3f5f",
             "gridcolor": "white",
             "linecolor": "white",
             "minorgridcolor": "white",
             "startlinecolor": "#2a3f5f"
            },
            "baxis": {
             "endlinecolor": "#2a3f5f",
             "gridcolor": "white",
             "linecolor": "white",
             "minorgridcolor": "white",
             "startlinecolor": "#2a3f5f"
            },
            "type": "carpet"
           }
          ],
          "choropleth": [
           {
            "colorbar": {
             "outlinewidth": 0,
             "ticks": ""
            },
            "type": "choropleth"
           }
          ],
          "contour": [
           {
            "colorbar": {
             "outlinewidth": 0,
             "ticks": ""
            },
            "colorscale": [
             [
              0,
              "#0d0887"
             ],
             [
              0.1111111111111111,
              "#46039f"
             ],
             [
              0.2222222222222222,
              "#7201a8"
             ],
             [
              0.3333333333333333,
              "#9c179e"
             ],
             [
              0.4444444444444444,
              "#bd3786"
             ],
             [
              0.5555555555555556,
              "#d8576b"
             ],
             [
              0.6666666666666666,
              "#ed7953"
             ],
             [
              0.7777777777777778,
              "#fb9f3a"
             ],
             [
              0.8888888888888888,
              "#fdca26"
             ],
             [
              1,
              "#f0f921"
             ]
            ],
            "type": "contour"
           }
          ],
          "contourcarpet": [
           {
            "colorbar": {
             "outlinewidth": 0,
             "ticks": ""
            },
            "type": "contourcarpet"
           }
          ],
          "heatmap": [
           {
            "colorbar": {
             "outlinewidth": 0,
             "ticks": ""
            },
            "colorscale": [
             [
              0,
              "#0d0887"
             ],
             [
              0.1111111111111111,
              "#46039f"
             ],
             [
              0.2222222222222222,
              "#7201a8"
             ],
             [
              0.3333333333333333,
              "#9c179e"
             ],
             [
              0.4444444444444444,
              "#bd3786"
             ],
             [
              0.5555555555555556,
              "#d8576b"
             ],
             [
              0.6666666666666666,
              "#ed7953"
             ],
             [
              0.7777777777777778,
              "#fb9f3a"
             ],
             [
              0.8888888888888888,
              "#fdca26"
             ],
             [
              1,
              "#f0f921"
             ]
            ],
            "type": "heatmap"
           }
          ],
          "heatmapgl": [
           {
            "colorbar": {
             "outlinewidth": 0,
             "ticks": ""
            },
            "colorscale": [
             [
              0,
              "#0d0887"
             ],
             [
              0.1111111111111111,
              "#46039f"
             ],
             [
              0.2222222222222222,
              "#7201a8"
             ],
             [
              0.3333333333333333,
              "#9c179e"
             ],
             [
              0.4444444444444444,
              "#bd3786"
             ],
             [
              0.5555555555555556,
              "#d8576b"
             ],
             [
              0.6666666666666666,
              "#ed7953"
             ],
             [
              0.7777777777777778,
              "#fb9f3a"
             ],
             [
              0.8888888888888888,
              "#fdca26"
             ],
             [
              1,
              "#f0f921"
             ]
            ],
            "type": "heatmapgl"
           }
          ],
          "histogram": [
           {
            "marker": {
             "pattern": {
              "fillmode": "overlay",
              "size": 10,
              "solidity": 0.2
             }
            },
            "type": "histogram"
           }
          ],
          "histogram2d": [
           {
            "colorbar": {
             "outlinewidth": 0,
             "ticks": ""
            },
            "colorscale": [
             [
              0,
              "#0d0887"
             ],
             [
              0.1111111111111111,
              "#46039f"
             ],
             [
              0.2222222222222222,
              "#7201a8"
             ],
             [
              0.3333333333333333,
              "#9c179e"
             ],
             [
              0.4444444444444444,
              "#bd3786"
             ],
             [
              0.5555555555555556,
              "#d8576b"
             ],
             [
              0.6666666666666666,
              "#ed7953"
             ],
             [
              0.7777777777777778,
              "#fb9f3a"
             ],
             [
              0.8888888888888888,
              "#fdca26"
             ],
             [
              1,
              "#f0f921"
             ]
            ],
            "type": "histogram2d"
           }
          ],
          "histogram2dcontour": [
           {
            "colorbar": {
             "outlinewidth": 0,
             "ticks": ""
            },
            "colorscale": [
             [
              0,
              "#0d0887"
             ],
             [
              0.1111111111111111,
              "#46039f"
             ],
             [
              0.2222222222222222,
              "#7201a8"
             ],
             [
              0.3333333333333333,
              "#9c179e"
             ],
             [
              0.4444444444444444,
              "#bd3786"
             ],
             [
              0.5555555555555556,
              "#d8576b"
             ],
             [
              0.6666666666666666,
              "#ed7953"
             ],
             [
              0.7777777777777778,
              "#fb9f3a"
             ],
             [
              0.8888888888888888,
              "#fdca26"
             ],
             [
              1,
              "#f0f921"
             ]
            ],
            "type": "histogram2dcontour"
           }
          ],
          "mesh3d": [
           {
            "colorbar": {
             "outlinewidth": 0,
             "ticks": ""
            },
            "type": "mesh3d"
           }
          ],
          "parcoords": [
           {
            "line": {
             "colorbar": {
              "outlinewidth": 0,
              "ticks": ""
             }
            },
            "type": "parcoords"
           }
          ],
          "pie": [
           {
            "automargin": true,
            "type": "pie"
           }
          ],
          "scatter": [
           {
            "fillpattern": {
             "fillmode": "overlay",
             "size": 10,
             "solidity": 0.2
            },
            "type": "scatter"
           }
          ],
          "scatter3d": [
           {
            "line": {
             "colorbar": {
              "outlinewidth": 0,
              "ticks": ""
             }
            },
            "marker": {
             "colorbar": {
              "outlinewidth": 0,
              "ticks": ""
             }
            },
            "type": "scatter3d"
           }
          ],
          "scattercarpet": [
           {
            "marker": {
             "colorbar": {
              "outlinewidth": 0,
              "ticks": ""
             }
            },
            "type": "scattercarpet"
           }
          ],
          "scattergeo": [
           {
            "marker": {
             "colorbar": {
              "outlinewidth": 0,
              "ticks": ""
             }
            },
            "type": "scattergeo"
           }
          ],
          "scattergl": [
           {
            "marker": {
             "colorbar": {
              "outlinewidth": 0,
              "ticks": ""
             }
            },
            "type": "scattergl"
           }
          ],
          "scattermapbox": [
           {
            "marker": {
             "colorbar": {
              "outlinewidth": 0,
              "ticks": ""
             }
            },
            "type": "scattermapbox"
           }
          ],
          "scatterpolar": [
           {
            "marker": {
             "colorbar": {
              "outlinewidth": 0,
              "ticks": ""
             }
            },
            "type": "scatterpolar"
           }
          ],
          "scatterpolargl": [
           {
            "marker": {
             "colorbar": {
              "outlinewidth": 0,
              "ticks": ""
             }
            },
            "type": "scatterpolargl"
           }
          ],
          "scatterternary": [
           {
            "marker": {
             "colorbar": {
              "outlinewidth": 0,
              "ticks": ""
             }
            },
            "type": "scatterternary"
           }
          ],
          "surface": [
           {
            "colorbar": {
             "outlinewidth": 0,
             "ticks": ""
            },
            "colorscale": [
             [
              0,
              "#0d0887"
             ],
             [
              0.1111111111111111,
              "#46039f"
             ],
             [
              0.2222222222222222,
              "#7201a8"
             ],
             [
              0.3333333333333333,
              "#9c179e"
             ],
             [
              0.4444444444444444,
              "#bd3786"
             ],
             [
              0.5555555555555556,
              "#d8576b"
             ],
             [
              0.6666666666666666,
              "#ed7953"
             ],
             [
              0.7777777777777778,
              "#fb9f3a"
             ],
             [
              0.8888888888888888,
              "#fdca26"
             ],
             [
              1,
              "#f0f921"
             ]
            ],
            "type": "surface"
           }
          ],
          "table": [
           {
            "cells": {
             "fill": {
              "color": "#EBF0F8"
             },
             "line": {
              "color": "white"
             }
            },
            "header": {
             "fill": {
              "color": "#C8D4E3"
             },
             "line": {
              "color": "white"
             }
            },
            "type": "table"
           }
          ]
         },
         "layout": {
          "annotationdefaults": {
           "arrowcolor": "#2a3f5f",
           "arrowhead": 0,
           "arrowwidth": 1
          },
          "autotypenumbers": "strict",
          "coloraxis": {
           "colorbar": {
            "outlinewidth": 0,
            "ticks": ""
           }
          },
          "colorscale": {
           "diverging": [
            [
             0,
             "#8e0152"
            ],
            [
             0.1,
             "#c51b7d"
            ],
            [
             0.2,
             "#de77ae"
            ],
            [
             0.3,
             "#f1b6da"
            ],
            [
             0.4,
             "#fde0ef"
            ],
            [
             0.5,
             "#f7f7f7"
            ],
            [
             0.6,
             "#e6f5d0"
            ],
            [
             0.7,
             "#b8e186"
            ],
            [
             0.8,
             "#7fbc41"
            ],
            [
             0.9,
             "#4d9221"
            ],
            [
             1,
             "#276419"
            ]
           ],
           "sequential": [
            [
             0,
             "#0d0887"
            ],
            [
             0.1111111111111111,
             "#46039f"
            ],
            [
             0.2222222222222222,
             "#7201a8"
            ],
            [
             0.3333333333333333,
             "#9c179e"
            ],
            [
             0.4444444444444444,
             "#bd3786"
            ],
            [
             0.5555555555555556,
             "#d8576b"
            ],
            [
             0.6666666666666666,
             "#ed7953"
            ],
            [
             0.7777777777777778,
             "#fb9f3a"
            ],
            [
             0.8888888888888888,
             "#fdca26"
            ],
            [
             1,
             "#f0f921"
            ]
           ],
           "sequentialminus": [
            [
             0,
             "#0d0887"
            ],
            [
             0.1111111111111111,
             "#46039f"
            ],
            [
             0.2222222222222222,
             "#7201a8"
            ],
            [
             0.3333333333333333,
             "#9c179e"
            ],
            [
             0.4444444444444444,
             "#bd3786"
            ],
            [
             0.5555555555555556,
             "#d8576b"
            ],
            [
             0.6666666666666666,
             "#ed7953"
            ],
            [
             0.7777777777777778,
             "#fb9f3a"
            ],
            [
             0.8888888888888888,
             "#fdca26"
            ],
            [
             1,
             "#f0f921"
            ]
           ]
          },
          "colorway": [
           "#636efa",
           "#EF553B",
           "#00cc96",
           "#ab63fa",
           "#FFA15A",
           "#19d3f3",
           "#FF6692",
           "#B6E880",
           "#FF97FF",
           "#FECB52"
          ],
          "font": {
           "color": "#2a3f5f"
          },
          "geo": {
           "bgcolor": "white",
           "lakecolor": "white",
           "landcolor": "#E5ECF6",
           "showlakes": true,
           "showland": true,
           "subunitcolor": "white"
          },
          "hoverlabel": {
           "align": "left"
          },
          "hovermode": "closest",
          "mapbox": {
           "style": "light"
          },
          "paper_bgcolor": "white",
          "plot_bgcolor": "#E5ECF6",
          "polar": {
           "angularaxis": {
            "gridcolor": "white",
            "linecolor": "white",
            "ticks": ""
           },
           "bgcolor": "#E5ECF6",
           "radialaxis": {
            "gridcolor": "white",
            "linecolor": "white",
            "ticks": ""
           }
          },
          "scene": {
           "xaxis": {
            "backgroundcolor": "#E5ECF6",
            "gridcolor": "white",
            "gridwidth": 2,
            "linecolor": "white",
            "showbackground": true,
            "ticks": "",
            "zerolinecolor": "white"
           },
           "yaxis": {
            "backgroundcolor": "#E5ECF6",
            "gridcolor": "white",
            "gridwidth": 2,
            "linecolor": "white",
            "showbackground": true,
            "ticks": "",
            "zerolinecolor": "white"
           },
           "zaxis": {
            "backgroundcolor": "#E5ECF6",
            "gridcolor": "white",
            "gridwidth": 2,
            "linecolor": "white",
            "showbackground": true,
            "ticks": "",
            "zerolinecolor": "white"
           }
          },
          "shapedefaults": {
           "line": {
            "color": "#2a3f5f"
           }
          },
          "ternary": {
           "aaxis": {
            "gridcolor": "white",
            "linecolor": "white",
            "ticks": ""
           },
           "baxis": {
            "gridcolor": "white",
            "linecolor": "white",
            "ticks": ""
           },
           "bgcolor": "#E5ECF6",
           "caxis": {
            "gridcolor": "white",
            "linecolor": "white",
            "ticks": ""
           }
          },
          "title": {
           "x": 0.05
          },
          "xaxis": {
           "automargin": true,
           "gridcolor": "white",
           "linecolor": "white",
           "ticks": "",
           "title": {
            "standoff": 15
           },
           "zerolinecolor": "white",
           "zerolinewidth": 2
          },
          "yaxis": {
           "automargin": true,
           "gridcolor": "white",
           "linecolor": "white",
           "ticks": "",
           "title": {
            "standoff": 15
           },
           "zerolinecolor": "white",
           "zerolinewidth": 2
          }
         }
        },
        "title": {
         "text": "Distribución de Calificación de Calidad Basada en Corrección"
        },
        "xaxis": {
         "anchor": "y",
         "domain": [
          0,
          1
         ],
         "dtick": 1,
         "showgrid": false,
         "tickmode": "linear",
         "title": {
          "text": "Calificación de Calidad"
         },
         "zeroline": false
        },
        "yaxis": {
         "anchor": "x",
         "domain": [
          0,
          1
         ],
         "showgrid": false,
         "title": {
          "text": "Frecuencia"
         },
         "zeroline": false
        }
       }
      }
     },
     "metadata": {},
     "output_type": "display_data"
    }
   ],
   "source": [
    "import polars as pl\n",
    "import plotly.express as px\n",
    "\n",
    "# Paso 1: Verificar los nombres de las columnas para asegurar que son correctos\n",
    "print(\"Available Columns in DataFrame:\")\n",
    "print(qa.columns)\n",
    "\n",
    "# Paso 2: Filtrar las filas que tienen transcript\n",
    "qa_with_transcript = qa.filter(\n",
    "    pl.col('ai_answer_with_the_transcript_correctness').is_not_null()\n",
    ")\n",
    "\n",
    "# Paso 3: Cambiar los valores 4.5 a 5 y convertir a entero\n",
    "qa_with_transcript = qa_with_transcript.with_columns(\n",
    "    pl.when(pl.col(\"quality_rating_for_answer_with_transcript\") == 4.5)\n",
    "      .then(5)\n",
    "      .otherwise(pl.col(\"quality_rating_for_answer_with_transcript\"))\n",
    "      .cast(pl.Int64)\n",
    "      .alias(\"quality_rating_for_answer_with_transcript\")\n",
    ")\n",
    "\n",
    "# Paso 4: Extraer las listas de calificaciones y correctitud\n",
    "ratings = qa_with_transcript[\"quality_rating_for_answer_with_transcript\"].to_list()\n",
    "correctness = qa_with_transcript['ai_answer_with_the_transcript_correctness'].to_list()\n",
    "\n",
    "# Paso 5: Determinar el número de bins basado en valores únicos\n",
    "unique_ratings = sorted(set(ratings))\n",
    "nbins = len(unique_ratings)\n",
    "\n",
    "# Paso 6: Crear el histograma con colores basados en la correctitud\n",
    "fig = px.histogram(\n",
    "    x=ratings,\n",
    "    color=correctness,\n",
    "    nbins=nbins,  # Cada bin representa un valor único\n",
    "    title=\"Distribución de Calificación de Calidad Basada en Corrección\",\n",
    "    labels={\n",
    "        \"x\": \"Calificación de Calidad\",\n",
    "        \"y\": \"Frecuencia\",\n",
    "        \"color\": \"Corrección\"\n",
    "    },\n",
    "    color_discrete_map={\n",
    "        \"INCORRECT\": \"red\",\n",
    "        \"PARTIAL\": \"yellow\",\n",
    "        \"CORRECT\": \"green\",\n",
    "    },\n",
    "    text_auto=True\n",
    ")\n",
    "\n",
    "# Paso 7: Personalizar el layout\n",
    "fig.update_layout(\n",
    "    xaxis_title=\"Calificación de Calidad\",\n",
    "    yaxis_title=\"Frecuencia\",\n",
    "    bargap=0.2,  # Espacio entre barras\n",
    "    height=600,   # Altura del gráfico en píxeles\n",
    "    plot_bgcolor='rgba(0,0,0,0)',      # Fondo de la trama transparente\n",
    "    paper_bgcolor='rgba(0,0,0,0)',     # Fondo del papel transparente\n",
    "    margin=dict(l=40, r=40, t=60, b=40),  # Márgenes alrededor del gráfico\n",
    "    font=dict(\n",
    "        size=14,                    # Tamaño de la fuente\n",
    "        color=\"Black\"               # Color de la fuente\n",
    "    )\n",
    ")\n",
    "\n",
    "# Paso 8: Quitar el marco blanco y ajustar estilo de ejes, fijar los ticks en enteros\n",
    "fig.update_xaxes(\n",
    "    showgrid=False,\n",
    "    zeroline=False,\n",
    "    tickmode='linear',\n",
    "    dtick=1  # Intervalo de 1 en el eje X\n",
    ")\n",
    "fig.update_yaxes(showgrid=False, zeroline=False)\n",
    "\n",
    "# Paso 9: Mostrar el gráfico\n",
    "fig.show()"
   ]
  },
  {
   "cell_type": "code",
   "execution_count": 119,
   "metadata": {},
   "outputs": [
    {
     "name": "stdout",
     "output_type": "stream",
     "text": [
      "Available Columns in DataFrame:\n",
      "['question', 'human_answer', 'ai_answer_without_the_transcript', 'ai_answer_without_transcript_correctness', 'ai_answer_with_the_transcript', 'ai_answer_with_the_transcript_correctness', 'quality_rating_for_answer_with_transcript', 'post_url', 'file_name']\n",
      "\n",
      "Updated Columns in DataFrame:\n",
      "['question', 'human_answer', 'ai_answer_without_the_transcript', 'ai_answer_without_transcript_correctness', 'ai_answer_with_the_transcript', 'ai_answer_with_the_transcript_correctness', 'quality_rating_for_answer_with_transcript', 'post_url', 'file_name']\n",
      "\n",
      "Combined Counts:\n",
      "shape: (6, 3)\n",
      "┌─────────────┬───────┬───────────────────┐\n",
      "│ Correctness ┆ Count ┆ Fuente            │\n",
      "│ ---         ┆ ---   ┆ ---               │\n",
      "│ str         ┆ u32   ┆ str               │\n",
      "╞═════════════╪═══════╪═══════════════════╡\n",
      "│ CORRECT     ┆ 33    ┆ Sin Transcripción │\n",
      "│ PARTIAL     ┆ 5     ┆ Sin Transcripción │\n",
      "│ INCORRECT   ┆ 42    ┆ Sin Transcripción │\n",
      "│ INCORRECT   ┆ 14    ┆ Con Transcripción │\n",
      "│ PARTIAL     ┆ 3     ┆ Con Transcripción │\n",
      "│ CORRECT     ┆ 63    ┆ Con Transcripción │\n",
      "└─────────────┴───────┴───────────────────┘\n",
      "\n",
      "Combined Counts with Percentages:\n",
      "shape: (6, 5)\n",
      "┌─────────────┬───────┬───────────────────┬───────┬────────────┐\n",
      "│ Correctness ┆ Count ┆ Fuente            ┆ Total ┆ Percentage │\n",
      "│ ---         ┆ ---   ┆ ---               ┆ ---   ┆ ---        │\n",
      "│ str         ┆ u32   ┆ str               ┆ u32   ┆ f64        │\n",
      "╞═════════════╪═══════╪═══════════════════╪═══════╪════════════╡\n",
      "│ CORRECT     ┆ 33    ┆ Sin Transcripción ┆ 80    ┆ 41.25      │\n",
      "│ PARTIAL     ┆ 5     ┆ Sin Transcripción ┆ 80    ┆ 6.25       │\n",
      "│ INCORRECT   ┆ 42    ┆ Sin Transcripción ┆ 80    ┆ 52.5       │\n",
      "│ INCORRECT   ┆ 14    ┆ Con Transcripción ┆ 80    ┆ 17.5       │\n",
      "│ PARTIAL     ┆ 3     ┆ Con Transcripción ┆ 80    ┆ 3.75       │\n",
      "│ CORRECT     ┆ 63    ┆ Con Transcripción ┆ 80    ┆ 78.75      │\n",
      "└─────────────┴───────┴───────────────────┴───────┴────────────┘\n"
     ]
    },
    {
     "data": {
      "application/vnd.plotly.v1+json": {
       "config": {
        "plotlyServerURL": "https://plot.ly"
       },
       "data": [
        {
         "alignmentgroup": "True",
         "hovertemplate": "Corrección=CORRECT<br>Fuente=%{x}<br>Porcentaje de Respuestas=%{text}<extra></extra>",
         "legendgroup": "CORRECT",
         "marker": {
          "color": "green",
          "pattern": {
           "shape": ""
          }
         },
         "name": "CORRECT",
         "offsetgroup": "CORRECT",
         "orientation": "v",
         "showlegend": true,
         "text": [
          41.25,
          78.75
         ],
         "textposition": "inside",
         "texttemplate": "%{text}%",
         "type": "bar",
         "x": [
          "Sin Transcripción",
          "Con Transcripción"
         ],
         "xaxis": "x",
         "y": [
          41.25,
          78.75
         ],
         "yaxis": "y"
        },
        {
         "alignmentgroup": "True",
         "hovertemplate": "Corrección=PARTIAL<br>Fuente=%{x}<br>Porcentaje de Respuestas=%{text}<extra></extra>",
         "legendgroup": "PARTIAL",
         "marker": {
          "color": "yellow",
          "pattern": {
           "shape": ""
          }
         },
         "name": "PARTIAL",
         "offsetgroup": "PARTIAL",
         "orientation": "v",
         "showlegend": true,
         "text": [
          6.25,
          3.75
         ],
         "textposition": "inside",
         "texttemplate": "%{text}%",
         "type": "bar",
         "x": [
          "Sin Transcripción",
          "Con Transcripción"
         ],
         "xaxis": "x",
         "y": [
          6.25,
          3.75
         ],
         "yaxis": "y"
        },
        {
         "alignmentgroup": "True",
         "hovertemplate": "Corrección=INCORRECT<br>Fuente=%{x}<br>Porcentaje de Respuestas=%{text}<extra></extra>",
         "legendgroup": "INCORRECT",
         "marker": {
          "color": "red",
          "pattern": {
           "shape": ""
          }
         },
         "name": "INCORRECT",
         "offsetgroup": "INCORRECT",
         "orientation": "v",
         "showlegend": true,
         "text": [
          52.5,
          17.5
         ],
         "textposition": "inside",
         "texttemplate": "%{text}%",
         "type": "bar",
         "x": [
          "Sin Transcripción",
          "Con Transcripción"
         ],
         "xaxis": "x",
         "y": [
          52.5,
          17.5
         ],
         "yaxis": "y"
        }
       ],
       "layout": {
        "barmode": "group",
        "height": 600,
        "legend": {
         "title": {
          "text": "Corrección"
         },
         "tracegroupgap": 0
        },
        "margin": {
         "b": 40,
         "l": 40,
         "r": 40,
         "t": 60
        },
        "paper_bgcolor": "rgba(0,0,0,0)",
        "plot_bgcolor": "rgba(0,0,0,0)",
        "showlegend": true,
        "template": {
         "data": {
          "bar": [
           {
            "error_x": {
             "color": "#2a3f5f"
            },
            "error_y": {
             "color": "#2a3f5f"
            },
            "marker": {
             "line": {
              "color": "#E5ECF6",
              "width": 0.5
             },
             "pattern": {
              "fillmode": "overlay",
              "size": 10,
              "solidity": 0.2
             }
            },
            "type": "bar"
           }
          ],
          "barpolar": [
           {
            "marker": {
             "line": {
              "color": "#E5ECF6",
              "width": 0.5
             },
             "pattern": {
              "fillmode": "overlay",
              "size": 10,
              "solidity": 0.2
             }
            },
            "type": "barpolar"
           }
          ],
          "carpet": [
           {
            "aaxis": {
             "endlinecolor": "#2a3f5f",
             "gridcolor": "white",
             "linecolor": "white",
             "minorgridcolor": "white",
             "startlinecolor": "#2a3f5f"
            },
            "baxis": {
             "endlinecolor": "#2a3f5f",
             "gridcolor": "white",
             "linecolor": "white",
             "minorgridcolor": "white",
             "startlinecolor": "#2a3f5f"
            },
            "type": "carpet"
           }
          ],
          "choropleth": [
           {
            "colorbar": {
             "outlinewidth": 0,
             "ticks": ""
            },
            "type": "choropleth"
           }
          ],
          "contour": [
           {
            "colorbar": {
             "outlinewidth": 0,
             "ticks": ""
            },
            "colorscale": [
             [
              0,
              "#0d0887"
             ],
             [
              0.1111111111111111,
              "#46039f"
             ],
             [
              0.2222222222222222,
              "#7201a8"
             ],
             [
              0.3333333333333333,
              "#9c179e"
             ],
             [
              0.4444444444444444,
              "#bd3786"
             ],
             [
              0.5555555555555556,
              "#d8576b"
             ],
             [
              0.6666666666666666,
              "#ed7953"
             ],
             [
              0.7777777777777778,
              "#fb9f3a"
             ],
             [
              0.8888888888888888,
              "#fdca26"
             ],
             [
              1,
              "#f0f921"
             ]
            ],
            "type": "contour"
           }
          ],
          "contourcarpet": [
           {
            "colorbar": {
             "outlinewidth": 0,
             "ticks": ""
            },
            "type": "contourcarpet"
           }
          ],
          "heatmap": [
           {
            "colorbar": {
             "outlinewidth": 0,
             "ticks": ""
            },
            "colorscale": [
             [
              0,
              "#0d0887"
             ],
             [
              0.1111111111111111,
              "#46039f"
             ],
             [
              0.2222222222222222,
              "#7201a8"
             ],
             [
              0.3333333333333333,
              "#9c179e"
             ],
             [
              0.4444444444444444,
              "#bd3786"
             ],
             [
              0.5555555555555556,
              "#d8576b"
             ],
             [
              0.6666666666666666,
              "#ed7953"
             ],
             [
              0.7777777777777778,
              "#fb9f3a"
             ],
             [
              0.8888888888888888,
              "#fdca26"
             ],
             [
              1,
              "#f0f921"
             ]
            ],
            "type": "heatmap"
           }
          ],
          "heatmapgl": [
           {
            "colorbar": {
             "outlinewidth": 0,
             "ticks": ""
            },
            "colorscale": [
             [
              0,
              "#0d0887"
             ],
             [
              0.1111111111111111,
              "#46039f"
             ],
             [
              0.2222222222222222,
              "#7201a8"
             ],
             [
              0.3333333333333333,
              "#9c179e"
             ],
             [
              0.4444444444444444,
              "#bd3786"
             ],
             [
              0.5555555555555556,
              "#d8576b"
             ],
             [
              0.6666666666666666,
              "#ed7953"
             ],
             [
              0.7777777777777778,
              "#fb9f3a"
             ],
             [
              0.8888888888888888,
              "#fdca26"
             ],
             [
              1,
              "#f0f921"
             ]
            ],
            "type": "heatmapgl"
           }
          ],
          "histogram": [
           {
            "marker": {
             "pattern": {
              "fillmode": "overlay",
              "size": 10,
              "solidity": 0.2
             }
            },
            "type": "histogram"
           }
          ],
          "histogram2d": [
           {
            "colorbar": {
             "outlinewidth": 0,
             "ticks": ""
            },
            "colorscale": [
             [
              0,
              "#0d0887"
             ],
             [
              0.1111111111111111,
              "#46039f"
             ],
             [
              0.2222222222222222,
              "#7201a8"
             ],
             [
              0.3333333333333333,
              "#9c179e"
             ],
             [
              0.4444444444444444,
              "#bd3786"
             ],
             [
              0.5555555555555556,
              "#d8576b"
             ],
             [
              0.6666666666666666,
              "#ed7953"
             ],
             [
              0.7777777777777778,
              "#fb9f3a"
             ],
             [
              0.8888888888888888,
              "#fdca26"
             ],
             [
              1,
              "#f0f921"
             ]
            ],
            "type": "histogram2d"
           }
          ],
          "histogram2dcontour": [
           {
            "colorbar": {
             "outlinewidth": 0,
             "ticks": ""
            },
            "colorscale": [
             [
              0,
              "#0d0887"
             ],
             [
              0.1111111111111111,
              "#46039f"
             ],
             [
              0.2222222222222222,
              "#7201a8"
             ],
             [
              0.3333333333333333,
              "#9c179e"
             ],
             [
              0.4444444444444444,
              "#bd3786"
             ],
             [
              0.5555555555555556,
              "#d8576b"
             ],
             [
              0.6666666666666666,
              "#ed7953"
             ],
             [
              0.7777777777777778,
              "#fb9f3a"
             ],
             [
              0.8888888888888888,
              "#fdca26"
             ],
             [
              1,
              "#f0f921"
             ]
            ],
            "type": "histogram2dcontour"
           }
          ],
          "mesh3d": [
           {
            "colorbar": {
             "outlinewidth": 0,
             "ticks": ""
            },
            "type": "mesh3d"
           }
          ],
          "parcoords": [
           {
            "line": {
             "colorbar": {
              "outlinewidth": 0,
              "ticks": ""
             }
            },
            "type": "parcoords"
           }
          ],
          "pie": [
           {
            "automargin": true,
            "type": "pie"
           }
          ],
          "scatter": [
           {
            "fillpattern": {
             "fillmode": "overlay",
             "size": 10,
             "solidity": 0.2
            },
            "type": "scatter"
           }
          ],
          "scatter3d": [
           {
            "line": {
             "colorbar": {
              "outlinewidth": 0,
              "ticks": ""
             }
            },
            "marker": {
             "colorbar": {
              "outlinewidth": 0,
              "ticks": ""
             }
            },
            "type": "scatter3d"
           }
          ],
          "scattercarpet": [
           {
            "marker": {
             "colorbar": {
              "outlinewidth": 0,
              "ticks": ""
             }
            },
            "type": "scattercarpet"
           }
          ],
          "scattergeo": [
           {
            "marker": {
             "colorbar": {
              "outlinewidth": 0,
              "ticks": ""
             }
            },
            "type": "scattergeo"
           }
          ],
          "scattergl": [
           {
            "marker": {
             "colorbar": {
              "outlinewidth": 0,
              "ticks": ""
             }
            },
            "type": "scattergl"
           }
          ],
          "scattermapbox": [
           {
            "marker": {
             "colorbar": {
              "outlinewidth": 0,
              "ticks": ""
             }
            },
            "type": "scattermapbox"
           }
          ],
          "scatterpolar": [
           {
            "marker": {
             "colorbar": {
              "outlinewidth": 0,
              "ticks": ""
             }
            },
            "type": "scatterpolar"
           }
          ],
          "scatterpolargl": [
           {
            "marker": {
             "colorbar": {
              "outlinewidth": 0,
              "ticks": ""
             }
            },
            "type": "scatterpolargl"
           }
          ],
          "scatterternary": [
           {
            "marker": {
             "colorbar": {
              "outlinewidth": 0,
              "ticks": ""
             }
            },
            "type": "scatterternary"
           }
          ],
          "surface": [
           {
            "colorbar": {
             "outlinewidth": 0,
             "ticks": ""
            },
            "colorscale": [
             [
              0,
              "#0d0887"
             ],
             [
              0.1111111111111111,
              "#46039f"
             ],
             [
              0.2222222222222222,
              "#7201a8"
             ],
             [
              0.3333333333333333,
              "#9c179e"
             ],
             [
              0.4444444444444444,
              "#bd3786"
             ],
             [
              0.5555555555555556,
              "#d8576b"
             ],
             [
              0.6666666666666666,
              "#ed7953"
             ],
             [
              0.7777777777777778,
              "#fb9f3a"
             ],
             [
              0.8888888888888888,
              "#fdca26"
             ],
             [
              1,
              "#f0f921"
             ]
            ],
            "type": "surface"
           }
          ],
          "table": [
           {
            "cells": {
             "fill": {
              "color": "#EBF0F8"
             },
             "line": {
              "color": "white"
             }
            },
            "header": {
             "fill": {
              "color": "#C8D4E3"
             },
             "line": {
              "color": "white"
             }
            },
            "type": "table"
           }
          ]
         },
         "layout": {
          "annotationdefaults": {
           "arrowcolor": "#2a3f5f",
           "arrowhead": 0,
           "arrowwidth": 1
          },
          "autotypenumbers": "strict",
          "coloraxis": {
           "colorbar": {
            "outlinewidth": 0,
            "ticks": ""
           }
          },
          "colorscale": {
           "diverging": [
            [
             0,
             "#8e0152"
            ],
            [
             0.1,
             "#c51b7d"
            ],
            [
             0.2,
             "#de77ae"
            ],
            [
             0.3,
             "#f1b6da"
            ],
            [
             0.4,
             "#fde0ef"
            ],
            [
             0.5,
             "#f7f7f7"
            ],
            [
             0.6,
             "#e6f5d0"
            ],
            [
             0.7,
             "#b8e186"
            ],
            [
             0.8,
             "#7fbc41"
            ],
            [
             0.9,
             "#4d9221"
            ],
            [
             1,
             "#276419"
            ]
           ],
           "sequential": [
            [
             0,
             "#0d0887"
            ],
            [
             0.1111111111111111,
             "#46039f"
            ],
            [
             0.2222222222222222,
             "#7201a8"
            ],
            [
             0.3333333333333333,
             "#9c179e"
            ],
            [
             0.4444444444444444,
             "#bd3786"
            ],
            [
             0.5555555555555556,
             "#d8576b"
            ],
            [
             0.6666666666666666,
             "#ed7953"
            ],
            [
             0.7777777777777778,
             "#fb9f3a"
            ],
            [
             0.8888888888888888,
             "#fdca26"
            ],
            [
             1,
             "#f0f921"
            ]
           ],
           "sequentialminus": [
            [
             0,
             "#0d0887"
            ],
            [
             0.1111111111111111,
             "#46039f"
            ],
            [
             0.2222222222222222,
             "#7201a8"
            ],
            [
             0.3333333333333333,
             "#9c179e"
            ],
            [
             0.4444444444444444,
             "#bd3786"
            ],
            [
             0.5555555555555556,
             "#d8576b"
            ],
            [
             0.6666666666666666,
             "#ed7953"
            ],
            [
             0.7777777777777778,
             "#fb9f3a"
            ],
            [
             0.8888888888888888,
             "#fdca26"
            ],
            [
             1,
             "#f0f921"
            ]
           ]
          },
          "colorway": [
           "#636efa",
           "#EF553B",
           "#00cc96",
           "#ab63fa",
           "#FFA15A",
           "#19d3f3",
           "#FF6692",
           "#B6E880",
           "#FF97FF",
           "#FECB52"
          ],
          "font": {
           "color": "#2a3f5f"
          },
          "geo": {
           "bgcolor": "white",
           "lakecolor": "white",
           "landcolor": "#E5ECF6",
           "showlakes": true,
           "showland": true,
           "subunitcolor": "white"
          },
          "hoverlabel": {
           "align": "left"
          },
          "hovermode": "closest",
          "mapbox": {
           "style": "light"
          },
          "paper_bgcolor": "white",
          "plot_bgcolor": "#E5ECF6",
          "polar": {
           "angularaxis": {
            "gridcolor": "white",
            "linecolor": "white",
            "ticks": ""
           },
           "bgcolor": "#E5ECF6",
           "radialaxis": {
            "gridcolor": "white",
            "linecolor": "white",
            "ticks": ""
           }
          },
          "scene": {
           "xaxis": {
            "backgroundcolor": "#E5ECF6",
            "gridcolor": "white",
            "gridwidth": 2,
            "linecolor": "white",
            "showbackground": true,
            "ticks": "",
            "zerolinecolor": "white"
           },
           "yaxis": {
            "backgroundcolor": "#E5ECF6",
            "gridcolor": "white",
            "gridwidth": 2,
            "linecolor": "white",
            "showbackground": true,
            "ticks": "",
            "zerolinecolor": "white"
           },
           "zaxis": {
            "backgroundcolor": "#E5ECF6",
            "gridcolor": "white",
            "gridwidth": 2,
            "linecolor": "white",
            "showbackground": true,
            "ticks": "",
            "zerolinecolor": "white"
           }
          },
          "shapedefaults": {
           "line": {
            "color": "#2a3f5f"
           }
          },
          "ternary": {
           "aaxis": {
            "gridcolor": "white",
            "linecolor": "white",
            "ticks": ""
           },
           "baxis": {
            "gridcolor": "white",
            "linecolor": "white",
            "ticks": ""
           },
           "bgcolor": "#E5ECF6",
           "caxis": {
            "gridcolor": "white",
            "linecolor": "white",
            "ticks": ""
           }
          },
          "title": {
           "x": 0.05
          },
          "xaxis": {
           "automargin": true,
           "gridcolor": "white",
           "linecolor": "white",
           "ticks": "",
           "title": {
            "standoff": 15
           },
           "zerolinecolor": "white",
           "zerolinewidth": 2
          },
          "yaxis": {
           "automargin": true,
           "gridcolor": "white",
           "linecolor": "white",
           "ticks": "",
           "title": {
            "standoff": 15
           },
           "zerolinecolor": "white",
           "zerolinewidth": 2
          }
         }
        },
        "title": {
         "text": "Distribución de Respuestas Correctas e Incorrectas por Fuente (%)"
        },
        "xaxis": {
         "anchor": "y",
         "domain": [
          0,
          1
         ],
         "tickangle": 0,
         "title": {
          "text": "Fuente de la Respuesta"
         }
        },
        "yaxis": {
         "anchor": "x",
         "domain": [
          0,
          1
         ],
         "title": {
          "text": "Porcentaje de Respuestas"
         }
        }
       }
      }
     },
     "metadata": {},
     "output_type": "display_data"
    }
   ],
   "source": [
    "import polars as pl\n",
    "import plotly.express as px\n",
    "\n",
    "# Step 1: Verify the column names to ensure they are correct\n",
    "print(\"Available Columns in DataFrame:\")\n",
    "print(qa.columns)\n",
    "\n",
    "# Step 2: Ensure there are no leading/trailing whitespaces in column names\n",
    "# (Adjust the column names here if there are any discrepancies)\n",
    "# qa = qa.rename({\n",
    "#     'ai_answer_without_the_transcript_correctness': 'ai_answer_without_transcript_correctness',\n",
    "#     'ai_answer_with_the_transcript_correctness': 'ai_answer_with_the_transcript_correctness'\n",
    "# })\n",
    "\n",
    "# Step 3: Confirm the renaming\n",
    "print(\"\\nUpdated Columns in DataFrame:\")\n",
    "print(qa.columns)\n",
    "\n",
    "# Step 4: Count 'CORRECT' and 'INCORRECT' in 'ai_answer_without_the_transcript_correctness'\n",
    "without_transcript_counts = qa.group_by('ai_answer_without_transcript_correctness').agg(\n",
    "    pl.len().alias(\"Count\")\n",
    ").rename({\n",
    "    'ai_answer_without_transcript_correctness': \"Correctness\"\n",
    "}).with_columns(pl.lit(\"Sin Transcripción\").alias(\"Fuente\"))\n",
    "\n",
    "# Step 5: Count 'CORRECT' and 'INCORRECT' in 'ai_answer_with_the_transcript_correctness'\n",
    "with_transcript_counts = qa.group_by('ai_answer_with_the_transcript_correctness').agg(\n",
    "    pl.len().alias(\"Count\")\n",
    ").rename({\n",
    "    'ai_answer_with_the_transcript_correctness': \"Correctness\"\n",
    "}).with_columns(pl.lit(\"Con Transcripción\").alias(\"Fuente\"))\n",
    "\n",
    "# Step 6: Combine both counts into a single DataFrame\n",
    "combined_counts = pl.concat([without_transcript_counts, with_transcript_counts])\n",
    "\n",
    "# Display the combined counts to verify\n",
    "print(\"\\nCombined Counts:\")\n",
    "print(combined_counts)\n",
    "\n",
    "# Step 7: Calculate the total counts per Source for percentage calculation\n",
    "total_per_source = combined_counts.group_by(\"Fuente\").agg(\n",
    "    pl.sum(\"Count\").alias(\"Total\")\n",
    ")\n",
    "\n",
    "# Step 8: Join the total counts back to the combined_counts and calculate percentages\n",
    "combined_with_percentage = combined_counts.join(total_per_source, on=\"Fuente\").with_columns(\n",
    "    (pl.col(\"Count\") / pl.col(\"Total\") * 100).round(2).alias(\"Percentage\")\n",
    ")\n",
    "\n",
    "# Display the DataFrame with percentages to verify\n",
    "print(\"\\nCombined Counts with Percentages:\")\n",
    "print(combined_with_percentage)\n",
    "\n",
    "# Step 9: Sort the sources based on Correctness Percentage (from less to more)\n",
    "# Extract sources sorted by 'CORRECT' percentage\n",
    "source_order = combined_with_percentage.filter(\n",
    "    pl.col(\"Correctness\") == \"CORRECT\"\n",
    ").sort(\"Percentage\")[\"Fuente\"].to_list()\n",
    "\n",
    "# Step 10: Convert the combined Polars DataFrame with percentages to a dictionary for Plotly\n",
    "data_dict = combined_with_percentage.select([\"Fuente\", \"Correctness\", \"Percentage\"]).to_dict(as_series=False)\n",
    "\n",
    "# Step 11: Create a grouped bar plot to visualize the percentage distribution\n",
    "fig = px.bar(\n",
    "    data_dict,\n",
    "    x=\"Fuente\",\n",
    "    y=\"Percentage\",\n",
    "    color=\"Correctness\",\n",
    "    barmode='group',\n",
    "    title=\"Distribución de Respuestas Correctas e Incorrectas por Fuente (%)\",\n",
    "    labels={\n",
    "        \"Source\": \"Fuente de la Respuesta\",\n",
    "        \"Percentage\": \"Porcentaje de Respuestas\",\n",
    "        \"Correctness\": \"Corrección\"\n",
    "    },\n",
    "    text=\"Percentage\",  # Adding percentage labels on the bars\n",
    "    #category_order={\"Source\": source_order}  # Sorting sources from less to more\n",
    "    color_discrete_map={\n",
    "        \"CORRECT\": \"green\",\n",
    "        \"PARTIAL\": \"yellow\",\n",
    "        \"INCORRECT\": \"red\",\n",
    "    }\n",
    ")\n",
    "\n",
    "# Step 12: Customize the layout for better readability\n",
    "fig.update_layout(\n",
    "    paper_bgcolor='rgba(0,0,0,0)',          # Transparent paper background\n",
    "    plot_bgcolor='rgba(0,0,0,0)',           # Transparent plot background\n",
    "    xaxis_tickangle=0,                    # Rotate x-axis labels for better readability\n",
    "    xaxis_title=\"Fuente de la Respuesta\",    # X-axis title in Spanish\n",
    "    yaxis_title=\"Porcentaje de Respuestas\",   # Y-axis title in Spanish\n",
    "    showlegend=True,                         # Show legend\n",
    "    margin=dict(l=40, r=40, t=60, b=40),      # Adjust margins\n",
    "    height=600                                # Set plot height\n",
    ")\n",
    "\n",
    "# Step 13: Add percentage labels on the bars for clarity\n",
    "fig.update_traces(texttemplate='%{text}%', textposition='inside')\n",
    "\n",
    "# Step 14: Show the plot\n",
    "fig.show()"
   ]
  },
  {
   "cell_type": "code",
   "execution_count": 12,
   "metadata": {},
   "outputs": [],
   "source": [
    "# import plotly.express as px\n",
    "\n",
    "# # Convert to dictionary for Plotly\n",
    "# question_counts_dict = question_counts.to_dict(as_series=False)\n",
    "\n",
    "# # Create the bar plot\n",
    "# fig = px.bar(question_counts_dict, x=\"post_title\", y=\"question_count\", title=\"Distribución de Preguntas por Post\")\n",
    "\n",
    "# # Customize the layout\n",
    "# fig.update_layout(\n",
    "#     xaxis_title=\"Título del Post\",\n",
    "#     yaxis_title=\"Número de Preguntas\",\n",
    "#     xaxis_tickangle=-45\n",
    "# )\n",
    "\n",
    "# # Show the plot\n",
    "# fig.show()"
   ]
  },
  {
   "cell_type": "code",
   "execution_count": 13,
   "metadata": {},
   "outputs": [
    {
     "name": "stderr",
     "output_type": "stream",
     "text": [
      "2024-12-12 12:59:58,657 - INFO - Loaded 275 podcasts from /Users/borja/Documents/Somniumrema/projects/genai/grag/data/acquired_metadata.csv\n",
      "Processing Podcasts: 100%|██████████| 275/275 [00:20<00:00, 13.12it/s]\n",
      "2024-12-12 13:00:19,660 - INFO - Processed 200 podcasts with transcripts\n"
     ]
    }
   ],
   "source": [
    "# Load and process podcasts\n",
    "podcasts_clean = load_and_process_podcasts(csv_path, text_folder)"
   ]
  },
  {
   "cell_type": "code",
   "execution_count": 127,
   "metadata": {},
   "outputs": [
    {
     "name": "stdout",
     "output_type": "stream",
     "text": [
      "Columnas en 'podcasts_clean':\n",
      "['post_url', 'post_title', 'series_number', 'blog_date', 'blog_title', 'file_name', 'has_transcript', 'text', 'cleaned_text', 'tokens']\n",
      "\n",
      "Columnas en 'qa':\n",
      "['question', 'human_answer', 'ai_answer_without_the_transcript', 'ai_answer_without_transcript_correctness', 'ai_answer_with_the_transcript', 'ai_answer_with_the_transcript_correctness', 'quality_rating_for_answer_with_transcript', 'post_url', 'file_name']\n",
      "\n",
      "Número de filas que tienen 'qa': 27\n",
      "\n",
      "Ejemplo de filas filtradas:\n"
     ]
    },
    {
     "data": {
      "text/html": [
       "<div><style>\n",
       ".dataframe > thead > tr,\n",
       ".dataframe > tbody > tr {\n",
       "  text-align: right;\n",
       "  white-space: pre-wrap;\n",
       "}\n",
       "</style>\n",
       "<small>shape: (27, 10)</small><table border=\"1\" class=\"dataframe\"><thead><tr><th>post_url</th><th>post_title</th><th>series_number</th><th>blog_date</th><th>blog_title</th><th>file_name</th><th>has_transcript</th><th>text</th><th>cleaned_text</th><th>tokens</th></tr><tr><td>str</td><td>str</td><td>str</td><td>date</td><td>str</td><td>str</td><td>bool</td><td>str</td><td>str</td><td>i64</td></tr></thead><tbody><tr><td>&quot;https://www.acquired.fm/episod…</td><td>&quot;Costco&quot;</td><td>&quot;Season 13, Episode 2&quot;</td><td>2023-08-20</td><td>&quot;The Complete History &amp; Strateg…</td><td>&quot;costco&quot;</td><td>true</td><td>&quot;Transcript:&nbsp;&nbsp;&nbsp;(disclaimer: may…</td><td>&quot;I don&#x27;t think I have ever been…</td><td>37417</td></tr><tr><td>&quot;https://www.acquired.fm/episod…</td><td>&quot;Nvidia Part III: The Dawn of t…</td><td>&quot;Season 13, Episode 3&quot;</td><td>2023-09-05</td><td>&quot;The Complete History &amp; Strateg…</td><td>&quot;nvidia_part_iii_the_dawn_of_th…</td><td>true</td><td>&quot;Transcript:&nbsp;&nbsp;&nbsp;(disclaimer: may…</td><td>&quot;Do you like my Bucks T-shirt? …</td><td>35198</td></tr><tr><td>&quot;https://www.acquired.fm/episod…</td><td>&quot;Visa&quot;</td><td>&quot;Season 13, Episode 4&quot;</td><td>2023-11-26</td><td>&quot;The Complete History &amp; Strateg…</td><td>&quot;visa&quot;</td><td>true</td><td>&quot;Transcript:&nbsp;&nbsp;&nbsp;(disclaimer: may…</td><td>&quot;It&#x27;s funny. When we picked thi…</td><td>45242</td></tr><tr><td>&quot;https://www.acquired.fm/episod…</td><td>&quot;Renaissance Technologies&quot;</td><td>&quot;Season 14, Episode 3&quot;</td><td>2024-03-17</td><td>&quot;The Complete History &amp; Strateg…</td><td>&quot;renaissance_technologies&quot;</td><td>true</td><td>&quot;Transcript:&nbsp;&nbsp;&nbsp;(disclaimer: may…</td><td>&quot;I always used to misspell Rena…</td><td>39313</td></tr><tr><td>&quot;https://www.acquired.fm/episod…</td><td>&quot;Porsche (with Doug DeMuro)&quot;</td><td>&quot;Season 12, Episode 6&quot;</td><td>2023-06-26</td><td>&quot;The Complete History &amp; Strateg…</td><td>&quot;porsche_with_doug_demuro&quot;</td><td>true</td><td>&quot;Transcript:&nbsp;&nbsp;&nbsp;(disclaimer: may…</td><td>&quot;It&#x27;s definitely por-shuh. Por-…</td><td>43266</td></tr><tr><td>&hellip;</td><td>&hellip;</td><td>&hellip;</td><td>&hellip;</td><td>&hellip;</td><td>&hellip;</td><td>&hellip;</td><td>&hellip;</td><td>&hellip;</td><td>&hellip;</td></tr><tr><td>&quot;https://www.acquired.fm/episod…</td><td>&quot;Airbnb&quot;</td><td>&quot;Season 7, Episode 8&quot;</td><td>2020-12-10</td><td>&quot;‍&quot;</td><td>&quot;airbnb&quot;</td><td>true</td><td>&quot;Transcript:&nbsp;&nbsp;&nbsp;(disclaimer: may…</td><td>&quot;Welcome to season 7, episode 8…</td><td>31354</td></tr><tr><td>&quot;https://www.acquired.fm/episod…</td><td>&quot;SpaceX&quot;</td><td>&quot;Season 6, Episode 7&quot;</td><td>2020-05-26</td><td>&quot;Related Episodes&quot;</td><td>&quot;spacex&quot;</td><td>true</td><td>&quot;Transcript:&nbsp;&nbsp;&nbsp;(disclaimer: may…</td><td>&quot;Welcome to Season Six, Episode…</td><td>29261</td></tr><tr><td>&quot;https://www.acquired.fm/episod…</td><td>&quot;Disney, Plus&quot;</td><td>&quot;Season 5, Episode 7&quot;</td><td>2019-11-25</td><td>&quot;Related Episodes&quot;</td><td>&quot;disney_plus&quot;</td><td>true</td><td>&quot;Transcript:&nbsp;&nbsp;&nbsp;(disclaimer: may…</td><td>&quot;Disney makes it approachable, …</td><td>25734</td></tr><tr><td>&quot;https://www.acquired.fm/episod…</td><td>&quot;WhatsApp&quot;</td><td>&quot;Season 6, Episode 1&quot;</td><td>2020-01-28</td><td>&quot;Related Episodes&quot;</td><td>&quot;whatsapp&quot;</td><td>true</td><td>&quot;Transcript:&nbsp;&nbsp;&nbsp;(disclaimer: may…</td><td>&quot;I do have to say, that based o…</td><td>21434</td></tr><tr><td>&quot;https://www.acquired.fm/episod…</td><td>&quot;The Electronic Arts IPO (with …</td><td>&quot;Season 4. Episode 7&quot;</td><td>2019-05-27</td><td>&quot;Related Episodes&quot;</td><td>&quot;the_electronic_arts_ipo_with_t…</td><td>true</td><td>&quot;Transcript:&nbsp;&nbsp;&nbsp;(disclaimer: may…</td><td>&quot;Welcome to season four, episod…</td><td>25569</td></tr></tbody></table></div>"
      ],
      "text/plain": [
       "shape: (27, 10)\n",
       "┌────────────┬────────────┬───────────┬───────────┬───┬───────────┬───────────┬───────────┬────────┐\n",
       "│ post_url   ┆ post_title ┆ series_nu ┆ blog_date ┆ … ┆ has_trans ┆ text      ┆ cleaned_t ┆ tokens │\n",
       "│ ---        ┆ ---        ┆ mber      ┆ ---       ┆   ┆ cript     ┆ ---       ┆ ext       ┆ ---    │\n",
       "│ str        ┆ str        ┆ ---       ┆ date      ┆   ┆ ---       ┆ str       ┆ ---       ┆ i64    │\n",
       "│            ┆            ┆ str       ┆           ┆   ┆ bool      ┆           ┆ str       ┆        │\n",
       "╞════════════╪════════════╪═══════════╪═══════════╪═══╪═══════════╪═══════════╪═══════════╪════════╡\n",
       "│ https://ww ┆ Costco     ┆ Season    ┆ 2023-08-2 ┆ … ┆ true      ┆ Transcrip ┆ I don't   ┆ 37417  │\n",
       "│ w.acquired ┆            ┆ 13,       ┆ 0         ┆   ┆           ┆ t:   (dis ┆ think I   ┆        │\n",
       "│ .fm/episod ┆            ┆ Episode 2 ┆           ┆   ┆           ┆ claimer:  ┆ have ever ┆        │\n",
       "│ …          ┆            ┆           ┆           ┆   ┆           ┆ may…      ┆ been…     ┆        │\n",
       "│ https://ww ┆ Nvidia     ┆ Season    ┆ 2023-09-0 ┆ … ┆ true      ┆ Transcrip ┆ Do you    ┆ 35198  │\n",
       "│ w.acquired ┆ Part III:  ┆ 13,       ┆ 5         ┆   ┆           ┆ t:   (dis ┆ like my   ┆        │\n",
       "│ .fm/episod ┆ The Dawn   ┆ Episode 3 ┆           ┆   ┆           ┆ claimer:  ┆ Bucks     ┆        │\n",
       "│ …          ┆ of t…      ┆           ┆           ┆   ┆           ┆ may…      ┆ T-shirt?  ┆        │\n",
       "│            ┆            ┆           ┆           ┆   ┆           ┆           ┆ …         ┆        │\n",
       "│ https://ww ┆ Visa       ┆ Season    ┆ 2023-11-2 ┆ … ┆ true      ┆ Transcrip ┆ It's      ┆ 45242  │\n",
       "│ w.acquired ┆            ┆ 13,       ┆ 6         ┆   ┆           ┆ t:   (dis ┆ funny.    ┆        │\n",
       "│ .fm/episod ┆            ┆ Episode 4 ┆           ┆   ┆           ┆ claimer:  ┆ When we   ┆        │\n",
       "│ …          ┆            ┆           ┆           ┆   ┆           ┆ may…      ┆ picked    ┆        │\n",
       "│            ┆            ┆           ┆           ┆   ┆           ┆           ┆ thi…      ┆        │\n",
       "│ https://ww ┆ Renaissanc ┆ Season    ┆ 2024-03-1 ┆ … ┆ true      ┆ Transcrip ┆ I always  ┆ 39313  │\n",
       "│ w.acquired ┆ e Technolo ┆ 14,       ┆ 7         ┆   ┆           ┆ t:   (dis ┆ used to   ┆        │\n",
       "│ .fm/episod ┆ gies       ┆ Episode 3 ┆           ┆   ┆           ┆ claimer:  ┆ misspell  ┆        │\n",
       "│ …          ┆            ┆           ┆           ┆   ┆           ┆ may…      ┆ Rena…     ┆        │\n",
       "│ https://ww ┆ Porsche    ┆ Season    ┆ 2023-06-2 ┆ … ┆ true      ┆ Transcrip ┆ It's defi ┆ 43266  │\n",
       "│ w.acquired ┆ (with Doug ┆ 12,       ┆ 6         ┆   ┆           ┆ t:   (dis ┆ nitely    ┆        │\n",
       "│ .fm/episod ┆ DeMuro)    ┆ Episode 6 ┆           ┆   ┆           ┆ claimer:  ┆ por-shuh. ┆        │\n",
       "│ …          ┆            ┆           ┆           ┆   ┆           ┆ may…      ┆ Por-…     ┆        │\n",
       "│ …          ┆ …          ┆ …         ┆ …         ┆ … ┆ …         ┆ …         ┆ …         ┆ …      │\n",
       "│ https://ww ┆ Airbnb     ┆ Season 7, ┆ 2020-12-1 ┆ … ┆ true      ┆ Transcrip ┆ Welcome   ┆ 31354  │\n",
       "│ w.acquired ┆            ┆ Episode 8 ┆ 0         ┆   ┆           ┆ t:   (dis ┆ to season ┆        │\n",
       "│ .fm/episod ┆            ┆           ┆           ┆   ┆           ┆ claimer:  ┆ 7,        ┆        │\n",
       "│ …          ┆            ┆           ┆           ┆   ┆           ┆ may…      ┆ episode   ┆        │\n",
       "│            ┆            ┆           ┆           ┆   ┆           ┆           ┆ 8…        ┆        │\n",
       "│ https://ww ┆ SpaceX     ┆ Season 6, ┆ 2020-05-2 ┆ … ┆ true      ┆ Transcrip ┆ Welcome   ┆ 29261  │\n",
       "│ w.acquired ┆            ┆ Episode 7 ┆ 6         ┆   ┆           ┆ t:   (dis ┆ to Season ┆        │\n",
       "│ .fm/episod ┆            ┆           ┆           ┆   ┆           ┆ claimer:  ┆ Six,      ┆        │\n",
       "│ …          ┆            ┆           ┆           ┆   ┆           ┆ may…      ┆ Episode…  ┆        │\n",
       "│ https://ww ┆ Disney,    ┆ Season 5, ┆ 2019-11-2 ┆ … ┆ true      ┆ Transcrip ┆ Disney    ┆ 25734  │\n",
       "│ w.acquired ┆ Plus       ┆ Episode 7 ┆ 5         ┆   ┆           ┆ t:   (dis ┆ makes it  ┆        │\n",
       "│ .fm/episod ┆            ┆           ┆           ┆   ┆           ┆ claimer:  ┆ approacha ┆        │\n",
       "│ …          ┆            ┆           ┆           ┆   ┆           ┆ may…      ┆ ble, …    ┆        │\n",
       "│ https://ww ┆ WhatsApp   ┆ Season 6, ┆ 2020-01-2 ┆ … ┆ true      ┆ Transcrip ┆ I do have ┆ 21434  │\n",
       "│ w.acquired ┆            ┆ Episode 1 ┆ 8         ┆   ┆           ┆ t:   (dis ┆ to say,   ┆        │\n",
       "│ .fm/episod ┆            ┆           ┆           ┆   ┆           ┆ claimer:  ┆ that      ┆        │\n",
       "│ …          ┆            ┆           ┆           ┆   ┆           ┆ may…      ┆ based o…  ┆        │\n",
       "│ https://ww ┆ The        ┆ Season 4. ┆ 2019-05-2 ┆ … ┆ true      ┆ Transcrip ┆ Welcome   ┆ 25569  │\n",
       "│ w.acquired ┆ Electronic ┆ Episode 7 ┆ 7         ┆   ┆           ┆ t:   (dis ┆ to season ┆        │\n",
       "│ .fm/episod ┆ Arts IPO   ┆           ┆           ┆   ┆           ┆ claimer:  ┆ four,     ┆        │\n",
       "│ …          ┆ (with …    ┆           ┆           ┆   ┆           ┆ may…      ┆ episod…   ┆        │\n",
       "└────────────┴────────────┴───────────┴───────────┴───┴───────────┴───────────┴───────────┴────────┘"
      ]
     },
     "execution_count": 127,
     "metadata": {},
     "output_type": "execute_result"
    }
   ],
   "source": [
    "import polars as pl\n",
    "\n",
    "# Paso 1: Verificar las columnas en ambos DataFrames\n",
    "print(\"Columnas en 'podcasts_clean':\")\n",
    "print(podcasts_clean.columns)\n",
    "\n",
    "print(\"\\nColumnas en 'qa':\")\n",
    "print(qa.columns)\n",
    "\n",
    "# Verificar si 'file_name' existe en ambos DataFrames\n",
    "if 'file_name' not in podcasts_clean.columns:\n",
    "    raise ValueError(\"La columna 'file_name' no existe en 'podcasts_clean'.\")\n",
    "if 'file_name' not in qa.columns:\n",
    "    raise ValueError(\"La columna 'file_name' no existe en 'qa'.\")\n",
    "\n",
    "# Paso 2: Filtrar 'podcasts_clean' basado en 'file_name' presente en 'qa' utilizando Semi Join\n",
    "podcasts_with_qa = podcasts_clean.join(\n",
    "    qa.select('file_name').unique(),\n",
    "    on='file_name',\n",
    "    how='semi'\n",
    ")\n",
    "\n",
    "# Paso 3: Verificar el resultado del filtrado\n",
    "count_filtered = podcasts_with_qa.height\n",
    "print(f\"\\nNúmero de filas que tienen 'qa': {count_filtered}\")\n",
    "\n",
    "print(\"\\nEjemplo de filas filtradas:\")\n",
    "podcasts_with_qa"
   ]
  },
  {
   "cell_type": "code",
   "execution_count": null,
   "metadata": {},
   "outputs": [],
   "source": []
  },
  {
   "cell_type": "code",
   "execution_count": null,
   "metadata": {},
   "outputs": [
    {
     "data": {
      "text/html": [
       "<div><style>\n",
       ".dataframe > thead > tr,\n",
       ".dataframe > tbody > tr {\n",
       "  text-align: right;\n",
       "  white-space: pre-wrap;\n",
       "}\n",
       "</style>\n",
       "<small>shape: (200, 10)</small><table border=\"1\" class=\"dataframe\"><thead><tr><th>post_url</th><th>post_title</th><th>series_number</th><th>blog_date</th><th>blog_title</th><th>file_name</th><th>has_transcript</th><th>text</th><th>cleaned_text</th><th>tokens</th></tr><tr><td>str</td><td>str</td><td>str</td><td>date</td><td>str</td><td>str</td><td>bool</td><td>str</td><td>str</td><td>i64</td></tr></thead><tbody><tr><td>&quot;https://www.acquired.fm/episod…</td><td>&quot;Costco&quot;</td><td>&quot;Season 13, Episode 2&quot;</td><td>2023-08-20</td><td>&quot;The Complete History &amp; Strateg…</td><td>&quot;costco&quot;</td><td>true</td><td>&quot;Transcript:&nbsp;&nbsp;&nbsp;(disclaimer: may…</td><td>&quot;I don&#x27;t think I have ever been…</td><td>37417</td></tr><tr><td>&quot;https://www.acquired.fm/episod…</td><td>&quot;Generative AI in Video and the…</td><td>&quot;ACQ2 Episode&quot;</td><td>2023-08-29</td><td>&quot;Related Episodes&quot;</td><td>&quot;generative_ai_in_video_and_the…</td><td>true</td><td>&quot;Transcript:&nbsp;&nbsp;&nbsp;(disclaimer: may…</td><td>&quot;Hello, Acquired listeners. Wel…</td><td>11939</td></tr><tr><td>&quot;https://www.acquired.fm/episod…</td><td>&quot;Nvidia Part III: The Dawn of t…</td><td>&quot;Season 13, Episode 3&quot;</td><td>2023-09-05</td><td>&quot;The Complete History &amp; Strateg…</td><td>&quot;nvidia_part_iii_the_dawn_of_th…</td><td>true</td><td>&quot;Transcript:&nbsp;&nbsp;&nbsp;(disclaimer: may…</td><td>&quot;Do you like my Bucks T-shirt? …</td><td>35198</td></tr><tr><td>&quot;https://www.acquired.fm/episod…</td><td>&quot;Doug Demuro on Analyzing the C…</td><td>&quot;ACQ2 Episode&quot;</td><td>2023-09-17</td><td>&quot;Related Episodes&quot;</td><td>&quot;doug_demuro_on_analyzing_the_c…</td><td>true</td><td>&quot;Transcript:&nbsp;&nbsp;&nbsp;(disclaimer: may…</td><td>&quot;Doug DeMuro, it&#x27;s great to see…</td><td>21593</td></tr><tr><td>&quot;https://www.acquired.fm/episod…</td><td>&quot;NVIDIA CEO Jensen Huang&quot;</td><td>&quot;ACQ2 Episode&quot;</td><td>2023-10-15</td><td>&quot;Related Episodes&quot;</td><td>&quot;nvidia_ceo_jensen_huang&quot;</td><td>true</td><td>&quot;Transcript:&nbsp;&nbsp;&nbsp;(disclaimer: may…</td><td>&quot;I will say, David, I would lov…</td><td>18077</td></tr><tr><td>&hellip;</td><td>&hellip;</td><td>&hellip;</td><td>&hellip;</td><td>&hellip;</td><td>&hellip;</td><td>&hellip;</td><td>&hellip;</td><td>&hellip;</td><td>&hellip;</td></tr><tr><td>&quot;https://www.acquired.fm/episod…</td><td>&quot;ExactTarget (acquired by Sales…</td><td>&quot;Season 1, Episode 15&quot;</td><td>2016-07-05</td><td>&quot;Related Episodes&quot;</td><td>&quot;exacttarget_acquired_by_salesf…</td><td>true</td><td>&quot;Transcript:&nbsp;&nbsp;&nbsp;(disclaimer: may…</td><td>&quot;This is going to be a great ep…</td><td>13883</td></tr><tr><td>&quot;https://www.acquired.fm/episod…</td><td>&quot;Midroll + Stitcher (acquired b…</td><td>&quot;Season 1, Episode 16&quot;</td><td>2016-07-12</td><td>&quot;Related Episodes&quot;</td><td>&quot;midroll_stitcher_acquired_by_s…</td><td>true</td><td>&quot;Transcript:&nbsp;&nbsp;&nbsp;(disclaimer: may…</td><td>&quot;We&#x27;d like to thank our one lis…</td><td>11059</td></tr><tr><td>&quot;https://www.acquired.fm/episod…</td><td>&quot;Waze&quot;</td><td>&quot;Season 1, Episode 17&quot;</td><td>2016-08-03</td><td>&quot;Related Episodes&quot;</td><td>&quot;waze&quot;</td><td>true</td><td>&quot;Transcript:&nbsp;&nbsp;&nbsp;(disclaimer: may…</td><td>&quot;Welcome to Episode 17 of Acqui…</td><td>11693</td></tr><tr><td>&quot;https://www.acquired.fm/episod…</td><td>&quot;Special‚ An Acquirer&#x27;s View in…</td><td>&quot;Season 1, Episode 18&quot;</td><td>2016-08-22</td><td>&quot;Related Episodes&quot;</td><td>&quot;special_an_acquirers_view_into…</td><td>true</td><td>&quot;Transcript:&nbsp;&nbsp;&nbsp;(disclaimer: may…</td><td>&quot;Welcome to Episode of 18 of Ac…</td><td>13075</td></tr><tr><td>&quot;https://www.acquired.fm/episod…</td><td>&quot;Jet&quot;</td><td>&quot;Season 1, Episode 19&quot;</td><td>2016-08-29</td><td>&quot;Related Episodes&quot;</td><td>&quot;jet&quot;</td><td>true</td><td>&quot;Transcript:&nbsp;&nbsp;&nbsp;(disclaimer: may…</td><td>&quot;Welcome to Episode 19 of Acqui…</td><td>12463</td></tr></tbody></table></div>"
      ],
      "text/plain": [
       "shape: (200, 10)\n",
       "┌────────────┬────────────┬───────────┬───────────┬───┬───────────┬───────────┬───────────┬────────┐\n",
       "│ post_url   ┆ post_title ┆ series_nu ┆ blog_date ┆ … ┆ has_trans ┆ text      ┆ cleaned_t ┆ tokens │\n",
       "│ ---        ┆ ---        ┆ mber      ┆ ---       ┆   ┆ cript     ┆ ---       ┆ ext       ┆ ---    │\n",
       "│ str        ┆ str        ┆ ---       ┆ date      ┆   ┆ ---       ┆ str       ┆ ---       ┆ i64    │\n",
       "│            ┆            ┆ str       ┆           ┆   ┆ bool      ┆           ┆ str       ┆        │\n",
       "╞════════════╪════════════╪═══════════╪═══════════╪═══╪═══════════╪═══════════╪═══════════╪════════╡\n",
       "│ https://ww ┆ Costco     ┆ Season    ┆ 2023-08-2 ┆ … ┆ true      ┆ Transcrip ┆ I don't   ┆ 37417  │\n",
       "│ w.acquired ┆            ┆ 13,       ┆ 0         ┆   ┆           ┆ t:   (dis ┆ think I   ┆        │\n",
       "│ .fm/episod ┆            ┆ Episode 2 ┆           ┆   ┆           ┆ claimer:  ┆ have ever ┆        │\n",
       "│ …          ┆            ┆           ┆           ┆   ┆           ┆ may…      ┆ been…     ┆        │\n",
       "│ https://ww ┆ Generative ┆ ACQ2      ┆ 2023-08-2 ┆ … ┆ true      ┆ Transcrip ┆ Hello,    ┆ 11939  │\n",
       "│ w.acquired ┆ AI in      ┆ Episode   ┆ 9         ┆   ┆           ┆ t:   (dis ┆ Acquired  ┆        │\n",
       "│ .fm/episod ┆ Video and  ┆           ┆           ┆   ┆           ┆ claimer:  ┆ listeners ┆        │\n",
       "│ …          ┆ the…       ┆           ┆           ┆   ┆           ┆ may…      ┆ . Wel…    ┆        │\n",
       "│ https://ww ┆ Nvidia     ┆ Season    ┆ 2023-09-0 ┆ … ┆ true      ┆ Transcrip ┆ Do you    ┆ 35198  │\n",
       "│ w.acquired ┆ Part III:  ┆ 13,       ┆ 5         ┆   ┆           ┆ t:   (dis ┆ like my   ┆        │\n",
       "│ .fm/episod ┆ The Dawn   ┆ Episode 3 ┆           ┆   ┆           ┆ claimer:  ┆ Bucks     ┆        │\n",
       "│ …          ┆ of t…      ┆           ┆           ┆   ┆           ┆ may…      ┆ T-shirt?  ┆        │\n",
       "│            ┆            ┆           ┆           ┆   ┆           ┆           ┆ …         ┆        │\n",
       "│ https://ww ┆ Doug       ┆ ACQ2      ┆ 2023-09-1 ┆ … ┆ true      ┆ Transcrip ┆ Doug      ┆ 21593  │\n",
       "│ w.acquired ┆ Demuro on  ┆ Episode   ┆ 7         ┆   ┆           ┆ t:   (dis ┆ DeMuro,   ┆        │\n",
       "│ .fm/episod ┆ Analyzing  ┆           ┆           ┆   ┆           ┆ claimer:  ┆ it's      ┆        │\n",
       "│ …          ┆ the C…     ┆           ┆           ┆   ┆           ┆ may…      ┆ great to  ┆        │\n",
       "│            ┆            ┆           ┆           ┆   ┆           ┆           ┆ see…      ┆        │\n",
       "│ https://ww ┆ NVIDIA CEO ┆ ACQ2      ┆ 2023-10-1 ┆ … ┆ true      ┆ Transcrip ┆ I will    ┆ 18077  │\n",
       "│ w.acquired ┆ Jensen     ┆ Episode   ┆ 5         ┆   ┆           ┆ t:   (dis ┆ say,      ┆        │\n",
       "│ .fm/episod ┆ Huang      ┆           ┆           ┆   ┆           ┆ claimer:  ┆ David, I  ┆        │\n",
       "│ …          ┆            ┆           ┆           ┆   ┆           ┆ may…      ┆ would     ┆        │\n",
       "│            ┆            ┆           ┆           ┆   ┆           ┆           ┆ lov…      ┆        │\n",
       "│ …          ┆ …          ┆ …         ┆ …         ┆ … ┆ …         ┆ …         ┆ …         ┆ …      │\n",
       "│ https://ww ┆ ExactTarge ┆ Season 1, ┆ 2016-07-0 ┆ … ┆ true      ┆ Transcrip ┆ This is   ┆ 13883  │\n",
       "│ w.acquired ┆ t          ┆ Episode   ┆ 5         ┆   ┆           ┆ t:   (dis ┆ going to  ┆        │\n",
       "│ .fm/episod ┆ (acquired  ┆ 15        ┆           ┆   ┆           ┆ claimer:  ┆ be a      ┆        │\n",
       "│ …          ┆ by Sales…  ┆           ┆           ┆   ┆           ┆ may…      ┆ great ep… ┆        │\n",
       "│ https://ww ┆ Midroll +  ┆ Season 1, ┆ 2016-07-1 ┆ … ┆ true      ┆ Transcrip ┆ We'd like ┆ 11059  │\n",
       "│ w.acquired ┆ Stitcher   ┆ Episode   ┆ 2         ┆   ┆           ┆ t:   (dis ┆ to thank  ┆        │\n",
       "│ .fm/episod ┆ (acquired  ┆ 16        ┆           ┆   ┆           ┆ claimer:  ┆ our one   ┆        │\n",
       "│ …          ┆ b…         ┆           ┆           ┆   ┆           ┆ may…      ┆ lis…      ┆        │\n",
       "│ https://ww ┆ Waze       ┆ Season 1, ┆ 2016-08-0 ┆ … ┆ true      ┆ Transcrip ┆ Welcome   ┆ 11693  │\n",
       "│ w.acquired ┆            ┆ Episode   ┆ 3         ┆   ┆           ┆ t:   (dis ┆ to        ┆        │\n",
       "│ .fm/episod ┆            ┆ 17        ┆           ┆   ┆           ┆ claimer:  ┆ Episode   ┆        │\n",
       "│ …          ┆            ┆           ┆           ┆   ┆           ┆ may…      ┆ 17 of     ┆        │\n",
       "│            ┆            ┆           ┆           ┆   ┆           ┆           ┆ Acqui…    ┆        │\n",
       "│ https://ww ┆ Special‚   ┆ Season 1, ┆ 2016-08-2 ┆ … ┆ true      ┆ Transcrip ┆ Welcome   ┆ 13075  │\n",
       "│ w.acquired ┆ An         ┆ Episode   ┆ 2         ┆   ┆           ┆ t:   (dis ┆ to        ┆        │\n",
       "│ .fm/episod ┆ Acquirer's ┆ 18        ┆           ┆   ┆           ┆ claimer:  ┆ Episode   ┆        │\n",
       "│ …          ┆ View in…   ┆           ┆           ┆   ┆           ┆ may…      ┆ of 18 of  ┆        │\n",
       "│            ┆            ┆           ┆           ┆   ┆           ┆           ┆ Ac…       ┆        │\n",
       "│ https://ww ┆ Jet        ┆ Season 1, ┆ 2016-08-2 ┆ … ┆ true      ┆ Transcrip ┆ Welcome   ┆ 12463  │\n",
       "│ w.acquired ┆            ┆ Episode   ┆ 9         ┆   ┆           ┆ t:   (dis ┆ to        ┆        │\n",
       "│ .fm/episod ┆            ┆ 19        ┆           ┆   ┆           ┆ claimer:  ┆ Episode   ┆        │\n",
       "│ …          ┆            ┆           ┆           ┆   ┆           ┆ may…      ┆ 19 of     ┆        │\n",
       "│            ┆            ┆           ┆           ┆   ┆           ┆           ┆ Acqui…    ┆        │\n",
       "└────────────┴────────────┴───────────┴───────────┴───┴───────────┴───────────┴───────────┴────────┘"
      ]
     },
     "execution_count": 14,
     "metadata": {},
     "output_type": "execute_result"
    }
   ],
   "source": [
    "# Verify the DataFrame\n",
    "podcasts_clean"
   ]
  },
  {
   "cell_type": "code",
   "execution_count": 15,
   "metadata": {},
   "outputs": [],
   "source": [
    "# Save dataframe to disk as Parquet\n",
    "podcasts_clean.write_parquet(\"/Users/borja/Documents/Somniumrema/projects/genai/grag/pipeline_outcomes/podcasts_clean.parquet\")"
   ]
  },
  {
   "cell_type": "code",
   "execution_count": 145,
   "metadata": {},
   "outputs": [
    {
     "data": {
      "application/vnd.plotly.v1+json": {
       "config": {
        "plotlyServerURL": "https://plot.ly"
       },
       "data": [
        {
         "alignmentgroup": "True",
         "bingroup": "x",
         "hovertemplate": "Token count=%{x}<br>count=%{y}<extra></extra>",
         "legendgroup": "",
         "marker": {
          "color": "#636efa",
          "pattern": {
           "shape": ""
          }
         },
         "name": "",
         "nbinsx": 25,
         "offsetgroup": "",
         "orientation": "v",
         "showlegend": false,
         "type": "histogram",
         "x": [
          37417,
          11939,
          35198,
          21593,
          18077,
          12903,
          23961,
          45242,
          31512,
          45930,
          51709,
          11392,
          39313,
          53854,
          18633,
          47303,
          17217,
          38784,
          15527,
          12758,
          11734,
          27804,
          18733,
          44204,
          19487,
          14832,
          43266,
          49836,
          16401,
          23127,
          12726,
          16763,
          8778,
          29535,
          44595,
          28621,
          31008,
          13904,
          45513,
          13254,
          43104,
          41752,
          12780,
          14174,
          14225,
          18715,
          13818,
          37330,
          21033,
          27436,
          53907,
          18976,
          19911,
          34119,
          46551,
          19521,
          33201,
          14685,
          26891,
          23352,
          12944,
          13980,
          35681,
          10684,
          23056,
          13148,
          23997,
          16419,
          7814,
          27677,
          17148,
          9034,
          14272,
          28735,
          12753,
          25052,
          41345,
          8287,
          13060,
          19761,
          19147,
          15686,
          32428,
          19483,
          34589,
          16035,
          34491,
          23327,
          35964,
          14316,
          24845,
          8966,
          35561,
          19738,
          21650,
          32639,
          25951,
          25577,
          9957,
          37650,
          10964,
          16778,
          34366,
          15710,
          11833,
          22918,
          14522,
          16832,
          36671,
          14849,
          22146,
          28257,
          21403,
          19560,
          15437,
          32352,
          19339,
          9678,
          14274,
          21325,
          15693,
          16364,
          34747,
          31354,
          16649,
          29261,
          7960,
          14009,
          22780,
          12341,
          15353,
          10935,
          25820,
          2815,
          22332,
          17170,
          13798,
          17279,
          24342,
          15024,
          25734,
          18858,
          12858,
          18304,
          14389,
          21434,
          12976,
          17488,
          8777,
          15764,
          17431,
          19110,
          14933,
          23389,
          14857,
          21423,
          19311,
          22102,
          20264,
          30110,
          25569,
          20633,
          20744,
          12170,
          14457,
          15908,
          14678,
          15533,
          15554,
          15142,
          15254,
          19860,
          12163,
          13516,
          15770,
          13459,
          13387,
          15167,
          15049,
          13813,
          12425,
          12218,
          12129,
          13930,
          14985,
          16321,
          14819,
          14970,
          14435,
          7485,
          8905,
          9603,
          10984,
          11571,
          11360,
          13883,
          11059,
          11693,
          13075,
          12463
         ],
         "xaxis": "x",
         "yaxis": "y"
        }
       ],
       "layout": {
        "bargap": 0.1,
        "barmode": "relative",
        "height": 600,
        "legend": {
         "tracegroupgap": 0
        },
        "margin": {
         "b": 40,
         "l": 40,
         "r": 40,
         "t": 60
        },
        "paper_bgcolor": "rgba(0,0,0,0)",
        "plot_bgcolor": "rgba(0,0,0,0)",
        "template": {
         "data": {
          "bar": [
           {
            "error_x": {
             "color": "#2a3f5f"
            },
            "error_y": {
             "color": "#2a3f5f"
            },
            "marker": {
             "line": {
              "color": "#E5ECF6",
              "width": 0.5
             },
             "pattern": {
              "fillmode": "overlay",
              "size": 10,
              "solidity": 0.2
             }
            },
            "type": "bar"
           }
          ],
          "barpolar": [
           {
            "marker": {
             "line": {
              "color": "#E5ECF6",
              "width": 0.5
             },
             "pattern": {
              "fillmode": "overlay",
              "size": 10,
              "solidity": 0.2
             }
            },
            "type": "barpolar"
           }
          ],
          "carpet": [
           {
            "aaxis": {
             "endlinecolor": "#2a3f5f",
             "gridcolor": "white",
             "linecolor": "white",
             "minorgridcolor": "white",
             "startlinecolor": "#2a3f5f"
            },
            "baxis": {
             "endlinecolor": "#2a3f5f",
             "gridcolor": "white",
             "linecolor": "white",
             "minorgridcolor": "white",
             "startlinecolor": "#2a3f5f"
            },
            "type": "carpet"
           }
          ],
          "choropleth": [
           {
            "colorbar": {
             "outlinewidth": 0,
             "ticks": ""
            },
            "type": "choropleth"
           }
          ],
          "contour": [
           {
            "colorbar": {
             "outlinewidth": 0,
             "ticks": ""
            },
            "colorscale": [
             [
              0,
              "#0d0887"
             ],
             [
              0.1111111111111111,
              "#46039f"
             ],
             [
              0.2222222222222222,
              "#7201a8"
             ],
             [
              0.3333333333333333,
              "#9c179e"
             ],
             [
              0.4444444444444444,
              "#bd3786"
             ],
             [
              0.5555555555555556,
              "#d8576b"
             ],
             [
              0.6666666666666666,
              "#ed7953"
             ],
             [
              0.7777777777777778,
              "#fb9f3a"
             ],
             [
              0.8888888888888888,
              "#fdca26"
             ],
             [
              1,
              "#f0f921"
             ]
            ],
            "type": "contour"
           }
          ],
          "contourcarpet": [
           {
            "colorbar": {
             "outlinewidth": 0,
             "ticks": ""
            },
            "type": "contourcarpet"
           }
          ],
          "heatmap": [
           {
            "colorbar": {
             "outlinewidth": 0,
             "ticks": ""
            },
            "colorscale": [
             [
              0,
              "#0d0887"
             ],
             [
              0.1111111111111111,
              "#46039f"
             ],
             [
              0.2222222222222222,
              "#7201a8"
             ],
             [
              0.3333333333333333,
              "#9c179e"
             ],
             [
              0.4444444444444444,
              "#bd3786"
             ],
             [
              0.5555555555555556,
              "#d8576b"
             ],
             [
              0.6666666666666666,
              "#ed7953"
             ],
             [
              0.7777777777777778,
              "#fb9f3a"
             ],
             [
              0.8888888888888888,
              "#fdca26"
             ],
             [
              1,
              "#f0f921"
             ]
            ],
            "type": "heatmap"
           }
          ],
          "heatmapgl": [
           {
            "colorbar": {
             "outlinewidth": 0,
             "ticks": ""
            },
            "colorscale": [
             [
              0,
              "#0d0887"
             ],
             [
              0.1111111111111111,
              "#46039f"
             ],
             [
              0.2222222222222222,
              "#7201a8"
             ],
             [
              0.3333333333333333,
              "#9c179e"
             ],
             [
              0.4444444444444444,
              "#bd3786"
             ],
             [
              0.5555555555555556,
              "#d8576b"
             ],
             [
              0.6666666666666666,
              "#ed7953"
             ],
             [
              0.7777777777777778,
              "#fb9f3a"
             ],
             [
              0.8888888888888888,
              "#fdca26"
             ],
             [
              1,
              "#f0f921"
             ]
            ],
            "type": "heatmapgl"
           }
          ],
          "histogram": [
           {
            "marker": {
             "pattern": {
              "fillmode": "overlay",
              "size": 10,
              "solidity": 0.2
             }
            },
            "type": "histogram"
           }
          ],
          "histogram2d": [
           {
            "colorbar": {
             "outlinewidth": 0,
             "ticks": ""
            },
            "colorscale": [
             [
              0,
              "#0d0887"
             ],
             [
              0.1111111111111111,
              "#46039f"
             ],
             [
              0.2222222222222222,
              "#7201a8"
             ],
             [
              0.3333333333333333,
              "#9c179e"
             ],
             [
              0.4444444444444444,
              "#bd3786"
             ],
             [
              0.5555555555555556,
              "#d8576b"
             ],
             [
              0.6666666666666666,
              "#ed7953"
             ],
             [
              0.7777777777777778,
              "#fb9f3a"
             ],
             [
              0.8888888888888888,
              "#fdca26"
             ],
             [
              1,
              "#f0f921"
             ]
            ],
            "type": "histogram2d"
           }
          ],
          "histogram2dcontour": [
           {
            "colorbar": {
             "outlinewidth": 0,
             "ticks": ""
            },
            "colorscale": [
             [
              0,
              "#0d0887"
             ],
             [
              0.1111111111111111,
              "#46039f"
             ],
             [
              0.2222222222222222,
              "#7201a8"
             ],
             [
              0.3333333333333333,
              "#9c179e"
             ],
             [
              0.4444444444444444,
              "#bd3786"
             ],
             [
              0.5555555555555556,
              "#d8576b"
             ],
             [
              0.6666666666666666,
              "#ed7953"
             ],
             [
              0.7777777777777778,
              "#fb9f3a"
             ],
             [
              0.8888888888888888,
              "#fdca26"
             ],
             [
              1,
              "#f0f921"
             ]
            ],
            "type": "histogram2dcontour"
           }
          ],
          "mesh3d": [
           {
            "colorbar": {
             "outlinewidth": 0,
             "ticks": ""
            },
            "type": "mesh3d"
           }
          ],
          "parcoords": [
           {
            "line": {
             "colorbar": {
              "outlinewidth": 0,
              "ticks": ""
             }
            },
            "type": "parcoords"
           }
          ],
          "pie": [
           {
            "automargin": true,
            "type": "pie"
           }
          ],
          "scatter": [
           {
            "fillpattern": {
             "fillmode": "overlay",
             "size": 10,
             "solidity": 0.2
            },
            "type": "scatter"
           }
          ],
          "scatter3d": [
           {
            "line": {
             "colorbar": {
              "outlinewidth": 0,
              "ticks": ""
             }
            },
            "marker": {
             "colorbar": {
              "outlinewidth": 0,
              "ticks": ""
             }
            },
            "type": "scatter3d"
           }
          ],
          "scattercarpet": [
           {
            "marker": {
             "colorbar": {
              "outlinewidth": 0,
              "ticks": ""
             }
            },
            "type": "scattercarpet"
           }
          ],
          "scattergeo": [
           {
            "marker": {
             "colorbar": {
              "outlinewidth": 0,
              "ticks": ""
             }
            },
            "type": "scattergeo"
           }
          ],
          "scattergl": [
           {
            "marker": {
             "colorbar": {
              "outlinewidth": 0,
              "ticks": ""
             }
            },
            "type": "scattergl"
           }
          ],
          "scattermapbox": [
           {
            "marker": {
             "colorbar": {
              "outlinewidth": 0,
              "ticks": ""
             }
            },
            "type": "scattermapbox"
           }
          ],
          "scatterpolar": [
           {
            "marker": {
             "colorbar": {
              "outlinewidth": 0,
              "ticks": ""
             }
            },
            "type": "scatterpolar"
           }
          ],
          "scatterpolargl": [
           {
            "marker": {
             "colorbar": {
              "outlinewidth": 0,
              "ticks": ""
             }
            },
            "type": "scatterpolargl"
           }
          ],
          "scatterternary": [
           {
            "marker": {
             "colorbar": {
              "outlinewidth": 0,
              "ticks": ""
             }
            },
            "type": "scatterternary"
           }
          ],
          "surface": [
           {
            "colorbar": {
             "outlinewidth": 0,
             "ticks": ""
            },
            "colorscale": [
             [
              0,
              "#0d0887"
             ],
             [
              0.1111111111111111,
              "#46039f"
             ],
             [
              0.2222222222222222,
              "#7201a8"
             ],
             [
              0.3333333333333333,
              "#9c179e"
             ],
             [
              0.4444444444444444,
              "#bd3786"
             ],
             [
              0.5555555555555556,
              "#d8576b"
             ],
             [
              0.6666666666666666,
              "#ed7953"
             ],
             [
              0.7777777777777778,
              "#fb9f3a"
             ],
             [
              0.8888888888888888,
              "#fdca26"
             ],
             [
              1,
              "#f0f921"
             ]
            ],
            "type": "surface"
           }
          ],
          "table": [
           {
            "cells": {
             "fill": {
              "color": "#EBF0F8"
             },
             "line": {
              "color": "white"
             }
            },
            "header": {
             "fill": {
              "color": "#C8D4E3"
             },
             "line": {
              "color": "white"
             }
            },
            "type": "table"
           }
          ]
         },
         "layout": {
          "annotationdefaults": {
           "arrowcolor": "#2a3f5f",
           "arrowhead": 0,
           "arrowwidth": 1
          },
          "autotypenumbers": "strict",
          "coloraxis": {
           "colorbar": {
            "outlinewidth": 0,
            "ticks": ""
           }
          },
          "colorscale": {
           "diverging": [
            [
             0,
             "#8e0152"
            ],
            [
             0.1,
             "#c51b7d"
            ],
            [
             0.2,
             "#de77ae"
            ],
            [
             0.3,
             "#f1b6da"
            ],
            [
             0.4,
             "#fde0ef"
            ],
            [
             0.5,
             "#f7f7f7"
            ],
            [
             0.6,
             "#e6f5d0"
            ],
            [
             0.7,
             "#b8e186"
            ],
            [
             0.8,
             "#7fbc41"
            ],
            [
             0.9,
             "#4d9221"
            ],
            [
             1,
             "#276419"
            ]
           ],
           "sequential": [
            [
             0,
             "#0d0887"
            ],
            [
             0.1111111111111111,
             "#46039f"
            ],
            [
             0.2222222222222222,
             "#7201a8"
            ],
            [
             0.3333333333333333,
             "#9c179e"
            ],
            [
             0.4444444444444444,
             "#bd3786"
            ],
            [
             0.5555555555555556,
             "#d8576b"
            ],
            [
             0.6666666666666666,
             "#ed7953"
            ],
            [
             0.7777777777777778,
             "#fb9f3a"
            ],
            [
             0.8888888888888888,
             "#fdca26"
            ],
            [
             1,
             "#f0f921"
            ]
           ],
           "sequentialminus": [
            [
             0,
             "#0d0887"
            ],
            [
             0.1111111111111111,
             "#46039f"
            ],
            [
             0.2222222222222222,
             "#7201a8"
            ],
            [
             0.3333333333333333,
             "#9c179e"
            ],
            [
             0.4444444444444444,
             "#bd3786"
            ],
            [
             0.5555555555555556,
             "#d8576b"
            ],
            [
             0.6666666666666666,
             "#ed7953"
            ],
            [
             0.7777777777777778,
             "#fb9f3a"
            ],
            [
             0.8888888888888888,
             "#fdca26"
            ],
            [
             1,
             "#f0f921"
            ]
           ]
          },
          "colorway": [
           "#636efa",
           "#EF553B",
           "#00cc96",
           "#ab63fa",
           "#FFA15A",
           "#19d3f3",
           "#FF6692",
           "#B6E880",
           "#FF97FF",
           "#FECB52"
          ],
          "font": {
           "color": "#2a3f5f"
          },
          "geo": {
           "bgcolor": "white",
           "lakecolor": "white",
           "landcolor": "#E5ECF6",
           "showlakes": true,
           "showland": true,
           "subunitcolor": "white"
          },
          "hoverlabel": {
           "align": "left"
          },
          "hovermode": "closest",
          "mapbox": {
           "style": "light"
          },
          "paper_bgcolor": "white",
          "plot_bgcolor": "#E5ECF6",
          "polar": {
           "angularaxis": {
            "gridcolor": "white",
            "linecolor": "white",
            "ticks": ""
           },
           "bgcolor": "#E5ECF6",
           "radialaxis": {
            "gridcolor": "white",
            "linecolor": "white",
            "ticks": ""
           }
          },
          "scene": {
           "xaxis": {
            "backgroundcolor": "#E5ECF6",
            "gridcolor": "white",
            "gridwidth": 2,
            "linecolor": "white",
            "showbackground": true,
            "ticks": "",
            "zerolinecolor": "white"
           },
           "yaxis": {
            "backgroundcolor": "#E5ECF6",
            "gridcolor": "white",
            "gridwidth": 2,
            "linecolor": "white",
            "showbackground": true,
            "ticks": "",
            "zerolinecolor": "white"
           },
           "zaxis": {
            "backgroundcolor": "#E5ECF6",
            "gridcolor": "white",
            "gridwidth": 2,
            "linecolor": "white",
            "showbackground": true,
            "ticks": "",
            "zerolinecolor": "white"
           }
          },
          "shapedefaults": {
           "line": {
            "color": "#2a3f5f"
           }
          },
          "ternary": {
           "aaxis": {
            "gridcolor": "white",
            "linecolor": "white",
            "ticks": ""
           },
           "baxis": {
            "gridcolor": "white",
            "linecolor": "white",
            "ticks": ""
           },
           "bgcolor": "#E5ECF6",
           "caxis": {
            "gridcolor": "white",
            "linecolor": "white",
            "ticks": ""
           }
          },
          "title": {
           "x": 0.05
          },
          "xaxis": {
           "automargin": true,
           "gridcolor": "white",
           "linecolor": "white",
           "ticks": "",
           "title": {
            "standoff": 15
           },
           "zerolinecolor": "white",
           "zerolinewidth": 2
          },
          "yaxis": {
           "automargin": true,
           "gridcolor": "white",
           "linecolor": "white",
           "ticks": "",
           "title": {
            "standoff": 15
           },
           "zerolinecolor": "white",
           "zerolinewidth": 2
          }
         }
        },
        "title": {
         "text": "Distribución de tokens en Podcasts con QA"
        },
        "xaxis": {
         "anchor": "y",
         "domain": [
          0,
          1
         ],
         "tickangle": 0,
         "title": {
          "text": "Número de Tokens"
         }
        },
        "yaxis": {
         "anchor": "x",
         "domain": [
          0,
          1
         ],
         "title": {
          "text": "Frecuencia"
         }
        }
       }
      }
     },
     "metadata": {},
     "output_type": "display_data"
    }
   ],
   "source": [
    "# Create a histogram of the token count distribution using Plotly\n",
    "fig = px.histogram(\n",
    "    podcasts_clean,\n",
    "    x=\"tokens\",\n",
    "    nbins=25,  \n",
    "    title=\"Distribución de tokens en Podcasts con QA\",\n",
    "    labels={\"tokens\": \"Token count\"},\n",
    ")\n",
    "\n",
    "# # Customize the layout\n",
    "# fig.update_layout(\n",
    "#     xaxis_title=\"Número de Tokens\",\n",
    "#     yaxis_title=\"Frecuencia\",\n",
    "#     bargap=0.2,\n",
    "# )\n",
    "\n",
    "fig.update_layout(\n",
    "    paper_bgcolor='rgba(0,0,0,0)',          # Transparent paper background\n",
    "    plot_bgcolor='rgba(0,0,0,0)',           # Transparent plot background\n",
    "    xaxis_tickangle=0,  \n",
    "    bargap=0.1,                  # Rotate x-axis labels for better readability\n",
    "    xaxis_title=\"Número de Tokens\",    # X-axis title in Spanish\n",
    "    yaxis_title=\"Frecuencia\",   # Y-axis title in Spanish\n",
    "    margin=dict(l=40, r=40, t=60, b=40),      # Adjust margins\n",
    "    height=600                                # Set plot height\n",
    ")\n",
    "# Show the plot\n",
    "fig.show()"
   ]
  },
  {
   "cell_type": "code",
   "execution_count": 164,
   "metadata": {},
   "outputs": [
    {
     "name": "stdout",
     "output_type": "stream",
     "text": [
      "Available Columns in DataFrame:\n",
      "['post_url', 'post_title', 'series_number', 'blog_date', 'blog_title', 'file_name', 'has_transcript', 'text', 'cleaned_text', 'tokens']\n",
      "Media de tokens: 34747\n"
     ]
    },
    {
     "data": {
      "application/vnd.plotly.v1+json": {
       "config": {
        "plotlyServerURL": "https://plot.ly"
       },
       "data": [
        {
         "alignmentgroup": "True",
         "bingroup": "x",
         "hovertemplate": "Token count=%{x}<br>count=%{y}<extra></extra>",
         "legendgroup": "",
         "marker": {
          "color": "#636efa",
          "pattern": {
           "shape": ""
          }
         },
         "name": "",
         "nbinsx": 5,
         "offsetgroup": "",
         "orientation": "v",
         "showlegend": false,
         "type": "histogram",
         "x": [
          37417,
          35198,
          45242,
          39313,
          43266,
          29535,
          44595,
          43104,
          41752,
          14174,
          37330,
          53907,
          34119,
          26891,
          23997,
          27677,
          19761,
          35964,
          37650,
          36671,
          32352,
          34747,
          31354,
          29261,
          25734,
          21434,
          25569
         ],
         "xaxis": "x",
         "yaxis": "y"
        }
       ],
       "layout": {
        "annotations": [
         {
          "font": {
           "color": "red"
          },
          "showarrow": false,
          "text": "Mediana: 34747.00",
          "x": 34747,
          "xanchor": "left",
          "xref": "x",
          "y": 0.95,
          "yanchor": "top",
          "yref": "y domain"
         }
        ],
        "bargap": 0.1,
        "barmode": "relative",
        "height": 600,
        "legend": {
         "tracegroupgap": 0
        },
        "margin": {
         "b": 40,
         "l": 40,
         "r": 40,
         "t": 60
        },
        "paper_bgcolor": "rgba(0,0,0,0)",
        "plot_bgcolor": "rgba(0,0,0,0)",
        "shapes": [
         {
          "line": {
           "color": "red",
           "dash": "dash"
          },
          "type": "line",
          "x0": 34747,
          "x1": 34747,
          "xref": "x",
          "y0": 0,
          "y1": 1,
          "yref": "y domain"
         }
        ],
        "template": {
         "data": {
          "bar": [
           {
            "error_x": {
             "color": "#2a3f5f"
            },
            "error_y": {
             "color": "#2a3f5f"
            },
            "marker": {
             "line": {
              "color": "#E5ECF6",
              "width": 0.5
             },
             "pattern": {
              "fillmode": "overlay",
              "size": 10,
              "solidity": 0.2
             }
            },
            "type": "bar"
           }
          ],
          "barpolar": [
           {
            "marker": {
             "line": {
              "color": "#E5ECF6",
              "width": 0.5
             },
             "pattern": {
              "fillmode": "overlay",
              "size": 10,
              "solidity": 0.2
             }
            },
            "type": "barpolar"
           }
          ],
          "carpet": [
           {
            "aaxis": {
             "endlinecolor": "#2a3f5f",
             "gridcolor": "white",
             "linecolor": "white",
             "minorgridcolor": "white",
             "startlinecolor": "#2a3f5f"
            },
            "baxis": {
             "endlinecolor": "#2a3f5f",
             "gridcolor": "white",
             "linecolor": "white",
             "minorgridcolor": "white",
             "startlinecolor": "#2a3f5f"
            },
            "type": "carpet"
           }
          ],
          "choropleth": [
           {
            "colorbar": {
             "outlinewidth": 0,
             "ticks": ""
            },
            "type": "choropleth"
           }
          ],
          "contour": [
           {
            "colorbar": {
             "outlinewidth": 0,
             "ticks": ""
            },
            "colorscale": [
             [
              0,
              "#0d0887"
             ],
             [
              0.1111111111111111,
              "#46039f"
             ],
             [
              0.2222222222222222,
              "#7201a8"
             ],
             [
              0.3333333333333333,
              "#9c179e"
             ],
             [
              0.4444444444444444,
              "#bd3786"
             ],
             [
              0.5555555555555556,
              "#d8576b"
             ],
             [
              0.6666666666666666,
              "#ed7953"
             ],
             [
              0.7777777777777778,
              "#fb9f3a"
             ],
             [
              0.8888888888888888,
              "#fdca26"
             ],
             [
              1,
              "#f0f921"
             ]
            ],
            "type": "contour"
           }
          ],
          "contourcarpet": [
           {
            "colorbar": {
             "outlinewidth": 0,
             "ticks": ""
            },
            "type": "contourcarpet"
           }
          ],
          "heatmap": [
           {
            "colorbar": {
             "outlinewidth": 0,
             "ticks": ""
            },
            "colorscale": [
             [
              0,
              "#0d0887"
             ],
             [
              0.1111111111111111,
              "#46039f"
             ],
             [
              0.2222222222222222,
              "#7201a8"
             ],
             [
              0.3333333333333333,
              "#9c179e"
             ],
             [
              0.4444444444444444,
              "#bd3786"
             ],
             [
              0.5555555555555556,
              "#d8576b"
             ],
             [
              0.6666666666666666,
              "#ed7953"
             ],
             [
              0.7777777777777778,
              "#fb9f3a"
             ],
             [
              0.8888888888888888,
              "#fdca26"
             ],
             [
              1,
              "#f0f921"
             ]
            ],
            "type": "heatmap"
           }
          ],
          "heatmapgl": [
           {
            "colorbar": {
             "outlinewidth": 0,
             "ticks": ""
            },
            "colorscale": [
             [
              0,
              "#0d0887"
             ],
             [
              0.1111111111111111,
              "#46039f"
             ],
             [
              0.2222222222222222,
              "#7201a8"
             ],
             [
              0.3333333333333333,
              "#9c179e"
             ],
             [
              0.4444444444444444,
              "#bd3786"
             ],
             [
              0.5555555555555556,
              "#d8576b"
             ],
             [
              0.6666666666666666,
              "#ed7953"
             ],
             [
              0.7777777777777778,
              "#fb9f3a"
             ],
             [
              0.8888888888888888,
              "#fdca26"
             ],
             [
              1,
              "#f0f921"
             ]
            ],
            "type": "heatmapgl"
           }
          ],
          "histogram": [
           {
            "marker": {
             "pattern": {
              "fillmode": "overlay",
              "size": 10,
              "solidity": 0.2
             }
            },
            "type": "histogram"
           }
          ],
          "histogram2d": [
           {
            "colorbar": {
             "outlinewidth": 0,
             "ticks": ""
            },
            "colorscale": [
             [
              0,
              "#0d0887"
             ],
             [
              0.1111111111111111,
              "#46039f"
             ],
             [
              0.2222222222222222,
              "#7201a8"
             ],
             [
              0.3333333333333333,
              "#9c179e"
             ],
             [
              0.4444444444444444,
              "#bd3786"
             ],
             [
              0.5555555555555556,
              "#d8576b"
             ],
             [
              0.6666666666666666,
              "#ed7953"
             ],
             [
              0.7777777777777778,
              "#fb9f3a"
             ],
             [
              0.8888888888888888,
              "#fdca26"
             ],
             [
              1,
              "#f0f921"
             ]
            ],
            "type": "histogram2d"
           }
          ],
          "histogram2dcontour": [
           {
            "colorbar": {
             "outlinewidth": 0,
             "ticks": ""
            },
            "colorscale": [
             [
              0,
              "#0d0887"
             ],
             [
              0.1111111111111111,
              "#46039f"
             ],
             [
              0.2222222222222222,
              "#7201a8"
             ],
             [
              0.3333333333333333,
              "#9c179e"
             ],
             [
              0.4444444444444444,
              "#bd3786"
             ],
             [
              0.5555555555555556,
              "#d8576b"
             ],
             [
              0.6666666666666666,
              "#ed7953"
             ],
             [
              0.7777777777777778,
              "#fb9f3a"
             ],
             [
              0.8888888888888888,
              "#fdca26"
             ],
             [
              1,
              "#f0f921"
             ]
            ],
            "type": "histogram2dcontour"
           }
          ],
          "mesh3d": [
           {
            "colorbar": {
             "outlinewidth": 0,
             "ticks": ""
            },
            "type": "mesh3d"
           }
          ],
          "parcoords": [
           {
            "line": {
             "colorbar": {
              "outlinewidth": 0,
              "ticks": ""
             }
            },
            "type": "parcoords"
           }
          ],
          "pie": [
           {
            "automargin": true,
            "type": "pie"
           }
          ],
          "scatter": [
           {
            "fillpattern": {
             "fillmode": "overlay",
             "size": 10,
             "solidity": 0.2
            },
            "type": "scatter"
           }
          ],
          "scatter3d": [
           {
            "line": {
             "colorbar": {
              "outlinewidth": 0,
              "ticks": ""
             }
            },
            "marker": {
             "colorbar": {
              "outlinewidth": 0,
              "ticks": ""
             }
            },
            "type": "scatter3d"
           }
          ],
          "scattercarpet": [
           {
            "marker": {
             "colorbar": {
              "outlinewidth": 0,
              "ticks": ""
             }
            },
            "type": "scattercarpet"
           }
          ],
          "scattergeo": [
           {
            "marker": {
             "colorbar": {
              "outlinewidth": 0,
              "ticks": ""
             }
            },
            "type": "scattergeo"
           }
          ],
          "scattergl": [
           {
            "marker": {
             "colorbar": {
              "outlinewidth": 0,
              "ticks": ""
             }
            },
            "type": "scattergl"
           }
          ],
          "scattermapbox": [
           {
            "marker": {
             "colorbar": {
              "outlinewidth": 0,
              "ticks": ""
             }
            },
            "type": "scattermapbox"
           }
          ],
          "scatterpolar": [
           {
            "marker": {
             "colorbar": {
              "outlinewidth": 0,
              "ticks": ""
             }
            },
            "type": "scatterpolar"
           }
          ],
          "scatterpolargl": [
           {
            "marker": {
             "colorbar": {
              "outlinewidth": 0,
              "ticks": ""
             }
            },
            "type": "scatterpolargl"
           }
          ],
          "scatterternary": [
           {
            "marker": {
             "colorbar": {
              "outlinewidth": 0,
              "ticks": ""
             }
            },
            "type": "scatterternary"
           }
          ],
          "surface": [
           {
            "colorbar": {
             "outlinewidth": 0,
             "ticks": ""
            },
            "colorscale": [
             [
              0,
              "#0d0887"
             ],
             [
              0.1111111111111111,
              "#46039f"
             ],
             [
              0.2222222222222222,
              "#7201a8"
             ],
             [
              0.3333333333333333,
              "#9c179e"
             ],
             [
              0.4444444444444444,
              "#bd3786"
             ],
             [
              0.5555555555555556,
              "#d8576b"
             ],
             [
              0.6666666666666666,
              "#ed7953"
             ],
             [
              0.7777777777777778,
              "#fb9f3a"
             ],
             [
              0.8888888888888888,
              "#fdca26"
             ],
             [
              1,
              "#f0f921"
             ]
            ],
            "type": "surface"
           }
          ],
          "table": [
           {
            "cells": {
             "fill": {
              "color": "#EBF0F8"
             },
             "line": {
              "color": "white"
             }
            },
            "header": {
             "fill": {
              "color": "#C8D4E3"
             },
             "line": {
              "color": "white"
             }
            },
            "type": "table"
           }
          ]
         },
         "layout": {
          "annotationdefaults": {
           "arrowcolor": "#2a3f5f",
           "arrowhead": 0,
           "arrowwidth": 1
          },
          "autotypenumbers": "strict",
          "coloraxis": {
           "colorbar": {
            "outlinewidth": 0,
            "ticks": ""
           }
          },
          "colorscale": {
           "diverging": [
            [
             0,
             "#8e0152"
            ],
            [
             0.1,
             "#c51b7d"
            ],
            [
             0.2,
             "#de77ae"
            ],
            [
             0.3,
             "#f1b6da"
            ],
            [
             0.4,
             "#fde0ef"
            ],
            [
             0.5,
             "#f7f7f7"
            ],
            [
             0.6,
             "#e6f5d0"
            ],
            [
             0.7,
             "#b8e186"
            ],
            [
             0.8,
             "#7fbc41"
            ],
            [
             0.9,
             "#4d9221"
            ],
            [
             1,
             "#276419"
            ]
           ],
           "sequential": [
            [
             0,
             "#0d0887"
            ],
            [
             0.1111111111111111,
             "#46039f"
            ],
            [
             0.2222222222222222,
             "#7201a8"
            ],
            [
             0.3333333333333333,
             "#9c179e"
            ],
            [
             0.4444444444444444,
             "#bd3786"
            ],
            [
             0.5555555555555556,
             "#d8576b"
            ],
            [
             0.6666666666666666,
             "#ed7953"
            ],
            [
             0.7777777777777778,
             "#fb9f3a"
            ],
            [
             0.8888888888888888,
             "#fdca26"
            ],
            [
             1,
             "#f0f921"
            ]
           ],
           "sequentialminus": [
            [
             0,
             "#0d0887"
            ],
            [
             0.1111111111111111,
             "#46039f"
            ],
            [
             0.2222222222222222,
             "#7201a8"
            ],
            [
             0.3333333333333333,
             "#9c179e"
            ],
            [
             0.4444444444444444,
             "#bd3786"
            ],
            [
             0.5555555555555556,
             "#d8576b"
            ],
            [
             0.6666666666666666,
             "#ed7953"
            ],
            [
             0.7777777777777778,
             "#fb9f3a"
            ],
            [
             0.8888888888888888,
             "#fdca26"
            ],
            [
             1,
             "#f0f921"
            ]
           ]
          },
          "colorway": [
           "#636efa",
           "#EF553B",
           "#00cc96",
           "#ab63fa",
           "#FFA15A",
           "#19d3f3",
           "#FF6692",
           "#B6E880",
           "#FF97FF",
           "#FECB52"
          ],
          "font": {
           "color": "#2a3f5f"
          },
          "geo": {
           "bgcolor": "white",
           "lakecolor": "white",
           "landcolor": "#E5ECF6",
           "showlakes": true,
           "showland": true,
           "subunitcolor": "white"
          },
          "hoverlabel": {
           "align": "left"
          },
          "hovermode": "closest",
          "mapbox": {
           "style": "light"
          },
          "paper_bgcolor": "white",
          "plot_bgcolor": "#E5ECF6",
          "polar": {
           "angularaxis": {
            "gridcolor": "white",
            "linecolor": "white",
            "ticks": ""
           },
           "bgcolor": "#E5ECF6",
           "radialaxis": {
            "gridcolor": "white",
            "linecolor": "white",
            "ticks": ""
           }
          },
          "scene": {
           "xaxis": {
            "backgroundcolor": "#E5ECF6",
            "gridcolor": "white",
            "gridwidth": 2,
            "linecolor": "white",
            "showbackground": true,
            "ticks": "",
            "zerolinecolor": "white"
           },
           "yaxis": {
            "backgroundcolor": "#E5ECF6",
            "gridcolor": "white",
            "gridwidth": 2,
            "linecolor": "white",
            "showbackground": true,
            "ticks": "",
            "zerolinecolor": "white"
           },
           "zaxis": {
            "backgroundcolor": "#E5ECF6",
            "gridcolor": "white",
            "gridwidth": 2,
            "linecolor": "white",
            "showbackground": true,
            "ticks": "",
            "zerolinecolor": "white"
           }
          },
          "shapedefaults": {
           "line": {
            "color": "#2a3f5f"
           }
          },
          "ternary": {
           "aaxis": {
            "gridcolor": "white",
            "linecolor": "white",
            "ticks": ""
           },
           "baxis": {
            "gridcolor": "white",
            "linecolor": "white",
            "ticks": ""
           },
           "bgcolor": "#E5ECF6",
           "caxis": {
            "gridcolor": "white",
            "linecolor": "white",
            "ticks": ""
           }
          },
          "title": {
           "x": 0.05
          },
          "xaxis": {
           "automargin": true,
           "gridcolor": "white",
           "linecolor": "white",
           "ticks": "",
           "title": {
            "standoff": 15
           },
           "zerolinecolor": "white",
           "zerolinewidth": 2
          },
          "yaxis": {
           "automargin": true,
           "gridcolor": "white",
           "linecolor": "white",
           "ticks": "",
           "title": {
            "standoff": 15
           },
           "zerolinecolor": "white",
           "zerolinewidth": 2
          }
         }
        },
        "title": {
         "text": "Distribución de tokens en podcasts con transcripción"
        },
        "xaxis": {
         "anchor": "y",
         "domain": [
          0,
          1
         ],
         "showgrid": false,
         "tickangle": 0,
         "title": {
          "text": "Número de Tokens"
         },
         "zeroline": false
        },
        "yaxis": {
         "anchor": "x",
         "domain": [
          0,
          1
         ],
         "showgrid": false,
         "title": {
          "text": "Frecuencia"
         },
         "zeroline": false
        }
       }
      }
     },
     "metadata": {},
     "output_type": "display_data"
    }
   ],
   "source": [
    "import polars as pl\n",
    "import plotly.express as px\n",
    "\n",
    "# Paso 1: Verificar los nombres de las columnas para asegurar que son correctos\n",
    "print(\"Available Columns in DataFrame:\")\n",
    "print(podcasts_clean.columns)\n",
    "\n",
    "# Paso 2: Filtrar las filas que tienen QA\n",
    "podcasts_with_qa = podcasts_clean.join(\n",
    "    qa.select('file_name').unique(),\n",
    "    on='file_name',\n",
    "    how='semi'\n",
    ")\n",
    "\n",
    "# Paso 3: Calcular la media de los tokens\n",
    "mean_tokens = podcasts_with_qa[\"tokens\"].median()\n",
    "print(f\"Media de tokens: {mean_tokens:.0f}\")\n",
    "\n",
    "# Paso 4: Crear el histograma con colores basados en la correctitud\n",
    "fig = px.histogram(\n",
    "    podcasts_with_qa,\n",
    "    x=\"tokens\",\n",
    "    nbins=5,  \n",
    "    title=\"Distribución de tokens en podcasts con transcripción\",\n",
    "    labels={\"tokens\": \"Token count\"},\n",
    ")\n",
    "\n",
    "# Paso 5: Personalizar el layout\n",
    "fig.update_layout(\n",
    "    paper_bgcolor='rgba(0,0,0,0)',          # Fondo transparente\n",
    "    plot_bgcolor='rgba(0,0,0,0)',           # Fondo de la trama transparente\n",
    "    xaxis_tickangle=0,  \n",
    "    bargap=0.1,                  # Espacio entre barras\n",
    "    xaxis_title=\"Número de Tokens\",    # Título eje X en español\n",
    "    yaxis_title=\"Frecuencia\",   # Título eje Y en español\n",
    "    margin=dict(l=40, r=40, t=60, b=40),      # Márgenes alrededor del gráfico\n",
    "    height=600                                # Altura del gráfico en píxeles\n",
    ")\n",
    "\n",
    "# Paso 6: Añadir línea vertical roja con guiones y etiqueta de la media\n",
    "fig.add_vline(\n",
    "    x=mean_tokens,\n",
    "    line=dict(color='red', dash='dash'),\n",
    "    annotation=dict(\n",
    "        text=f\"Mediana: {mean_tokens:.2f}\",\n",
    "        showarrow=False,\n",
    "        x=mean_tokens,\n",
    "        y=0.95,\n",
    "        yref='paper',\n",
    "        xanchor='left',\n",
    "        font=dict(color='red')\n",
    "    )\n",
    ")\n",
    "\n",
    "# Paso 7: Quitar el marco blanco y ajustar estilo de ejes\n",
    "fig.update_xaxes(showgrid=False, zeroline=False)\n",
    "fig.update_yaxes(showgrid=False, zeroline=False)\n",
    "\n",
    "# Paso 8: Mostrar el gráfico\n",
    "fig.show()"
   ]
  }
 ],
 "metadata": {
  "kernelspec": {
   "display_name": "grag-EOKyDehK-py3.12",
   "language": "python",
   "name": "python3"
  },
  "language_info": {
   "codemirror_mode": {
    "name": "ipython",
    "version": 3
   },
   "file_extension": ".py",
   "mimetype": "text/x-python",
   "name": "python",
   "nbconvert_exporter": "python",
   "pygments_lexer": "ipython3",
   "version": "3.12.4"
  }
 },
 "nbformat": 4,
 "nbformat_minor": 2
}
